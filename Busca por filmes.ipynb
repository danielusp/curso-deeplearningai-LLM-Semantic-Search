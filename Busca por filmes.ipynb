{
 "cells": [
  {
   "cell_type": "markdown",
   "id": "98eecf0e-d767-44ba-a11c-2e9c686da587",
   "metadata": {},
   "source": [
    "# <span style=\"color:#ac0707;\">Large Language Models with Semantic Search - Projeto de finalização do curso</span>"
   ]
  },
  {
   "cell_type": "markdown",
   "id": "59483fb2-547e-4bd4-9397-1e1882450e3a",
   "metadata": {},
   "source": [
    "Este projeto foi criado a partir da finalização do curso da deeplearning.ai - Large Language Models with Semantic Search\n",
    "\n",
    "O curso, em parceria com a Cohere, tem como objetivo utilizar LLMs (Large Language Models) para busca semântica (ou busca por similaridade).\n",
    "\n",
    "\n",
    "Peça chave deste curso são os ***embeddings*** cujo conceito será explorado no primeiro tópico do projeto a seguir."
   ]
  },
  {
   "cell_type": "markdown",
   "id": "6dbf46f5-1502-4625-a9a4-4bb1357da0bc",
   "metadata": {},
   "source": [
    "# <span style=\"color: #6850e5;\">Análise da relação entre filmes brasileiros usando Embeddings</span>"
   ]
  },
  {
   "cell_type": "markdown",
   "id": "84d6b0a3-ad81-48d1-9b9d-78a1d539e868",
   "metadata": {},
   "source": [
    "O objetivo desta análise é utilizar ***embeddings*** para verificar a relação de proximidade entre diversos filmes brasileiros."
   ]
  },
  {
   "cell_type": "markdown",
   "id": "edeb03c2-8ce0-4a6b-b773-5608bf99131c",
   "metadata": {},
   "source": [
    "*\"***Embeddings*** são representações numéricas usadas em aprendizado de máquina e processamento de linguagem natural (NLP) para capturar semelhanças entre objetos em um espaço vetorial. Elas podem ser de palavras, documentos, imagens...\"*"
   ]
  },
  {
   "cell_type": "markdown",
   "id": "ee7031ed-4588-47a4-bb5f-5ec7ac81ad45",
   "metadata": {},
   "source": [
    "Para mapear nosso catálogo de filmes com ***embeddings*** utilizaremos a API da ***Cohere***. \n",
    "\n",
    "O mesmo poderia ser feito com as APIs da ***OpenAI*** pois apesar de serem empresas diferentes, com APIs diferentes, as técnicas empregadas aqui podem ser utilizadas com ambas.\n",
    "\n",
    "Referência: https://cohere.com/"
   ]
  },
  {
   "cell_type": "markdown",
   "id": "2199854d-6acf-46ec-b419-a0a460c8defa",
   "metadata": {},
   "source": [
    "Esta análise seguirá as seguintes etapas:\n",
    "\n",
    "1) Carregar e tratar os dados originais do nosso dataset\n",
    "2) Extrair os embeddings apenas dos títulos originais dos filmes e visualizar como eles se relacionam\n",
    "3) Extrair os embeddings dos resumos dos filmes ( *overview* ), que no dataset utilizado estão em inglês, e visualizar como os filmes se relacionam neste novo mapeamento."
   ]
  },
  {
   "cell_type": "markdown",
   "id": "cbbfae49-d04b-40bc-b953-78b24e225f48",
   "metadata": {},
   "source": [
    "***Obs***: Você pode baixar este notebook para estudo porém para conseguir rodá-lo corretamente será preciso gerar uma API Key no site da ***Cohere*** https://dashboard.cohere.com/welcome/register e substituí-la pela variável de ambiente ***COHERE_API_KEY***"
   ]
  },
  {
   "cell_type": "markdown",
   "id": "da75b1ba-c6b2-4a56-969d-dfa9c5d4660c",
   "metadata": {},
   "source": [
    "## Importando as bibliotecas necessárias"
   ]
  },
  {
   "cell_type": "code",
   "execution_count": 511,
   "id": "160c2b5e-d8f4-466d-8198-50a98a836a6d",
   "metadata": {},
   "outputs": [
    {
     "name": "stdout",
     "output_type": "stream",
     "text": [
      "\u001b[33mWARNING: Running pip as the 'root' user can result in broken permissions and conflicting behaviour with the system package manager. It is recommended to use a virtual environment instead: https://pip.pypa.io/warnings/venv\u001b[0m\u001b[33m\n",
      "\u001b[0m\n",
      "\u001b[1m[\u001b[0m\u001b[34;49mnotice\u001b[0m\u001b[1;39;49m]\u001b[0m\u001b[39;49m A new release of pip available: \u001b[0m\u001b[31;49m22.3.1\u001b[0m\u001b[39;49m -> \u001b[0m\u001b[32;49m23.2.1\u001b[0m\n",
      "\u001b[1m[\u001b[0m\u001b[34;49mnotice\u001b[0m\u001b[1;39;49m]\u001b[0m\u001b[39;49m To update, run: \u001b[0m\u001b[32;49mpip install --upgrade pip\u001b[0m\n",
      "Note: you may need to restart the kernel to use updated packages.\n"
     ]
    }
   ],
   "source": [
    "%pip install -q cohere==4.20.0 umap-learn==0.5.3 altair==5.0.1 numba==0.57.1 numpy==1.24.4"
   ]
  },
  {
   "cell_type": "code",
   "execution_count": 512,
   "id": "0c167181-5d95-40ef-b78b-4a0cdd4ee3e2",
   "metadata": {},
   "outputs": [],
   "source": [
    "import pandas as pd\n",
    "import os\n",
    "import cohere\n",
    "import umap\n",
    "import altair as alt\n",
    "import warnings\n",
    "from numba.core.errors import NumbaDeprecationWarning, NumbaPendingDeprecationWarning"
   ]
  },
  {
   "cell_type": "markdown",
   "id": "2f1beff4-d327-42cd-90b5-ae6cc4e98291",
   "metadata": {},
   "source": [
    "## Carregando e tratando o dataset de filmes"
   ]
  },
  {
   "cell_type": "markdown",
   "id": "2646d74a-65d6-4590-a9c8-7e15f0ec5757",
   "metadata": {},
   "source": [
    "### Importando os dados"
   ]
  },
  {
   "cell_type": "code",
   "execution_count": 513,
   "id": "1b0c924b-e2c2-47c9-b24a-cd0c2572e104",
   "metadata": {},
   "outputs": [
    {
     "data": {
      "text/html": [
       "<div>\n",
       "<style scoped>\n",
       "    .dataframe tbody tr th:only-of-type {\n",
       "        vertical-align: middle;\n",
       "    }\n",
       "\n",
       "    .dataframe tbody tr th {\n",
       "        vertical-align: top;\n",
       "    }\n",
       "\n",
       "    .dataframe thead th {\n",
       "        text-align: right;\n",
       "    }\n",
       "</style>\n",
       "<table border=\"1\" class=\"dataframe\">\n",
       "  <thead>\n",
       "    <tr style=\"text-align: right;\">\n",
       "      <th></th>\n",
       "      <th>adult</th>\n",
       "      <th>id</th>\n",
       "      <th>original_language</th>\n",
       "      <th>original_title</th>\n",
       "      <th>overview</th>\n",
       "      <th>release_date</th>\n",
       "    </tr>\n",
       "  </thead>\n",
       "  <tbody>\n",
       "    <tr>\n",
       "      <th>0</th>\n",
       "      <td>False</td>\n",
       "      <td>862</td>\n",
       "      <td>en</td>\n",
       "      <td>Toy Story</td>\n",
       "      <td>Led by Woody, Andy's toys live happily in his ...</td>\n",
       "      <td>1995-10-30</td>\n",
       "    </tr>\n",
       "    <tr>\n",
       "      <th>1</th>\n",
       "      <td>False</td>\n",
       "      <td>8844</td>\n",
       "      <td>en</td>\n",
       "      <td>Jumanji</td>\n",
       "      <td>When siblings Judy and Peter discover an encha...</td>\n",
       "      <td>1995-12-15</td>\n",
       "    </tr>\n",
       "  </tbody>\n",
       "</table>\n",
       "</div>"
      ],
      "text/plain": [
       "   adult    id original_language original_title   \n",
       "0  False   862                en      Toy Story  \\\n",
       "1  False  8844                en        Jumanji   \n",
       "\n",
       "                                            overview release_date  \n",
       "0  Led by Woody, Andy's toys live happily in his ...   1995-10-30  \n",
       "1  When siblings Judy and Peter discover an encha...   1995-12-15  "
      ]
     },
     "execution_count": 513,
     "metadata": {},
     "output_type": "execute_result"
    }
   ],
   "source": [
    "dataset = pd.read_csv('data/movies_metadata.csv', usecols=['id','original_language','original_title','overview','release_date','adult'])\n",
    "dataset.head(2)"
   ]
  },
  {
   "cell_type": "markdown",
   "id": "d2fccfef-42c4-4841-a0a2-7ef7190fd0a5",
   "metadata": {},
   "source": [
    "### Selecionando apenas os filmes brasileiros"
   ]
  },
  {
   "cell_type": "code",
   "execution_count": 514,
   "id": "377a05aa-70e2-4d2a-94c5-a487fb0065ff",
   "metadata": {},
   "outputs": [],
   "source": [
    "filmes_brasileiros = dataset[dataset['original_language'] == 'pt']"
   ]
  },
  {
   "cell_type": "code",
   "execution_count": 515,
   "id": "50cf07d5-7704-426f-afb9-6721bd12cf1b",
   "metadata": {},
   "outputs": [
    {
     "name": "stdout",
     "output_type": "stream",
     "text": [
      "<class 'pandas.core.frame.DataFrame'>\n",
      "Index: 316 entries, 738 to 45168\n",
      "Data columns (total 6 columns):\n",
      " #   Column             Non-Null Count  Dtype \n",
      "---  ------             --------------  ----- \n",
      " 0   adult              316 non-null    object\n",
      " 1   id                 316 non-null    object\n",
      " 2   original_language  316 non-null    object\n",
      " 3   original_title     316 non-null    object\n",
      " 4   overview           295 non-null    object\n",
      " 5   release_date       315 non-null    object\n",
      "dtypes: object(6)\n",
      "memory usage: 17.3+ KB\n"
     ]
    }
   ],
   "source": [
    "filmes_brasileiros.info()"
   ]
  },
  {
   "cell_type": "markdown",
   "id": "992d9ef2-66a8-472f-a669-e509bae3d089",
   "metadata": {},
   "source": [
    "Em nossa análise utilizaremos os *campos original_title* e *overview*. Para isso precisamos retirar os registros nulos destes dois campos."
   ]
  },
  {
   "cell_type": "markdown",
   "id": "e785d15c-3992-417b-a642-52950e13ae90",
   "metadata": {},
   "source": [
    "### Retirando os campos nulos"
   ]
  },
  {
   "cell_type": "code",
   "execution_count": 516,
   "id": "9902da21-5607-4525-af12-9b969caaa3ec",
   "metadata": {},
   "outputs": [],
   "source": [
    "filmes_brasileiros = filmes_brasileiros.dropna(subset='overview')"
   ]
  },
  {
   "cell_type": "code",
   "execution_count": 517,
   "id": "65366833-dd48-49b8-8820-311f01e678f2",
   "metadata": {},
   "outputs": [
    {
     "data": {
      "text/html": [
       "<div>\n",
       "<style scoped>\n",
       "    .dataframe tbody tr th:only-of-type {\n",
       "        vertical-align: middle;\n",
       "    }\n",
       "\n",
       "    .dataframe tbody tr th {\n",
       "        vertical-align: top;\n",
       "    }\n",
       "\n",
       "    .dataframe thead th {\n",
       "        text-align: right;\n",
       "    }\n",
       "</style>\n",
       "<table border=\"1\" class=\"dataframe\">\n",
       "  <thead>\n",
       "    <tr style=\"text-align: right;\">\n",
       "      <th></th>\n",
       "      <th>adult</th>\n",
       "      <th>id</th>\n",
       "      <th>original_language</th>\n",
       "      <th>original_title</th>\n",
       "      <th>overview</th>\n",
       "      <th>release_date</th>\n",
       "    </tr>\n",
       "  </thead>\n",
       "  <tbody>\n",
       "    <tr>\n",
       "      <th>738</th>\n",
       "      <td>False</td>\n",
       "      <td>255546</td>\n",
       "      <td>pt</td>\n",
       "      <td>Carmen Miranda: Bananas Is My Business</td>\n",
       "      <td>A biography of the Portuguese-Brazilian singer...</td>\n",
       "      <td>1995-04-13</td>\n",
       "    </tr>\n",
       "    <tr>\n",
       "      <th>1659</th>\n",
       "      <td>False</td>\n",
       "      <td>12538</td>\n",
       "      <td>pt</td>\n",
       "      <td>Senseless</td>\n",
       "      <td>A student gets his senses enhanced by an exper...</td>\n",
       "      <td>1998-02-20</td>\n",
       "    </tr>\n",
       "  </tbody>\n",
       "</table>\n",
       "</div>"
      ],
      "text/plain": [
       "      adult      id original_language                          original_title   \n",
       "738   False  255546                pt  Carmen Miranda: Bananas Is My Business  \\\n",
       "1659  False   12538                pt                               Senseless   \n",
       "\n",
       "                                               overview release_date  \n",
       "738   A biography of the Portuguese-Brazilian singer...   1995-04-13  \n",
       "1659  A student gets his senses enhanced by an exper...   1998-02-20  "
      ]
     },
     "execution_count": 517,
     "metadata": {},
     "output_type": "execute_result"
    }
   ],
   "source": [
    "filmes_brasileiros.head(2)"
   ]
  },
  {
   "cell_type": "code",
   "execution_count": 518,
   "id": "22878f09-439d-45ec-8239-1b1e7e7f756d",
   "metadata": {},
   "outputs": [
    {
     "name": "stdout",
     "output_type": "stream",
     "text": [
      "Existem 295 filmes brasileiros neste dataset aptos para nossa investigação\n"
     ]
    }
   ],
   "source": [
    "print(f\"Existem {filmes_brasileiros.shape[0]} filmes brasileiros neste dataset aptos para nossa investigação\")"
   ]
  },
  {
   "cell_type": "markdown",
   "id": "ef26e931-f04e-41ad-b097-f1345eea9287",
   "metadata": {},
   "source": [
    "## Extraindo o embedding dos títulos dos filmes"
   ]
  },
  {
   "cell_type": "markdown",
   "id": "d7dfe012-7184-4dac-91b1-36bbe5f5aafe",
   "metadata": {},
   "source": [
    "Para o mapeamento dos embeddings utilizaremos uma biblioteca Python da ***Cohere***. \n",
    "\n",
    "Neste processo temos três tipos de modelos para embedding:\n",
    "\n",
    "- embed-english-v2.0 (padrão) 4096 dimensões\n",
    "- embed-english-light-v2.0 1024 dimensões\n",
    "- embed-multilingual-v2.0 768 dimensões\n",
    "\n",
    "Nesta parte vamos utilizar apenas os títulos originais em português com um modelo Multilingual (embed-multilingual-v2.0)\n",
    "\n",
    "Fonte: https://docs.cohere.com/reference/embed"
   ]
  },
  {
   "cell_type": "code",
   "execution_count": 519,
   "id": "01994029-9eaa-4b00-b41b-d9d500f5b193",
   "metadata": {},
   "outputs": [],
   "source": [
    "from dotenv import load_dotenv, find_dotenv\n",
    "_ = load_dotenv(find_dotenv())"
   ]
  },
  {
   "cell_type": "code",
   "execution_count": 520,
   "id": "2e3cd9ba-8c07-43c8-8999-55a536a0ad10",
   "metadata": {},
   "outputs": [],
   "source": [
    "co = cohere.Client(os.environ['COHERE_API_KEY'])"
   ]
  },
  {
   "cell_type": "code",
   "execution_count": 521,
   "id": "145571ed-4576-40f5-a57a-3d7fe0b70ecc",
   "metadata": {},
   "outputs": [],
   "source": [
    "emb = co.embed(texts=list(filmes_brasileiros.original_title),\n",
    "               model='embed-multilingual-v2.0').embeddings"
   ]
  },
  {
   "cell_type": "code",
   "execution_count": 522,
   "id": "0720defa-7345-4a3b-a897-a3a797a76d76",
   "metadata": {},
   "outputs": [
    {
     "name": "stdout",
     "output_type": "stream",
     "text": [
      "O embedding da Cohere Multilingual é um vetor de 768 dimensões\n"
     ]
    }
   ],
   "source": [
    "print(f\"O embedding da Cohere Multilingual é um vetor de {len(emb[0])} dimensões\")"
   ]
  },
  {
   "cell_type": "markdown",
   "id": "bfc58d4e-fd0e-49b0-bab8-0f96242787f0",
   "metadata": {},
   "source": [
    "### Diminuindo a dimensão"
   ]
  },
  {
   "cell_type": "markdown",
   "id": "e042364f-6fb3-4787-84e6-573d6abf7d03",
   "metadata": {},
   "source": [
    "Nosso objetivo neste primeiro estudo é ter uma noção visual de como os títulos de filmes se relacionam uns com os outros através de um plano cartesiano, o problema é que para nós humanos é muito difícil imaginar um plano com 768 dimensões.\n",
    "\n",
    "Sendo assim precisamos diminuir as 768 dimensões do ***embedding*** para três ou duas dimensões. No caso vamos diminuí-la para duas."
   ]
  },
  {
   "cell_type": "markdown",
   "id": "c8a40ee7-580d-4958-b10a-4540dcfa390f",
   "metadata": {},
   "source": [
    "A biblioteca ***umap*** reduzirá as 768 dimensões em duas"
   ]
  },
  {
   "cell_type": "code",
   "execution_count": 523,
   "id": "dc376fc3-23d2-4012-a0b6-37302bb8c1c7",
   "metadata": {},
   "outputs": [
    {
     "data": {
      "text/plain": [
       "array([[10.920109,  9.097715],\n",
       "       [11.158794, 14.357875]], dtype=float32)"
      ]
     },
     "execution_count": 523,
     "metadata": {},
     "output_type": "execute_result"
    }
   ],
   "source": [
    "reducer = umap.UMAP(n_neighbors=2)\n",
    "umap_embeds_2d = reducer.fit_transform(emb)\n",
    "umap_embeds_2d[:2]"
   ]
  },
  {
   "cell_type": "code",
   "execution_count": 524,
   "id": "8aa6dbc1-e7fb-4786-bce2-9e4a9a54cea8",
   "metadata": {},
   "outputs": [
    {
     "data": {
      "text/html": [
       "<div>\n",
       "<style scoped>\n",
       "    .dataframe tbody tr th:only-of-type {\n",
       "        vertical-align: middle;\n",
       "    }\n",
       "\n",
       "    .dataframe tbody tr th {\n",
       "        vertical-align: top;\n",
       "    }\n",
       "\n",
       "    .dataframe thead th {\n",
       "        text-align: right;\n",
       "    }\n",
       "</style>\n",
       "<table border=\"1\" class=\"dataframe\">\n",
       "  <thead>\n",
       "    <tr style=\"text-align: right;\">\n",
       "      <th></th>\n",
       "      <th>original_title</th>\n",
       "      <th>x</th>\n",
       "      <th>y</th>\n",
       "    </tr>\n",
       "  </thead>\n",
       "  <tbody>\n",
       "    <tr>\n",
       "      <th>738</th>\n",
       "      <td>Carmen Miranda: Bananas Is My Business</td>\n",
       "      <td>10.920109</td>\n",
       "      <td>9.097715</td>\n",
       "    </tr>\n",
       "    <tr>\n",
       "      <th>1659</th>\n",
       "      <td>Senseless</td>\n",
       "      <td>11.158794</td>\n",
       "      <td>14.357875</td>\n",
       "    </tr>\n",
       "    <tr>\n",
       "      <th>1670</th>\n",
       "      <td>O Que é Isso, Companheiro?</td>\n",
       "      <td>-4.761305</td>\n",
       "      <td>2.486226</td>\n",
       "    </tr>\n",
       "    <tr>\n",
       "      <th>1806</th>\n",
       "      <td>Viagem ao Princípio do Mundo</td>\n",
       "      <td>-7.816003</td>\n",
       "      <td>-7.074599</td>\n",
       "    </tr>\n",
       "    <tr>\n",
       "      <th>2244</th>\n",
       "      <td>Central do Brasil</td>\n",
       "      <td>7.406845</td>\n",
       "      <td>2.986557</td>\n",
       "    </tr>\n",
       "  </tbody>\n",
       "</table>\n",
       "</div>"
      ],
      "text/plain": [
       "                              original_title          x          y\n",
       "738   Carmen Miranda: Bananas Is My Business  10.920109   9.097715\n",
       "1659                               Senseless  11.158794  14.357875\n",
       "1670              O Que é Isso, Companheiro?  -4.761305   2.486226\n",
       "1806            Viagem ao Princípio do Mundo  -7.816003  -7.074599\n",
       "2244                       Central do Brasil   7.406845   2.986557"
      ]
     },
     "execution_count": 524,
     "metadata": {},
     "output_type": "execute_result"
    }
   ],
   "source": [
    "df_embeds_d2 = filmes_brasileiros.original_title.to_frame().copy()\n",
    "df_embeds_d2['x'] = umap_embeds_2d[:,0]\n",
    "df_embeds_d2['y'] = umap_embeds_2d[:,1]\n",
    "df_embeds_d2.head()"
   ]
  },
  {
   "cell_type": "markdown",
   "id": "6b5662ac-c520-4555-86df-23da23371326",
   "metadata": {},
   "source": [
    "No DataFrame acima temos a nossa dimensionalidade reduzida para cada título de filme, representada pelas colunas ***x*** e ***y***"
   ]
  },
  {
   "cell_type": "markdown",
   "id": "8fc40a77-7daa-4f87-a2b4-3b768bd75327",
   "metadata": {},
   "source": [
    "### Plotando os filmes"
   ]
  },
  {
   "cell_type": "markdown",
   "id": "84f7dd8d-a83e-4675-93b0-160dc0687b52",
   "metadata": {},
   "source": [
    "Agora chegou a hora de colocar todos os filmes no plano cartesiano de duas dimensões e olhar como eles estão relacionados. \n",
    "\n",
    "Este relacioamento é dado exatamente pela proximidade entre eles no plano"
   ]
  },
  {
   "cell_type": "code",
   "execution_count": 525,
   "id": "d115f563-36a4-4af1-9d48-be4127e4e450",
   "metadata": {},
   "outputs": [
    {
     "data": {
      "text/html": [
       "\n",
       "<style>\n",
       "  #altair-viz-ff215609ce9745ff92e53e63d1736d74.vega-embed {\n",
       "    width: 100%;\n",
       "    display: flex;\n",
       "  }\n",
       "\n",
       "  #altair-viz-ff215609ce9745ff92e53e63d1736d74.vega-embed details,\n",
       "  #altair-viz-ff215609ce9745ff92e53e63d1736d74.vega-embed details summary {\n",
       "    position: relative;\n",
       "  }\n",
       "</style>\n",
       "<div id=\"altair-viz-ff215609ce9745ff92e53e63d1736d74\"></div>\n",
       "<script type=\"text/javascript\">\n",
       "  var VEGA_DEBUG = (typeof VEGA_DEBUG == \"undefined\") ? {} : VEGA_DEBUG;\n",
       "  (function(spec, embedOpt){\n",
       "    let outputDiv = document.currentScript.previousElementSibling;\n",
       "    if (outputDiv.id !== \"altair-viz-ff215609ce9745ff92e53e63d1736d74\") {\n",
       "      outputDiv = document.getElementById(\"altair-viz-ff215609ce9745ff92e53e63d1736d74\");\n",
       "    }\n",
       "    const paths = {\n",
       "      \"vega\": \"https://cdn.jsdelivr.net/npm/vega@5?noext\",\n",
       "      \"vega-lib\": \"https://cdn.jsdelivr.net/npm/vega-lib?noext\",\n",
       "      \"vega-lite\": \"https://cdn.jsdelivr.net/npm/vega-lite@5.8.0?noext\",\n",
       "      \"vega-embed\": \"https://cdn.jsdelivr.net/npm/vega-embed@6?noext\",\n",
       "    };\n",
       "\n",
       "    function maybeLoadScript(lib, version) {\n",
       "      var key = `${lib.replace(\"-\", \"\")}_version`;\n",
       "      return (VEGA_DEBUG[key] == version) ?\n",
       "        Promise.resolve(paths[lib]) :\n",
       "        new Promise(function(resolve, reject) {\n",
       "          var s = document.createElement('script');\n",
       "          document.getElementsByTagName(\"head\")[0].appendChild(s);\n",
       "          s.async = true;\n",
       "          s.onload = () => {\n",
       "            VEGA_DEBUG[key] = version;\n",
       "            return resolve(paths[lib]);\n",
       "          };\n",
       "          s.onerror = () => reject(`Error loading script: ${paths[lib]}`);\n",
       "          s.src = paths[lib];\n",
       "        });\n",
       "    }\n",
       "\n",
       "    function showError(err) {\n",
       "      outputDiv.innerHTML = `<div class=\"error\" style=\"color:red;\">${err}</div>`;\n",
       "      throw err;\n",
       "    }\n",
       "\n",
       "    function displayChart(vegaEmbed) {\n",
       "      vegaEmbed(outputDiv, spec, embedOpt)\n",
       "        .catch(err => showError(`Javascript Error: ${err.message}<br>This usually means there's a typo in your chart specification. See the javascript console for the full traceback.`));\n",
       "    }\n",
       "\n",
       "    if(typeof define === \"function\" && define.amd) {\n",
       "      requirejs.config({paths});\n",
       "      require([\"vega-embed\"], displayChart, err => showError(`Error loading script: ${err.message}`));\n",
       "    } else {\n",
       "      maybeLoadScript(\"vega\", \"5\")\n",
       "        .then(() => maybeLoadScript(\"vega-lite\", \"5.8.0\"))\n",
       "        .then(() => maybeLoadScript(\"vega-embed\", \"6\"))\n",
       "        .catch(showError)\n",
       "        .then(() => displayChart(vegaEmbed));\n",
       "    }\n",
       "  })({\"config\": {\"view\": {\"continuousWidth\": 300, \"continuousHeight\": 300}}, \"data\": {\"name\": \"data-5f8b3dd55171e618167ce5bde464c350\"}, \"mark\": {\"type\": \"circle\", \"size\": 60}, \"encoding\": {\"tooltip\": [{\"field\": \"original_title\", \"type\": \"nominal\"}], \"x\": {\"field\": \"x\", \"scale\": {\"zero\": false}, \"type\": \"quantitative\"}, \"y\": {\"field\": \"y\", \"scale\": {\"zero\": false}, \"type\": \"quantitative\"}}, \"height\": 400, \"params\": [{\"name\": \"param_28\", \"select\": {\"type\": \"interval\", \"encodings\": [\"x\", \"y\"]}, \"bind\": \"scales\"}], \"width\": 700, \"$schema\": \"https://vega.github.io/schema/vega-lite/v5.8.0.json\", \"datasets\": {\"data-5f8b3dd55171e618167ce5bde464c350\": [{\"original_title\": \"Carmen Miranda: Bananas Is My Business\", \"x\": 10.920108795166016, \"y\": 9.097715377807617}, {\"original_title\": \"Senseless\", \"x\": 11.158794403076172, \"y\": 14.357874870300293}, {\"original_title\": \"O Que \\u00e9 Isso, Companheiro?\", \"x\": -4.761305332183838, \"y\": 2.4862260818481445}, {\"original_title\": \"Viagem ao Princ\\u00edpio do Mundo\", \"x\": -7.81600284576416, \"y\": -7.074598789215088}, {\"original_title\": \"Central do Brasil\", \"x\": 7.406844615936279, \"y\": 2.9865572452545166}, {\"original_title\": \"A Civil Action\", \"x\": 10.782208442687988, \"y\": 9.110486030578613}, {\"original_title\": \"Curse of the Puppet Master\", \"x\": 9.156886100769043, \"y\": -0.4661002457141876}, {\"original_title\": \"Eu, Tu, Eles\", \"x\": -11.122369766235352, \"y\": 4.019081115722656}, {\"original_title\": \"Pixote: A Lei do Mais Fraco\", \"x\": 5.654085636138916, \"y\": 5.669773101806641}, {\"original_title\": \"Abril Despeda\\u00e7ado\", \"x\": 0.1352018266916275, \"y\": 3.2492868900299072}, {\"original_title\": \"Vale Abra\\u00e3o\", \"x\": -4.877542018890381, \"y\": -4.672540664672852}, {\"original_title\": \"Cidade de Deus\", \"x\": -10.596094131469727, \"y\": 12.896600723266602}, {\"original_title\": \"Madame Sat\\u00e3\", \"x\": 4.79707145690918, \"y\": 16.752151489257812}, {\"original_title\": \"Amores Poss\\u00edveis\", \"x\": 2.7459442615509033, \"y\": -6.997772216796875}, {\"original_title\": \"Orfeu Negro\", \"x\": 11.705035209655762, \"y\": 3.076047658920288}, {\"original_title\": \"Carandiru\", \"x\": 7.59658670425415, \"y\": 3.173525094985962}, {\"original_title\": \"Terra Estrangeira\", \"x\": 2.02614688873291, \"y\": 19.671194076538086}, {\"original_title\": \"O Primeiro Dia\", \"x\": 4.513430118560791, \"y\": 5.760308742523193}, {\"original_title\": \"O Auto da Compadecida\", \"x\": 7.140644550323486, \"y\": 2.7232203483581543}, {\"original_title\": \"O Homem do Ano\", \"x\": 4.287108898162842, \"y\": 16.87506675720215}, {\"original_title\": \"Um Filme Falado\", \"x\": 9.79479694366455, \"y\": 0.37344855070114136}, {\"original_title\": \"O Homem Que Copiava\", \"x\": 4.308621406555176, \"y\": 16.864099502563477}, {\"original_title\": \"Deus \\u00e9 Brasileiro\", \"x\": 7.304091930389404, \"y\": 2.8770511150360107}, {\"original_title\": \"Capit\\u00e3es de Abril\", \"x\": 0.1319611817598343, \"y\": 3.2473597526550293}, {\"original_title\": \"Dona Flor e Seus Dois Maridos\", \"x\": 3.048365831375122, \"y\": -2.874030590057373}, {\"original_title\": \"Orfeu\", \"x\": 11.716301918029785, \"y\": 3.0877161026000977}, {\"original_title\": \"Lisbela e o Prisioneiro\", \"x\": 2.1221301555633545, \"y\": 12.574393272399902}, {\"original_title\": \"Bicho de Sete Cabe\\u00e7as\", \"x\": -0.39323320984840393, \"y\": 16.06330108642578}, {\"original_title\": \"Cidade Baixa\", \"x\": -10.599740982055664, \"y\": 12.893176078796387}, {\"original_title\": \"Lisbon Story\", \"x\": -2.1073195934295654, \"y\": 20.22279930114746}, {\"original_title\": \"Se eu fosse voc\\u00ea\", \"x\": -11.059364318847656, \"y\": 4.082017421722412}, {\"original_title\": \"Wood & Stock: Sexo, Or\\u00e9gano e Rock'n'Roll\", \"x\": -4.733097076416016, \"y\": 2.52215838432312}, {\"original_title\": \"Tropa de Elite\", \"x\": 10.56599235534668, \"y\": -4.419365406036377}, {\"original_title\": \"O Ano em Que Meus Pais Sa\\u00edram de F\\u00e9rias\", \"x\": -1.1165481805801392, \"y\": 7.466231346130371}, {\"original_title\": \"O Cheiro do Ralo\", \"x\": 2.1631109714508057, \"y\": 0.8514886498451233}, {\"original_title\": \"Lavoura Arcaica\", \"x\": 5.052999496459961, \"y\": 0.5991312265396118}, {\"original_title\": \"Dois Filhos de Francisco\", \"x\": 2.9276926517486572, \"y\": -3.013644218444824}, {\"original_title\": \"Cazuza - O Tempo N\\u00e3o P\\u00e1ra\", \"x\": 4.964189529418945, \"y\": 10.986909866333008}, {\"original_title\": \"Cidade dos Homens\", \"x\": -10.596504211425781, \"y\": 12.89598560333252}, {\"original_title\": \"O Drag\\u00e3o da Maldade contra o Santo Guerreiro\", \"x\": 7.039071083068848, \"y\": 2.625192642211914}, {\"original_title\": \"Os Normais - O Filme\", \"x\": 10.43539047241211, \"y\": 0.06380229443311691}, {\"original_title\": \"O Homem Que Desafiou o Diabo\", \"x\": 4.337499618530273, \"y\": 16.979938507080078}, {\"original_title\": \"Casa de Areia\", \"x\": -0.017201263457536697, \"y\": 3.1023073196411133}, {\"original_title\": \"Linha de Passe\", \"x\": -4.606454372406006, \"y\": 17.062910079956055}, {\"original_title\": \"Deus e o Diabo na Terra do Sol\", \"x\": 6.816327095031738, \"y\": 2.404000759124756}, {\"original_title\": \"David and Lisa\", \"x\": -5.096177577972412, \"y\": -4.456375598907471}, {\"original_title\": \"Terra em Transe\", \"x\": 2.026298999786377, \"y\": 19.671165466308594}, {\"original_title\": \"Vidas secas\", \"x\": 5.01132345199585, \"y\": 6.121577739715576}, {\"original_title\": \"Limite\", \"x\": 7.467330455780029, \"y\": 18.22844886779785}, {\"original_title\": \"Juventude Em Marcha\", \"x\": 0.10541528463363647, \"y\": 8.603736877441406}, {\"original_title\": \"As Bodas de Deus\", \"x\": 7.145493030548096, \"y\": 2.726426124572754}, {\"original_title\": \"O Fantasma\", \"x\": 0.3354954123497009, \"y\": 8.830355644226074}, {\"original_title\": \"\\u00c0 Meia Noite Levarei Sua Alma\", \"x\": 9.232511520385742, \"y\": 10.241019248962402}, {\"original_title\": \"\\u00c0 Deriva\", \"x\": 3.2427144050598145, \"y\": -2.6815924644470215}, {\"original_title\": \"Eu Me Lembro\", \"x\": -0.8767890334129333, \"y\": 7.688008785247803}, {\"original_title\": \"Como Era Gostoso o Meu Franc\\u00eas\", \"x\": -0.88475102186203, \"y\": 7.719180583953857}, {\"original_title\": \"Encarna\\u00e7\\u00e3o do Dem\\u00f4nio\", \"x\": 2.973538637161255, \"y\": -6.76779842376709}, {\"original_title\": \"Esta Noite Encarnarei no Teu Cad\\u00e1ver\", \"x\": 9.207087516784668, \"y\": 10.266623497009277}, {\"original_title\": \"Singularidades de uma Rapariga Loura\", \"x\": -0.45053812861442566, \"y\": 6.851497173309326}, {\"original_title\": \"O Pagador de Promessas\", \"x\": -0.6182358264923096, \"y\": 6.703102111816406}, {\"original_title\": \"Tropa de Elite 2\", \"x\": 10.529391288757324, \"y\": -4.464614391326904}, {\"original_title\": \"Bye Bye Brasil\", \"x\": 7.4350266456604, \"y\": 3.0155248641967773}, {\"original_title\": \"Odete\", \"x\": 11.75948715209961, \"y\": 3.1313748359680176}, {\"original_title\": \"A Idade da Terra\", \"x\": -2.7046444416046143, \"y\": -2.815615177154541}, {\"original_title\": \"O Estranho Caso de Ang\\u00e9lica\", \"x\": -0.38878902792930603, \"y\": 6.8687567710876465}, {\"original_title\": \"Veredas\", \"x\": 3.5732195377349854, \"y\": -2.5096395015716553}, {\"original_title\": \"Ossos\", \"x\": 8.350775718688965, \"y\": 4.724616050720215}, {\"original_title\": \"\\u00daltima Parada 174\", \"x\": 6.010106563568115, \"y\": 6.171808242797852}, {\"original_title\": \"Aquele Querido M\\u00eas de Agosto\", \"x\": -5.431638717651367, \"y\": 13.824763298034668}, {\"original_title\": \"Mist\\u00e9rios de Lisboa\", \"x\": -2.1372973918914795, \"y\": 20.194673538208008}, {\"original_title\": \"Recorda\\u00e7\\u00f5es da Casa Amarela\", \"x\": -1.016635775566101, \"y\": 7.5068182945251465}, {\"original_title\": \"A Via L\\u00e1ctea\", \"x\": 5.005054950714111, \"y\": 6.127449989318848}, {\"original_title\": \"A Com\\u00e9dia de Deus\", \"x\": 7.040286064147949, \"y\": 2.6222262382507324}, {\"original_title\": \"O Contador de Hist\\u00f3rias\", \"x\": -0.6113858819007874, \"y\": 6.733726501464844}, {\"original_title\": \"No Quarto da Vanda\", \"x\": 2.14827299118042, \"y\": 12.599626541137695}, {\"original_title\": \"Silvestre\", \"x\": 18.903886795043945, \"y\": -4.08278226852417}, {\"original_title\": \"El silencio antes de Bach (Die Stille vor Bach)\", \"x\": 4.969503879547119, \"y\": 11.038036346435547}, {\"original_title\": \"\\u00c0 Flor do Mar\", \"x\": 3.2421152591705322, \"y\": -2.6873984336853027}, {\"original_title\": \"Morrer Como Um Homem\", \"x\": 4.484428882598877, \"y\": 16.42909049987793}, {\"original_title\": \"Like Water\", \"x\": 5.051726341247559, \"y\": 0.6147795915603638}, {\"original_title\": \"O Palha\\u00e7o\", \"x\": -0.4771727919578552, \"y\": 15.979941368103027}, {\"original_title\": \"Do Come\\u00e7o ao Fim\", \"x\": 5.5869011878967285, \"y\": 5.907954692840576}, {\"original_title\": \"The Gospel of Judas\", \"x\": 7.100691318511963, \"y\": 2.6834332942962646}, {\"original_title\": \"247\\u00b0F\", \"x\": 5.641860008239746, \"y\": 11.113835334777832}, {\"original_title\": \"2 Coelhos\", \"x\": 2.867786407470703, \"y\": -3.0393097400665283}, {\"original_title\": \"O Som ao Redor\", \"x\": -0.3023201525211334, \"y\": 16.155534744262695}, {\"original_title\": \"Fragmentos de um Filme-Esmola: A Sagrada Fam\\u00edlia\", \"x\": 10.448260307312012, \"y\": -0.012393387965857983}, {\"original_title\": \"Manoel dans l'\\u00eele des merveilles\", \"x\": 3.215440511703491, \"y\": -2.7056503295898438}, {\"original_title\": \"Tabu\", \"x\": 8.391547203063965, \"y\": 14.930098533630371}, {\"original_title\": \"Bruna Surfistinha\", \"x\": 4.7785325050354, \"y\": 16.72370719909668}, {\"original_title\": \"\\u00c1rido Movie\", \"x\": 9.786492347717285, \"y\": 0.36154747009277344}, {\"original_title\": \"E A\\u00ed... Comeu?\", \"x\": -4.756453037261963, \"y\": 2.5727648735046387}, {\"original_title\": \"Eu N\\u00e3o Quero Voltar Sozinho\", \"x\": -4.253866672515869, \"y\": 5.704957962036133}, {\"original_title\": \"Amor de Perdi\\u00e7\\u00e3o\", \"x\": 3.010467767715454, \"y\": -6.7311811447143555}, {\"original_title\": \"Rafa\", \"x\": 0.3188173770904541, \"y\": 8.814324378967285}, {\"original_title\": \"Entre Len\\u00e7\\u00f3is\", \"x\": 5.6908111572265625, \"y\": -2.833585262298584}, {\"original_title\": \"Viagem a Portugal\", \"x\": -7.816398620605469, \"y\": -7.07496452331543}, {\"original_title\": \"Belarmino\", \"x\": 12.743229866027832, \"y\": 11.418274879455566}, {\"original_title\": \"Tempos de Paz\", \"x\": -4.692564964294434, \"y\": 1.9024094343185425}, {\"original_title\": \"Noite Vazia\", \"x\": -9.232540130615234, \"y\": 15.599722862243652}, {\"original_title\": \"Faroeste Caboclo\", \"x\": 0.23509031534194946, \"y\": 8.730632781982422}, {\"original_title\": \"Jos\\u00e9 e Pilar\", \"x\": -5.038492679595947, \"y\": -4.484292984008789}, {\"original_title\": \"Sambizanga\", \"x\": 18.918071746826172, \"y\": -4.068604946136475}, {\"original_title\": \"Prata Palomares\", \"x\": -4.683284282684326, \"y\": -4.845301628112793}, {\"original_title\": \"Xingu\", \"x\": 18.923011779785156, \"y\": -4.063661575317383}, {\"original_title\": \"Ad\\u00e3o e Eva\", \"x\": -5.045230865478516, \"y\": -4.501108169555664}, {\"original_title\": \"A Mulher Invis\\u00edvel\", \"x\": 2.927279472351074, \"y\": -6.814724445343018}, {\"original_title\": \"Black Widow\", \"x\": 5.037541389465332, \"y\": 0.6062913537025452}, {\"original_title\": \"Quebrando o Tabu\", \"x\": 8.391525268554688, \"y\": 14.930004119873047}, {\"original_title\": \"O Homem do Futuro\", \"x\": 4.510058879852295, \"y\": 16.70199203491211}, {\"original_title\": \"De Pernas Pro Ar\", \"x\": 7.062873840332031, \"y\": -7.255526542663574}, {\"original_title\": \"Meu Passado me Condena\", \"x\": -0.9681270718574524, \"y\": 7.61313009262085}, {\"original_title\": \"Minha M\\u00e3e \\u00e9 uma Pe\\u00e7a\", \"x\": -7.2243218421936035, \"y\": -0.8863358497619629}, {\"original_title\": \"Amazonia\", \"x\": 4.718145847320557, \"y\": 0.47419172525405884}, {\"original_title\": \"Chega de Saudade\", \"x\": -4.690028667449951, \"y\": 2.5407791137695312}, {\"original_title\": \"Who the F**K Is Arthur Fogel\", \"x\": 11.164676666259766, \"y\": 14.363208770751953}, {\"original_title\": \"O Princ\\u00edpio da Incerteza\", \"x\": 5.616950988769531, \"y\": 5.756374835968018}, {\"original_title\": \"Alice\", \"x\": 9.169968605041504, \"y\": -0.20317956805229187}, {\"original_title\": \"Vai-e-Vem\", \"x\": -7.30537223815918, \"y\": 10.170893669128418}, {\"original_title\": \"O \\u00daltimo Mergulho\", \"x\": 5.981127738952637, \"y\": 6.1474409103393555}, {\"original_title\": \"Passeio com Johnny Guitar\", \"x\": -2.5316684246063232, \"y\": 19.810346603393555}, {\"original_title\": \"O Amor das Tr\\u00eas Rom\\u00e3s\", \"x\": 9.75622272491455, \"y\": 0.7722443342208862}, {\"original_title\": \"Hoje Eu Quero Voltar Sozinho\", \"x\": -4.255730628967285, \"y\": 5.7051520347595215}, {\"original_title\": \"Trash\", \"x\": 11.37725830078125, \"y\": 14.58187198638916}, {\"original_title\": \"O Menino no Espelho\", \"x\": -0.4551997482776642, \"y\": 16.000967025756836}, {\"original_title\": \"State of Emergency\", \"x\": 10.578742980957031, \"y\": 9.014979362487793}, {\"original_title\": \"Bang Bang\", \"x\": 10.547028541564941, \"y\": 8.892518997192383}, {\"original_title\": \"Olho por Olho\", \"x\": 5.676120281219482, \"y\": 5.932575702667236}, {\"original_title\": \"Flores Raras\", \"x\": 3.571214199066162, \"y\": -2.5184614658355713}, {\"original_title\": \"Os Verdes Anos\", \"x\": -2.736623764038086, \"y\": -2.847383975982666}, {\"original_title\": \"Santiago\", \"x\": 18.947450637817383, \"y\": -4.039305210113525}, {\"original_title\": \"Romance\", \"x\": 9.142193794250488, \"y\": -0.23237435519695282}, {\"original_title\": \"Latitudes\", \"x\": 11.159991264343262, \"y\": 14.358907699584961}, {\"original_title\": \"A Zona\", \"x\": -2.0302517414093018, \"y\": 8.698580741882324}, {\"original_title\": \"A \\u00daltima Vez Que Vi Macau\", \"x\": -1.1154073476791382, \"y\": 7.4823899269104}, {\"original_title\": \"Est\\u00f4mago\", \"x\": -4.646369934082031, \"y\": 2.6308937072753906}, {\"original_title\": \"Casa de Lava\", \"x\": -0.031177490949630737, \"y\": 3.0877749919891357}, {\"original_title\": \"Lua de Cristal\", \"x\": -4.756792068481445, \"y\": -4.774453163146973}, {\"original_title\": \"Jogo de Cena\", \"x\": -6.713176250457764, \"y\": 10.854429244995117}, {\"original_title\": \"The Coconut Revolution\", \"x\": 10.882622718811035, \"y\": 9.112586975097656}, {\"original_title\": \"Praia do Futuro\", \"x\": 4.691164970397949, \"y\": 16.698612213134766}, {\"original_title\": \"O Dia Que Durou 21 Anos\", \"x\": -0.9170791506767273, \"y\": 7.6554460525512695}, {\"original_title\": \"O Lobo Atr\\u00e1s da Porta\", \"x\": 2.067821741104126, \"y\": 12.520441055297852}, {\"original_title\": \"O Que H\\u00e1 De Novo No Amor?\", \"x\": 5.204302787780762, \"y\": 10.565500259399414}, {\"original_title\": \"Ventos de Agosto\", \"x\": -5.427803993225098, \"y\": 13.826640129089355}, {\"original_title\": \"Casa Grande\", \"x\": -0.04776874557137489, \"y\": 3.0727391242980957}, {\"original_title\": \"Edif\\u00edcio Master\", \"x\": -10.603496551513672, \"y\": 12.888772010803223}, {\"original_title\": \"O Menino e o Mundo\", \"x\": -0.48428335785865784, \"y\": 15.969344139099121}, {\"original_title\": \"Que Horas Ela Volta?\", \"x\": -4.254110336303711, \"y\": 5.704838752746582}, {\"original_title\": \"Hoovey\", \"x\": 4.957682132720947, \"y\": 0.531884491443634}, {\"original_title\": \"Bruc, La llegenda\", \"x\": 10.627939224243164, \"y\": -4.3529486656188965}, {\"original_title\": \"A Falecida\", \"x\": -1.5397319793701172, \"y\": 8.194417953491211}, {\"original_title\": \"A Hora da Estrela\", \"x\": -2.6478354930877686, \"y\": -2.759082555770874}, {\"original_title\": \"Do Lado de Fora\", \"x\": 1.9780339002609253, \"y\": 12.433022499084473}, {\"original_title\": \"Noite Escura\", \"x\": -9.232552528381348, \"y\": 15.599632263183594}, {\"original_title\": \"A Can\\u00e7\\u00e3o de Lisboa\", \"x\": -2.3238534927368164, \"y\": 20.011398315429688}, {\"original_title\": \"Beira-Mar\", \"x\": 3.1730897426605225, \"y\": -2.734238862991333}, {\"original_title\": \"O Pai Tirano\", \"x\": -4.871417999267578, \"y\": 2.0811281204223633}, {\"original_title\": \"O P\\u00e1tio das Cantigas\", \"x\": -2.4665732383728027, \"y\": 19.872665405273438}, {\"original_title\": \"Tim Maia\", \"x\": -1.9589062929153442, \"y\": 8.625226974487305}, {\"original_title\": \"To Sir, with Love II\", \"x\": 9.109650611877441, \"y\": -0.268978476524353}, {\"original_title\": \"Sangue do Meu Sangue\", \"x\": 1.9496344327926636, \"y\": 0.6471990346908569}, {\"original_title\": \"Para\\u00edsos Artificiais\", \"x\": 2.7072720527648926, \"y\": -7.036187648773193}, {\"original_title\": \"O futebol\", \"x\": 0.22988459467887878, \"y\": 8.724950790405273}, {\"original_title\": \"Apenas o Fim\", \"x\": 5.857264041900635, \"y\": 6.076167106628418}, {\"original_title\": \"Eu N\\u00e3o Fa\\u00e7o a Menor Ideia do que eu T\\u00f4 Fazendo Com a Minha Vida\", \"x\": 5.026572227478027, \"y\": 6.136679172515869}, {\"original_title\": \"Sem Pena\", \"x\": -6.76738166809082, \"y\": 10.79283618927002}, {\"original_title\": \"Sudoeste\", \"x\": 1.9110734462738037, \"y\": 12.36612606048584}, {\"original_title\": \"Douro, Faina Fluvial\", \"x\": 5.449965476989746, \"y\": 10.93390941619873}, {\"original_title\": \"Tarja Branca - A Revolu\\u00e7\\u00e3o que Faltava\", \"x\": -4.632299423217773, \"y\": 2.678250551223755}, {\"original_title\": \"Entre Abelhas\", \"x\": 5.696593761444092, \"y\": -2.832105875015259}, {\"original_title\": \"Rio, Eu Te Amo\", \"x\": 5.41922664642334, \"y\": 10.901761054992676}, {\"original_title\": \"Baile Perfumado\", \"x\": 4.690169334411621, \"y\": 10.652048110961914}, {\"original_title\": \"Capit\\u00e3es da Areia\", \"x\": 0.10308979451656342, \"y\": 3.2200634479522705}, {\"original_title\": \"Caramuru: A Inven\\u00e7\\u00e3o do Brasil\", \"x\": 7.587489128112793, \"y\": 3.1656956672668457}, {\"original_title\": \"Meu P\\u00e9 de Laranja Lima\", \"x\": -4.798057556152344, \"y\": 2.0500080585479736}, {\"original_title\": \"Assalto ao Banco Central\", \"x\": 7.491979122161865, \"y\": 3.0696282386779785}, {\"original_title\": \"Heleno\", \"x\": 5.882490158081055, \"y\": -10.017799377441406}, {\"original_title\": \"Amor Imposs\\u00edvel\", \"x\": 2.9092931747436523, \"y\": -6.833332538604736}, {\"original_title\": \"As Mil e Uma Noites: Volume 1, O Inquieto\", \"x\": 9.245034217834473, \"y\": 10.228759765625}, {\"original_title\": \"Jean Charles\", \"x\": 4.86790657043457, \"y\": 0.4846678376197815}, {\"original_title\": \"Como Esquecer\", \"x\": -1.013176679611206, \"y\": 7.585540294647217}, {\"original_title\": \"\\u00d3 Pa\\u00ed, \\u00d3\", \"x\": -4.768916606903076, \"y\": 2.1122491359710693}, {\"original_title\": \"Natimorto\", \"x\": 4.300270080566406, \"y\": 5.568298816680908}, {\"original_title\": \"Branco Sai, Preto Fica\", \"x\": -7.302982330322266, \"y\": 10.163533210754395}, {\"original_title\": \"Linhas de Wellington\", \"x\": -4.606020450592041, \"y\": 17.06360626220703}, {\"original_title\": \"O Mist\\u00e9rio da Estrada de Sintra\", \"x\": -2.097491502761841, \"y\": 20.237760543823242}, {\"original_title\": \"Hermanoteu na Terra de Godah\", \"x\": -4.725835800170898, \"y\": 2.4836671352386475}, {\"original_title\": \"Cavalo Dinheiro\", \"x\": 1.900577425956726, \"y\": 0.607785701751709}, {\"original_title\": \"A Estrada 47\", \"x\": -2.033430814743042, \"y\": 20.30410385131836}, {\"original_title\": \"O Sangue\", \"x\": 1.9130196571350098, \"y\": 0.6101891994476318}, {\"original_title\": \"Loki - Arnaldo Baptista\", \"x\": 2.095705986022949, \"y\": 12.548009872436523}, {\"original_title\": \"Boa Sorte\", \"x\": -7.026712417602539, \"y\": 10.505667686462402}, {\"original_title\": \"Vai Que Cola - O Filme\", \"x\": 10.49212646484375, \"y\": 0.07752122730016708}, {\"original_title\": \"Filme de Amor\", \"x\": 9.735998153686523, \"y\": 0.28466638922691345}, {\"original_title\": \"Os Cafajestes\", \"x\": 4.890342712402344, \"y\": 11.04512882232666}, {\"original_title\": \"Dias de Nietzsche em Turim\", \"x\": -7.8160247802734375, \"y\": -7.074619770050049}, {\"original_title\": \"Uma Onda no Ar\", \"x\": -2.449061870574951, \"y\": -2.560825824737549}, {\"original_title\": \"Cine Holli\\u00fady\", \"x\": 9.756477355957031, \"y\": 0.32198402285575867}, {\"original_title\": \"O Bandido da Luz Vermelha\", \"x\": -0.3562150299549103, \"y\": 16.10175323486328}, {\"original_title\": \"Macuna\\u00edma\", \"x\": 4.52152156829834, \"y\": 0.38378211855888367}, {\"original_title\": \"Anjos do Sol\", \"x\": 6.776669979095459, \"y\": 2.3663861751556396}, {\"original_title\": \"Iracema, Uma Transa Amaz\\u00f4nica\", \"x\": -4.945459842681885, \"y\": 2.4681556224823}, {\"original_title\": \"O Diabo a Quatro\", \"x\": -2.8170857429504395, \"y\": 14.298443794250488}, {\"original_title\": \"Dom\\u00e9sticas\", \"x\": 9.177695274353027, \"y\": -0.18373505771160126}, {\"original_title\": \"Mutum\", \"x\": -2.0558390617370605, \"y\": 8.724099159240723}, {\"original_title\": \"A Hist\\u00f3ria da Eternidade\", \"x\": 9.814356803894043, \"y\": 0.8001787066459656}, {\"original_title\": \"Hist\\u00f3rias que s\\u00f3 Existem Quando Lembradas\", \"x\": -0.5937788486480713, \"y\": 6.844361782073975}, {\"original_title\": \"Superpai\", \"x\": 10.590629577636719, \"y\": 8.911392211914062}, {\"original_title\": \"O Mercado de Not\\u00edcias\", \"x\": -4.469659805297852, \"y\": 2.577232599258423}, {\"original_title\": \"Boi Neon\", \"x\": 10.559995651245117, \"y\": 8.890260696411133}, {\"original_title\": \"A Alma do Osso\", \"x\": 8.339468002319336, \"y\": 4.713534355163574}, {\"original_title\": \"Os Fuzis\", \"x\": 0.2684066891670227, \"y\": 8.76627254486084}, {\"original_title\": \"L\\u00facio Fl\\u00e1vio, o Passageiro da Agonia\", \"x\": 9.795768737792969, \"y\": 0.8119895458221436}, {\"original_title\": \"Rio, Zona Norte\", \"x\": 5.473464488983154, \"y\": 10.930850982666016}, {\"original_title\": \"Rio, 40 graus\", \"x\": 5.6059346199035645, \"y\": 11.072038650512695}, {\"original_title\": \"O Amuleto de Ogum\", \"x\": 8.349577903747559, \"y\": 4.723606586456299}, {\"original_title\": \"O Coronel e o Lobisomem\", \"x\": -0.5033337473869324, \"y\": 15.953714370727539}, {\"original_title\": \"Besouro\", \"x\": 12.743003845214844, \"y\": 11.417920112609863}, {\"original_title\": \"Uma Hist\\u00f3ria de Amor e F\\u00faria\", \"x\": 9.728199005126953, \"y\": 0.6821607947349548}, {\"original_title\": \"Elena\", \"x\": 5.888188362121582, \"y\": -10.020665168762207}, {\"original_title\": \"Elvis & Madona\", \"x\": -5.0339155197143555, \"y\": -4.5184454917907715}, {\"original_title\": \"A Vida Privada dos Hipop\\u00f3tamos\", \"x\": 4.987123012542725, \"y\": 6.104461193084717}, {\"original_title\": \"Nise: O Cora\\u00e7\\u00e3o da Loucura\", \"x\": 2.008610963821411, \"y\": 0.7032953500747681}, {\"original_title\": \"Ponto Zero\", \"x\": 11.113102912902832, \"y\": 14.311112403869629}, {\"original_title\": \"E Agora? Lembra-me\", \"x\": -1.1984343528747559, \"y\": 7.405768394470215}, {\"original_title\": \"Besame Mucho\", \"x\": 4.765590190887451, \"y\": 10.637709617614746}, {\"original_title\": \"Mais Uma Vez Amor\", \"x\": 5.058858394622803, \"y\": 10.687408447265625}, {\"original_title\": \"Porta dos Fundos: Contrato Vital\\u00edcio\", \"x\": 5.037369728088379, \"y\": 6.149646759033203}, {\"original_title\": \"At\\u00e9 que a Sorte nos Separe\", \"x\": -7.05504035949707, \"y\": 10.477729797363281}, {\"original_title\": \"Calif\\u00f3rnia\", \"x\": 14.530048370361328, \"y\": 13.492423057556152}, {\"original_title\": \"Cabra Marcado Para Morrer\", \"x\": -1.642242193222046, \"y\": 8.300424575805664}, {\"original_title\": \"Caf\\u00e9 Com Leite\", \"x\": -4.828490257263184, \"y\": 2.415672540664673}, {\"original_title\": \"Est\\u00f3ria do Gato e da Lua\", \"x\": -4.846047878265381, \"y\": -4.692385196685791}, {\"original_title\": \"O Quatrilho\", \"x\": -2.8170595169067383, \"y\": 14.298497200012207}, {\"original_title\": \"Marcello Marcello\", \"x\": 4.690855979919434, \"y\": 10.6138334274292}, {\"original_title\": \"Refrigerantes e Can\\u00e7\\u00f5es de Amor\", \"x\": 2.7076427936553955, \"y\": -7.0364532470703125}, {\"original_title\": \"Killjoy\", \"x\": 11.4057035446167, \"y\": 14.610685348510742}, {\"original_title\": \"Aquarius\", \"x\": 5.006654262542725, \"y\": 0.5634447932243347}, {\"original_title\": \"Febre do Rato\", \"x\": 2.139904499053955, \"y\": 0.8246834874153137}, {\"original_title\": \"Get\\u00falio\", \"x\": 0.2095232456922531, \"y\": 8.689531326293945}, {\"original_title\": \"S\\u00e3o Jorge\", \"x\": 18.920455932617188, \"y\": -4.066333770751953}, {\"original_title\": \"O Roubo da Ta\\u00e7a\", \"x\": 0.18142390251159668, \"y\": 8.678890228271484}, {\"original_title\": \"A Misteriosa Morte de P\\u00e9rola\", \"x\": -1.6364513635635376, \"y\": 8.293097496032715}, {\"original_title\": \"Desculpe o Transtorno\", \"x\": -7.310206413269043, \"y\": 10.166839599609375}, {\"original_title\": \"Os Penetras\", \"x\": 2.0542898178100586, \"y\": 12.506065368652344}, {\"original_title\": \"De Pernas Pro Ar 2\", \"x\": 7.062777042388916, \"y\": -7.25557804107666}, {\"original_title\": \"VIPs\", \"x\": 10.56380558013916, \"y\": -4.4192023277282715}, {\"original_title\": \"Reflex\\u00f5es de um Liquidificador\", \"x\": -0.9991670846939087, \"y\": 7.578187465667725}, {\"original_title\": \"A Busca\", \"x\": -1.6395670175552368, \"y\": 8.29444408416748}, {\"original_title\": \"Cidade de Deus: 10 Anos Depois\", \"x\": -10.599796295166016, \"y\": 12.892375946044922}, {\"original_title\": \"Nome Pr\\u00f3prio\", \"x\": 4.509467601776123, \"y\": 5.759927749633789}, {\"original_title\": \"C\\u00e3o Sem Dono\", \"x\": -6.699380397796631, \"y\": 10.860893249511719}, {\"original_title\": \"Siren\", \"x\": 9.173683166503906, \"y\": -0.18392053246498108}, {\"original_title\": \"Se Eu Fosse Voc\\u00ea 2\", \"x\": -11.011855125427246, \"y\": 4.129217147827148}, {\"original_title\": \"Vai Que D\\u00e1 Certo\", \"x\": -7.252883434295654, \"y\": 10.226532936096191}, {\"original_title\": \"Tamo Junto\", \"x\": -11.161340713500977, \"y\": 3.979823589324951}, {\"original_title\": \"Trabalhar Cansa\", \"x\": 11.354353904724121, \"y\": 14.558832168579102}, {\"original_title\": \"A M\\u00e1quina\", \"x\": -1.9811773300170898, \"y\": 8.648717880249023}, {\"original_title\": \"Saneamento B\\u00e1sico, O Filme\", \"x\": 10.398337364196777, \"y\": 0.11499038338661194}, {\"original_title\": \"Minha M\\u00e3e \\u00e9 Uma Pe\\u00e7a 2\", \"x\": -7.243406295776367, \"y\": -0.9054863452911377}, {\"original_title\": \"Liar, Liar, Vampire\", \"x\": 9.118178367614746, \"y\": -0.47083303332328796}, {\"original_title\": \"Curumim\", \"x\": 4.37800407409668, \"y\": 0.2963007092475891}, {\"original_title\": \"Coisa Ruim\", \"x\": -7.045660495758057, \"y\": 10.492947578430176}, {\"original_title\": \"Como Desenhar um C\\u00edrculo Perfeito\", \"x\": 5.624279975891113, \"y\": 5.895812034606934}, {\"original_title\": \"Proibido Proibir\", \"x\": 7.4672956466674805, \"y\": 18.22844123840332}, {\"original_title\": \"O Come\\u00e7o da Vida\", \"x\": 4.944150924682617, \"y\": 6.0463056564331055}, {\"original_title\": \"Clarisse ou alguma coisa sobre n\\u00f3s dois\", \"x\": 5.113000869750977, \"y\": 10.55826187133789}, {\"original_title\": \"Era uma vez eu, Ver\\u00f4nica\", \"x\": 5.095580101013184, \"y\": 10.603452682495117}, {\"original_title\": \"Colo\", \"x\": 14.530013084411621, \"y\": 13.49238109588623}, {\"original_title\": \"Eu Maior\", \"x\": -11.187661170959473, \"y\": 3.9536116123199463}, {\"original_title\": \"Internet - O Filme\", \"x\": 10.553970336914062, \"y\": 0.10093063861131668}, {\"original_title\": \"Tain\\u00e1: Uma Aventura na Amaz\\u00f4nia\", \"x\": -4.945380210876465, \"y\": 2.495748996734619}, {\"original_title\": \"Os Homens S\\u00e3o de Marte... E \\u00e9 pra L\\u00e1 que Eu Vou!\", \"x\": 4.480024814605713, \"y\": 16.343345642089844}, {\"original_title\": \"Loucas pra Casar\", \"x\": -0.39516329765319824, \"y\": 6.884676456451416}, {\"original_title\": \"Pro Dia Nascer Feliz\", \"x\": 4.342092514038086, \"y\": 5.611726760864258}, {\"original_title\": \"Chico Xavier\", \"x\": 4.969743251800537, \"y\": 0.5491530895233154}, {\"original_title\": \"Mem\\u00f3rias P\\u00f3stumas\", \"x\": -1.1801307201385498, \"y\": 7.424576282501221}, {\"original_title\": \"Didi, o Cupido Trapalh\\u00e3o\", \"x\": 5.159061908721924, \"y\": 10.636079788208008}, {\"original_title\": \"Big Jato\", \"x\": -6.988977909088135, \"y\": 10.545402526855469}, {\"original_title\": \"Mangue Negro\", \"x\": 11.701543807983398, \"y\": 3.07241153717041}, {\"original_title\": \"O Ornit\\u00f3logo\", \"x\": 8.368592262268066, \"y\": 4.74390983581543}, {\"original_title\": \"Ilha das Flores\", \"x\": 3.4834837913513184, \"y\": -2.5638129711151123}, {\"original_title\": \"Meu tio matou um cara\", \"x\": 4.509432792663574, \"y\": 16.379980087280273}, {\"original_title\": \"Desmundo\", \"x\": 11.124037742614746, \"y\": 14.32292366027832}, {\"original_title\": \"O Delfim\", \"x\": -1.6061179637908936, \"y\": 8.258913040161133}, {\"original_title\": \"Uma Abelha na Chuva\", \"x\": 5.707058429718018, \"y\": -2.8375842571258545}, {\"original_title\": \"A Bela e o Paparazzo\", \"x\": -0.2747470736503601, \"y\": 16.1826229095459}, {\"original_title\": \"Reconvers\\u00e3o\", \"x\": -0.8563356995582581, \"y\": 7.730287075042725}, {\"original_title\": \"Henry Miller Asleep & Awake\", \"x\": 9.106095314025879, \"y\": -0.5228110551834106}, {\"original_title\": \"A Grande Fam\\u00edlia: O Filme\", \"x\": 10.360638618469238, \"y\": 0.00441137095913291}, {\"original_title\": \"Amor.com\", \"x\": 2.8715569972991943, \"y\": -6.871216297149658}, {\"original_title\": \"M\\u00e3e S\\u00f3 H\\u00e1 Uma\", \"x\": -7.1858601570129395, \"y\": -0.8476482629776001}, {\"original_title\": \"Opera\\u00e7\\u00f5es Especiais\", \"x\": 10.55788516998291, \"y\": 9.039471626281738}, {\"original_title\": \"Olga\", \"x\": 5.901042938232422, \"y\": -10.026556015014648}]}}, {\"mode\": \"vega-lite\"});\n",
       "</script>"
      ],
      "text/plain": [
       "alt.Chart(...)"
      ]
     },
     "execution_count": 525,
     "metadata": {},
     "output_type": "execute_result"
    }
   ],
   "source": [
    "warnings.simplefilter('ignore', category=NumbaDeprecationWarning)\n",
    "warnings.simplefilter('ignore', category=NumbaPendingDeprecationWarning)\n",
    "\n",
    "chart = alt.Chart(df_embeds_d2).mark_circle(size=60).encode(\n",
    "    x=#'x',\n",
    "    alt.X('x',\n",
    "        scale=alt.Scale(zero=False)\n",
    "    ),\n",
    "    y=alt.Y('y',\n",
    "        scale=alt.Scale(zero=False)\n",
    "    ),\n",
    "    tooltip=['original_title']\n",
    ").properties(\n",
    "    width=700,\n",
    "    height=400\n",
    ")\n",
    "\n",
    "text = chart.mark_text(\n",
    "    align='left',\n",
    "    baseline='middle',\n",
    ").encode(\n",
    "    text='original_title'\n",
    ")\n",
    "\n",
    "chart_with_labels = (chart + text)\n",
    "\n",
    "## Plota apenas os pontos que representam os filmes no plano\n",
    "chart.interactive()\n",
    "\n",
    "## Plota os pontos e os títulos no plano\n",
    "#chart_with_labels.interactive()"
   ]
  },
  {
   "cell_type": "markdown",
   "id": "63537d94-a055-425f-af09-3720b7a4a0d3",
   "metadata": {},
   "source": [
    "Para aqueles que não conseguirem rodar o notebook insiro abaixo a imagem do mapeamento gerado acima"
   ]
  },
  {
   "cell_type": "markdown",
   "id": "4f4a11ac-fdfd-4d8d-93fc-be349b602453",
   "metadata": {},
   "source": [
    "![Alt text](data/visualization-1.svg)"
   ]
  },
  {
   "cell_type": "markdown",
   "id": "3d0b2d40-9af4-4b08-8c95-d3076fda1b05",
   "metadata": {},
   "source": [
    "O mapeamento nos mostra como os filmes (pontos azuis) se relacionam a partir de seus títulos. \n",
    "\n",
    "Podemos notar alguns aglomerados que se formam exatamente por sua maior proximidade. Vamos olhar alguns deles."
   ]
  },
  {
   "cell_type": "markdown",
   "id": "c67392b6-4805-41d9-9da7-b56cb8d0425f",
   "metadata": {},
   "source": [
    "![Alt text](data/visualization-2.svg)"
   ]
  },
  {
   "cell_type": "markdown",
   "id": "dadc267b-6f09-4cfb-aec0-9ff51f460ac1",
   "metadata": {},
   "source": [
    "Um agrupamento de títulos em inglês."
   ]
  },
  {
   "cell_type": "markdown",
   "id": "cdd3dd75-2595-4dee-bd42-89f4d81e7fe3",
   "metadata": {},
   "source": [
    "![Alt text](data/visualization-3.svg)"
   ]
  },
  {
   "cell_type": "markdown",
   "id": "ed784715-9039-4901-9c5f-07b2800384c8",
   "metadata": {},
   "source": [
    "Agrupamento interessante de nomes indígenas e Amazônia"
   ]
  },
  {
   "cell_type": "markdown",
   "id": "695326d4-1b7b-4ce4-b29c-7737cdd2422e",
   "metadata": {},
   "source": [
    "![Alt text](data/visualization-4.svg)"
   ]
  },
  {
   "cell_type": "markdown",
   "id": "24c3cdc0-da86-471d-bfab-b414c4fd6855",
   "metadata": {},
   "source": [
    "Este agrupamento de filmes não parecem ter muito a ver."
   ]
  },
  {
   "cell_type": "markdown",
   "id": "b793ea39-5c3a-4191-9962-db1f059d5a02",
   "metadata": {},
   "source": [
    "## Extraindo o embedding da descrição dos filmes"
   ]
  },
  {
   "cell_type": "markdown",
   "id": "7d15c22d-b417-4ba6-aea3-84f8bcc9448a",
   "metadata": {},
   "source": [
    "Vamos observar agora como um mapeamento utilizando o resumo do filme, ao invés do título, pode modificar as relações de proximidade."
   ]
  },
  {
   "cell_type": "markdown",
   "id": "99ac3d99-b1ff-4b42-88f9-442d7001c1f1",
   "metadata": {},
   "source": [
    "Diferente do título original, ***overview*** neste banco de dados está em inglês. Por isso vamos utilizar o modelo embed-english-light-v2.0"
   ]
  },
  {
   "cell_type": "code",
   "execution_count": 526,
   "id": "6c876e2f-23e2-4dc6-be80-cdea3965db15",
   "metadata": {},
   "outputs": [
    {
     "data": {
      "text/html": [
       "<div>\n",
       "<style scoped>\n",
       "    .dataframe tbody tr th:only-of-type {\n",
       "        vertical-align: middle;\n",
       "    }\n",
       "\n",
       "    .dataframe tbody tr th {\n",
       "        vertical-align: top;\n",
       "    }\n",
       "\n",
       "    .dataframe thead th {\n",
       "        text-align: right;\n",
       "    }\n",
       "</style>\n",
       "<table border=\"1\" class=\"dataframe\">\n",
       "  <thead>\n",
       "    <tr style=\"text-align: right;\">\n",
       "      <th></th>\n",
       "      <th>overview</th>\n",
       "    </tr>\n",
       "  </thead>\n",
       "  <tbody>\n",
       "    <tr>\n",
       "      <th>738</th>\n",
       "      <td>A biography of the Portuguese-Brazilian singer...</td>\n",
       "    </tr>\n",
       "    <tr>\n",
       "      <th>1659</th>\n",
       "      <td>A student gets his senses enhanced by an exper...</td>\n",
       "    </tr>\n",
       "    <tr>\n",
       "      <th>1670</th>\n",
       "      <td>Fernando, a journalist, and his friend César j...</td>\n",
       "    </tr>\n",
       "    <tr>\n",
       "      <th>1806</th>\n",
       "      <td>Manoel is aging film director who travels with...</td>\n",
       "    </tr>\n",
       "    <tr>\n",
       "      <th>2244</th>\n",
       "      <td>An emotive journey of a former school teacher,...</td>\n",
       "    </tr>\n",
       "    <tr>\n",
       "      <th>...</th>\n",
       "      <td>...</td>\n",
       "    </tr>\n",
       "    <tr>\n",
       "      <th>44541</th>\n",
       "      <td>For forty years, the public functionary and fa...</td>\n",
       "    </tr>\n",
       "    <tr>\n",
       "      <th>44591</th>\n",
       "      <td>It's a love story between a fashion blogger an...</td>\n",
       "    </tr>\n",
       "    <tr>\n",
       "      <th>44941</th>\n",
       "      <td>Pierre is seventeen and in the middle of puber...</td>\n",
       "    </tr>\n",
       "    <tr>\n",
       "      <th>44977</th>\n",
       "      <td>A group of honest police is sent to a country ...</td>\n",
       "    </tr>\n",
       "    <tr>\n",
       "      <th>45168</th>\n",
       "      <td>Based upon the true story of Olga Benário, the...</td>\n",
       "    </tr>\n",
       "  </tbody>\n",
       "</table>\n",
       "<p>295 rows × 1 columns</p>\n",
       "</div>"
      ],
      "text/plain": [
       "                                                overview\n",
       "738    A biography of the Portuguese-Brazilian singer...\n",
       "1659   A student gets his senses enhanced by an exper...\n",
       "1670   Fernando, a journalist, and his friend César j...\n",
       "1806   Manoel is aging film director who travels with...\n",
       "2244   An emotive journey of a former school teacher,...\n",
       "...                                                  ...\n",
       "44541  For forty years, the public functionary and fa...\n",
       "44591  It's a love story between a fashion blogger an...\n",
       "44941  Pierre is seventeen and in the middle of puber...\n",
       "44977  A group of honest police is sent to a country ...\n",
       "45168  Based upon the true story of Olga Benário, the...\n",
       "\n",
       "[295 rows x 1 columns]"
      ]
     },
     "execution_count": 526,
     "metadata": {},
     "output_type": "execute_result"
    }
   ],
   "source": [
    "filmes_brasileiros.overview.to_frame()"
   ]
  },
  {
   "cell_type": "code",
   "execution_count": 527,
   "id": "a3f624b8-c98e-454d-8be5-47fc0fb0a1f6",
   "metadata": {},
   "outputs": [],
   "source": [
    "emb_overview = co.embed(texts=list(filmes_brasileiros.overview),\n",
    "               model='embed-english-light-v2.0').embeddings"
   ]
  },
  {
   "cell_type": "code",
   "execution_count": 528,
   "id": "6d5d7c5f-d81e-4896-b7c9-516e7aebc1ce",
   "metadata": {},
   "outputs": [
    {
     "name": "stdout",
     "output_type": "stream",
     "text": [
      "O embedding da Cohere English Light é um vetor de 1024 dimensões\n"
     ]
    }
   ],
   "source": [
    "emb_overview\n",
    "print(f\"O embedding da Cohere English Light é um vetor de {len(emb_overview[0])} dimensões\")"
   ]
  },
  {
   "cell_type": "markdown",
   "id": "9f1dce00-85b1-4eab-b664-0f97edb97947",
   "metadata": {},
   "source": [
    "### Diminuindo a dimensão"
   ]
  },
  {
   "cell_type": "code",
   "execution_count": 529,
   "id": "e1ba5b1c-8179-4c3f-92e4-8c7132e7b2ce",
   "metadata": {},
   "outputs": [
    {
     "name": "stderr",
     "output_type": "stream",
     "text": [
      "/usr/local/lib/python3.11/site-packages/sklearn/manifold/_spectral_embedding.py:274: UserWarning: Graph is not fully connected, spectral embedding may not work as expected.\n",
      "  warnings.warn(\n"
     ]
    },
    {
     "data": {
      "text/plain": [
       "array([[  5.6369987,  -5.575538 ],\n",
       "       [  9.817616 , -11.427569 ]], dtype=float32)"
      ]
     },
     "execution_count": 529,
     "metadata": {},
     "output_type": "execute_result"
    }
   ],
   "source": [
    "reducer_overview = umap.UMAP(n_neighbors=2)\n",
    "umap_embeds_overview = reducer_overview.fit_transform(emb_overview)\n",
    "umap_embeds_overview[:2]"
   ]
  },
  {
   "cell_type": "code",
   "execution_count": 530,
   "id": "5bd1b51a-67c9-470d-bf90-35f4278a3d02",
   "metadata": {},
   "outputs": [
    {
     "data": {
      "text/html": [
       "<div>\n",
       "<style scoped>\n",
       "    .dataframe tbody tr th:only-of-type {\n",
       "        vertical-align: middle;\n",
       "    }\n",
       "\n",
       "    .dataframe tbody tr th {\n",
       "        vertical-align: top;\n",
       "    }\n",
       "\n",
       "    .dataframe thead th {\n",
       "        text-align: right;\n",
       "    }\n",
       "</style>\n",
       "<table border=\"1\" class=\"dataframe\">\n",
       "  <thead>\n",
       "    <tr style=\"text-align: right;\">\n",
       "      <th></th>\n",
       "      <th>original_title</th>\n",
       "      <th>x</th>\n",
       "      <th>y</th>\n",
       "    </tr>\n",
       "  </thead>\n",
       "  <tbody>\n",
       "    <tr>\n",
       "      <th>738</th>\n",
       "      <td>Carmen Miranda: Bananas Is My Business</td>\n",
       "      <td>5.636999</td>\n",
       "      <td>-5.575538</td>\n",
       "    </tr>\n",
       "    <tr>\n",
       "      <th>1659</th>\n",
       "      <td>Senseless</td>\n",
       "      <td>9.817616</td>\n",
       "      <td>-11.427569</td>\n",
       "    </tr>\n",
       "    <tr>\n",
       "      <th>1670</th>\n",
       "      <td>O Que é Isso, Companheiro?</td>\n",
       "      <td>3.550342</td>\n",
       "      <td>5.383621</td>\n",
       "    </tr>\n",
       "    <tr>\n",
       "      <th>1806</th>\n",
       "      <td>Viagem ao Princípio do Mundo</td>\n",
       "      <td>7.124527</td>\n",
       "      <td>7.471398</td>\n",
       "    </tr>\n",
       "    <tr>\n",
       "      <th>2244</th>\n",
       "      <td>Central do Brasil</td>\n",
       "      <td>13.843379</td>\n",
       "      <td>5.666356</td>\n",
       "    </tr>\n",
       "  </tbody>\n",
       "</table>\n",
       "</div>"
      ],
      "text/plain": [
       "                              original_title          x          y\n",
       "738   Carmen Miranda: Bananas Is My Business   5.636999  -5.575538\n",
       "1659                               Senseless   9.817616 -11.427569\n",
       "1670              O Que é Isso, Companheiro?   3.550342   5.383621\n",
       "1806            Viagem ao Princípio do Mundo   7.124527   7.471398\n",
       "2244                       Central do Brasil  13.843379   5.666356"
      ]
     },
     "execution_count": 530,
     "metadata": {},
     "output_type": "execute_result"
    }
   ],
   "source": [
    "df_embeds_overview = filmes_brasileiros.original_title.to_frame().copy()\n",
    "df_embeds_overview['x'] = umap_embeds_overview[:,0]\n",
    "df_embeds_overview['y'] = umap_embeds_overview[:,1]\n",
    "df_embeds_overview.head()"
   ]
  },
  {
   "cell_type": "markdown",
   "id": "e4283258-7a09-41a5-a1c1-137dd82d3532",
   "metadata": {},
   "source": [
    "### Plotando os filmes"
   ]
  },
  {
   "cell_type": "code",
   "execution_count": 531,
   "id": "3e56e0a7-e640-42b1-9781-9bf7d7aad291",
   "metadata": {},
   "outputs": [
    {
     "data": {
      "text/html": [
       "\n",
       "<style>\n",
       "  #altair-viz-c6e755f02d3d4b539c031e2755291bd8.vega-embed {\n",
       "    width: 100%;\n",
       "    display: flex;\n",
       "  }\n",
       "\n",
       "  #altair-viz-c6e755f02d3d4b539c031e2755291bd8.vega-embed details,\n",
       "  #altair-viz-c6e755f02d3d4b539c031e2755291bd8.vega-embed details summary {\n",
       "    position: relative;\n",
       "  }\n",
       "</style>\n",
       "<div id=\"altair-viz-c6e755f02d3d4b539c031e2755291bd8\"></div>\n",
       "<script type=\"text/javascript\">\n",
       "  var VEGA_DEBUG = (typeof VEGA_DEBUG == \"undefined\") ? {} : VEGA_DEBUG;\n",
       "  (function(spec, embedOpt){\n",
       "    let outputDiv = document.currentScript.previousElementSibling;\n",
       "    if (outputDiv.id !== \"altair-viz-c6e755f02d3d4b539c031e2755291bd8\") {\n",
       "      outputDiv = document.getElementById(\"altair-viz-c6e755f02d3d4b539c031e2755291bd8\");\n",
       "    }\n",
       "    const paths = {\n",
       "      \"vega\": \"https://cdn.jsdelivr.net/npm/vega@5?noext\",\n",
       "      \"vega-lib\": \"https://cdn.jsdelivr.net/npm/vega-lib?noext\",\n",
       "      \"vega-lite\": \"https://cdn.jsdelivr.net/npm/vega-lite@5.8.0?noext\",\n",
       "      \"vega-embed\": \"https://cdn.jsdelivr.net/npm/vega-embed@6?noext\",\n",
       "    };\n",
       "\n",
       "    function maybeLoadScript(lib, version) {\n",
       "      var key = `${lib.replace(\"-\", \"\")}_version`;\n",
       "      return (VEGA_DEBUG[key] == version) ?\n",
       "        Promise.resolve(paths[lib]) :\n",
       "        new Promise(function(resolve, reject) {\n",
       "          var s = document.createElement('script');\n",
       "          document.getElementsByTagName(\"head\")[0].appendChild(s);\n",
       "          s.async = true;\n",
       "          s.onload = () => {\n",
       "            VEGA_DEBUG[key] = version;\n",
       "            return resolve(paths[lib]);\n",
       "          };\n",
       "          s.onerror = () => reject(`Error loading script: ${paths[lib]}`);\n",
       "          s.src = paths[lib];\n",
       "        });\n",
       "    }\n",
       "\n",
       "    function showError(err) {\n",
       "      outputDiv.innerHTML = `<div class=\"error\" style=\"color:red;\">${err}</div>`;\n",
       "      throw err;\n",
       "    }\n",
       "\n",
       "    function displayChart(vegaEmbed) {\n",
       "      vegaEmbed(outputDiv, spec, embedOpt)\n",
       "        .catch(err => showError(`Javascript Error: ${err.message}<br>This usually means there's a typo in your chart specification. See the javascript console for the full traceback.`));\n",
       "    }\n",
       "\n",
       "    if(typeof define === \"function\" && define.amd) {\n",
       "      requirejs.config({paths});\n",
       "      require([\"vega-embed\"], displayChart, err => showError(`Error loading script: ${err.message}`));\n",
       "    } else {\n",
       "      maybeLoadScript(\"vega\", \"5\")\n",
       "        .then(() => maybeLoadScript(\"vega-lite\", \"5.8.0\"))\n",
       "        .then(() => maybeLoadScript(\"vega-embed\", \"6\"))\n",
       "        .catch(showError)\n",
       "        .then(() => displayChart(vegaEmbed));\n",
       "    }\n",
       "  })({\"config\": {\"view\": {\"continuousWidth\": 300, \"continuousHeight\": 300}}, \"data\": {\"name\": \"data-3eaed2e3f0e94260dd0a649d86401fa8\"}, \"mark\": {\"type\": \"circle\", \"size\": 60}, \"encoding\": {\"tooltip\": [{\"field\": \"original_title\", \"type\": \"nominal\"}], \"x\": {\"field\": \"x\", \"scale\": {\"zero\": false}, \"type\": \"quantitative\"}, \"y\": {\"field\": \"y\", \"scale\": {\"zero\": false}, \"type\": \"quantitative\"}}, \"height\": 400, \"params\": [{\"name\": \"param_29\", \"select\": {\"type\": \"interval\", \"encodings\": [\"x\", \"y\"]}, \"bind\": \"scales\"}], \"width\": 700, \"$schema\": \"https://vega.github.io/schema/vega-lite/v5.8.0.json\", \"datasets\": {\"data-3eaed2e3f0e94260dd0a649d86401fa8\": [{\"original_title\": \"Carmen Miranda: Bananas Is My Business\", \"x\": 5.636998653411865, \"y\": -5.575538158416748}, {\"original_title\": \"Senseless\", \"x\": 9.81761646270752, \"y\": -11.427569389343262}, {\"original_title\": \"O Que \\u00e9 Isso, Companheiro?\", \"x\": 3.550342082977295, \"y\": 5.3836212158203125}, {\"original_title\": \"Viagem ao Princ\\u00edpio do Mundo\", \"x\": 7.124526500701904, \"y\": 7.471397876739502}, {\"original_title\": \"Central do Brasil\", \"x\": 13.843379020690918, \"y\": 5.666356086730957}, {\"original_title\": \"A Civil Action\", \"x\": 3.585934638977051, \"y\": 5.100419044494629}, {\"original_title\": \"Curse of the Puppet Master\", \"x\": 8.983099937438965, \"y\": 1.462449312210083}, {\"original_title\": \"Eu, Tu, Eles\", \"x\": 5.169137001037598, \"y\": -12.753509521484375}, {\"original_title\": \"Pixote: A Lei do Mais Fraco\", \"x\": 5.61522102355957, \"y\": -6.115123748779297}, {\"original_title\": \"Abril Despeda\\u00e7ado\", \"x\": -1.6452338695526123, \"y\": -3.03407883644104}, {\"original_title\": \"Vale Abra\\u00e3o\", \"x\": 0.36086100339889526, \"y\": 8.977102279663086}, {\"original_title\": \"Cidade de Deus\", \"x\": -2.5390098094940186, \"y\": -3.2358787059783936}, {\"original_title\": \"Madame Sat\\u00e3\", \"x\": 5.619129180908203, \"y\": -5.554511070251465}, {\"original_title\": \"Amores Poss\\u00edveis\", \"x\": 19.274749755859375, \"y\": -0.0730418860912323}, {\"original_title\": \"Orfeu Negro\", \"x\": 9.766432762145996, \"y\": 5.108114242553711}, {\"original_title\": \"Carandiru\", \"x\": 3.824575662612915, \"y\": -3.6170835494995117}, {\"original_title\": \"Terra Estrangeira\", \"x\": -2.813058853149414, \"y\": -1.6037241220474243}, {\"original_title\": \"O Primeiro Dia\", \"x\": 19.219406127929688, \"y\": -0.017649170011281967}, {\"original_title\": \"O Auto da Compadecida\", \"x\": 0.4953746199607849, \"y\": 8.36476993560791}, {\"original_title\": \"O Homem do Ano\", \"x\": -3.7805991172790527, \"y\": -0.918990969657898}, {\"original_title\": \"Um Filme Falado\", \"x\": 5.412069320678711, \"y\": -12.510454177856445}, {\"original_title\": \"O Homem Que Copiava\", \"x\": 5.520428657531738, \"y\": -6.035275459289551}, {\"original_title\": \"Deus \\u00e9 Brasileiro\", \"x\": 0.11542671173810959, \"y\": 8.698134422302246}, {\"original_title\": \"Capit\\u00e3es de Abril\", \"x\": 1.122404932975769, \"y\": -8.887250900268555}, {\"original_title\": \"Dona Flor e Seus Dois Maridos\", \"x\": -3.2077889442443848, \"y\": -1.2213574647903442}, {\"original_title\": \"Orfeu\", \"x\": 9.77967357635498, \"y\": 5.122462749481201}, {\"original_title\": \"Lisbela e o Prisioneiro\", \"x\": -2.3300652503967285, \"y\": -3.351871967315674}, {\"original_title\": \"Bicho de Sete Cabe\\u00e7as\", \"x\": 12.32020378112793, \"y\": 2.098837375640869}, {\"original_title\": \"Cidade Baixa\", \"x\": 8.19975471496582, \"y\": -15.859553337097168}, {\"original_title\": \"Lisbon Story\", \"x\": 7.074416637420654, \"y\": 7.467947483062744}, {\"original_title\": \"Se eu fosse voc\\u00ea\", \"x\": 9.941336631774902, \"y\": -10.977886199951172}, {\"original_title\": \"Wood & Stock: Sexo, Or\\u00e9gano e Rock'n'Roll\", \"x\": 10.130712509155273, \"y\": -13.704341888427734}, {\"original_title\": \"Tropa de Elite\", \"x\": -1.606486439704895, \"y\": -10.707611083984375}, {\"original_title\": \"O Ano em Que Meus Pais Sa\\u00edram de F\\u00e9rias\", \"x\": 4.261080741882324, \"y\": -3.469987630844116}, {\"original_title\": \"O Cheiro do Ralo\", \"x\": 16.76123046875, \"y\": -3.3112995624542236}, {\"original_title\": \"Lavoura Arcaica\", \"x\": 8.922630310058594, \"y\": 7.929218292236328}, {\"original_title\": \"Dois Filhos de Francisco\", \"x\": 0.5121293663978577, \"y\": 9.309741020202637}, {\"original_title\": \"Cazuza - O Tempo N\\u00e3o P\\u00e1ra\", \"x\": 16.714323043823242, \"y\": 6.51577091217041}, {\"original_title\": \"Cidade dos Homens\", \"x\": 8.199722290039062, \"y\": -15.859574317932129}, {\"original_title\": \"O Drag\\u00e3o da Maldade contra o Santo Guerreiro\", \"x\": -5.851929187774658, \"y\": -10.258339881896973}, {\"original_title\": \"Os Normais - O Filme\", \"x\": 16.14826202392578, \"y\": -3.244438409805298}, {\"original_title\": \"O Homem Que Desafiou o Diabo\", \"x\": 0.5010257363319397, \"y\": 8.325178146362305}, {\"original_title\": \"Casa de Areia\", \"x\": -0.7555758953094482, \"y\": 0.1559339016675949}, {\"original_title\": \"Linha de Passe\", \"x\": 5.51212215423584, \"y\": -5.61889123916626}, {\"original_title\": \"Deus e o Diabo na Terra do Sol\", \"x\": -5.85189962387085, \"y\": -10.2583646774292}, {\"original_title\": \"David and Lisa\", \"x\": 2.2351365089416504, \"y\": -1.4924941062927246}, {\"original_title\": \"Terra em Transe\", \"x\": -3.730950117111206, \"y\": -0.9512423872947693}, {\"original_title\": \"Vidas secas\", \"x\": 2.122607707977295, \"y\": 13.868677139282227}, {\"original_title\": \"Limite\", \"x\": 13.846576690673828, \"y\": 5.688661575317383}, {\"original_title\": \"Juventude Em Marcha\", \"x\": 7.109953880310059, \"y\": 7.479097843170166}, {\"original_title\": \"As Bodas de Deus\", \"x\": 0.2889900803565979, \"y\": 8.904860496520996}, {\"original_title\": \"O Fantasma\", \"x\": 8.40793514251709, \"y\": 8.02487564086914}, {\"original_title\": \"\\u00c0 Meia Noite Levarei Sua Alma\", \"x\": 4.565744400024414, \"y\": 11.146700859069824}, {\"original_title\": \"\\u00c0 Deriva\", \"x\": 19.22773551940918, \"y\": -0.02557925134897232}, {\"original_title\": \"Eu Me Lembro\", \"x\": -5.974575519561768, \"y\": 14.036060333251953}, {\"original_title\": \"Como Era Gostoso o Meu Franc\\u00eas\", \"x\": -1.442014217376709, \"y\": -2.197591543197632}, {\"original_title\": \"Encarna\\u00e7\\u00e3o do Dem\\u00f4nio\", \"x\": 4.422462463378906, \"y\": 11.288681030273438}, {\"original_title\": \"Esta Noite Encarnarei no Teu Cad\\u00e1ver\", \"x\": 4.466108322143555, \"y\": 11.245542526245117}, {\"original_title\": \"Singularidades de uma Rapariga Loura\", \"x\": -1.6696689128875732, \"y\": -2.3797640800476074}, {\"original_title\": \"O Pagador de Promessas\", \"x\": -4.293056011199951, \"y\": 6.095703601837158}, {\"original_title\": \"Tropa de Elite 2\", \"x\": -1.6081409454345703, \"y\": -10.70931339263916}, {\"original_title\": \"Bye Bye Brasil\", \"x\": -1.8094279766082764, \"y\": -2.3438920974731445}, {\"original_title\": \"Odete\", \"x\": -4.059240818023682, \"y\": -0.7686307430267334}, {\"original_title\": \"A Idade da Terra\", \"x\": 3.809695243835449, \"y\": -2.537839412689209}, {\"original_title\": \"O Estranho Caso de Ang\\u00e9lica\", \"x\": 5.362572193145752, \"y\": -12.559836387634277}, {\"original_title\": \"Veredas\", \"x\": 12.186010360717773, \"y\": 2.2329745292663574}, {\"original_title\": \"Ossos\", \"x\": 4.651447296142578, \"y\": 11.061857223510742}, {\"original_title\": \"\\u00daltima Parada 174\", \"x\": 4.933436870574951, \"y\": 5.190433502197266}, {\"original_title\": \"Aquele Querido M\\u00eas de Agosto\", \"x\": 7.4549946784973145, \"y\": 7.559308052062988}, {\"original_title\": \"Mist\\u00e9rios de Lisboa\", \"x\": 5.343828201293945, \"y\": -12.578632354736328}, {\"original_title\": \"Recorda\\u00e7\\u00f5es da Casa Amarela\", \"x\": -3.1422626972198486, \"y\": -1.2604360580444336}, {\"original_title\": \"A Via L\\u00e1ctea\", \"x\": 8.601432800292969, \"y\": 7.8963470458984375}, {\"original_title\": \"A Com\\u00e9dia de Deus\", \"x\": 16.79193687438965, \"y\": -3.320521593093872}, {\"original_title\": \"O Contador de Hist\\u00f3rias\", \"x\": 13.866896629333496, \"y\": -10.675939559936523}, {\"original_title\": \"No Quarto da Vanda\", \"x\": 12.472541809082031, \"y\": 1.9465276002883911}, {\"original_title\": \"Silvestre\", \"x\": 17.278718948364258, \"y\": -6.947890281677246}, {\"original_title\": \"El silencio antes de Bach (Die Stille vor Bach)\", \"x\": 17.257919311523438, \"y\": -6.926482200622559}, {\"original_title\": \"\\u00c0 Flor do Mar\", \"x\": 8.553862571716309, \"y\": 8.007732391357422}, {\"original_title\": \"Morrer Como Um Homem\", \"x\": -0.6917226314544678, \"y\": 0.22212892770767212}, {\"original_title\": \"Like Water\", \"x\": 0.6223360300064087, \"y\": 9.481209754943848}, {\"original_title\": \"O Palha\\u00e7o\", \"x\": 5.560359954833984, \"y\": -5.667061805725098}, {\"original_title\": \"Do Come\\u00e7o ao Fim\", \"x\": 16.4164981842041, \"y\": -3.274374008178711}, {\"original_title\": \"The Gospel of Judas\", \"x\": 0.48170027136802673, \"y\": 8.162603378295898}, {\"original_title\": \"247\\u00b0F\", \"x\": 16.047544479370117, \"y\": -3.8855626583099365}, {\"original_title\": \"2 Coelhos\", \"x\": 3.3162262439727783, \"y\": 5.26407527923584}, {\"original_title\": \"O Som ao Redor\", \"x\": 4.328073024749756, \"y\": -3.845672607421875}, {\"original_title\": \"Fragmentos de um Filme-Esmola: A Sagrada Fam\\u00edlia\", \"x\": 3.520939588546753, \"y\": 5.160719394683838}, {\"original_title\": \"Manoel dans l'\\u00eele des merveilles\", \"x\": 7.059161186218262, \"y\": 7.443994522094727}, {\"original_title\": \"Tabu\", \"x\": 0.35819509625434875, \"y\": 8.984407424926758}, {\"original_title\": \"Bruna Surfistinha\", \"x\": 5.597011566162109, \"y\": -6.149766445159912}, {\"original_title\": \"\\u00c1rido Movie\", \"x\": 2.1226966381073, \"y\": 13.869039535522461}, {\"original_title\": \"E A\\u00ed... Comeu?\", \"x\": -0.21287430822849274, \"y\": 0.7033371329307556}, {\"original_title\": \"Eu N\\u00e3o Quero Voltar Sozinho\", \"x\": 10.332906723022461, \"y\": -10.744593620300293}, {\"original_title\": \"Amor de Perdi\\u00e7\\u00e3o\", \"x\": 10.130706787109375, \"y\": -13.704339981079102}, {\"original_title\": \"Rafa\", \"x\": 3.4661881923675537, \"y\": 5.113418102264404}, {\"original_title\": \"Entre Len\\u00e7\\u00f3is\", \"x\": 16.188631057739258, \"y\": -3.2743473052978516}, {\"original_title\": \"Viagem a Portugal\", \"x\": 6.139882564544678, \"y\": -1.5609831809997559}, {\"original_title\": \"Belarmino\", \"x\": 0.5951113104820251, \"y\": 9.44406795501709}, {\"original_title\": \"Tempos de Paz\", \"x\": 3.960097074508667, \"y\": -4.770488739013672}, {\"original_title\": \"Noite Vazia\", \"x\": 16.384395599365234, \"y\": -3.313500165939331}, {\"original_title\": \"Faroeste Caboclo\", \"x\": -2.4775288105010986, \"y\": -3.2508628368377686}, {\"original_title\": \"Jos\\u00e9 e Pilar\", \"x\": 12.15229606628418, \"y\": 2.266449213027954}, {\"original_title\": \"Sambizanga\", \"x\": 3.9064810276031494, \"y\": -4.586919784545898}, {\"original_title\": \"Prata Palomares\", \"x\": -0.6860283017158508, \"y\": 0.22690623998641968}, {\"original_title\": \"Xingu\", \"x\": -1.6950228214263916, \"y\": -2.3731110095977783}, {\"original_title\": \"Ad\\u00e3o e Eva\", \"x\": -4.1202778816223145, \"y\": -0.7301493883132935}, {\"original_title\": \"A Mulher Invis\\u00edvel\", \"x\": -0.4728144407272339, \"y\": 0.4419696033000946}, {\"original_title\": \"Black Widow\", \"x\": -5.85851526260376, \"y\": -5.415536880493164}, {\"original_title\": \"Quebrando o Tabu\", \"x\": 4.567795753479004, \"y\": 5.085485935211182}, {\"original_title\": \"O Homem do Futuro\", \"x\": 9.826210975646973, \"y\": -11.421369552612305}, {\"original_title\": \"De Pernas Pro Ar\", \"x\": 16.73461151123047, \"y\": -3.2752513885498047}, {\"original_title\": \"Meu Passado me Condena\", \"x\": -3.7425074577331543, \"y\": -0.9476354718208313}, {\"original_title\": \"Minha M\\u00e3e \\u00e9 uma Pe\\u00e7a\", \"x\": 10.229081153869629, \"y\": -4.400808811187744}, {\"original_title\": \"Amazonia\", \"x\": -1.7678065299987793, \"y\": -3.4052557945251465}, {\"original_title\": \"Chega de Saudade\", \"x\": 4.132634162902832, \"y\": -4.366367340087891}, {\"original_title\": \"Who the F**K Is Arthur Fogel\", \"x\": 10.152448654174805, \"y\": -11.222729682922363}, {\"original_title\": \"O Princ\\u00edpio da Incerteza\", \"x\": -0.7069972157478333, \"y\": 0.20670290291309357}, {\"original_title\": \"Alice\", \"x\": 13.951473236083984, \"y\": 5.541078567504883}, {\"original_title\": \"Vai-e-Vem\", \"x\": 12.305704116821289, \"y\": 2.1128695011138916}, {\"original_title\": \"O \\u00daltimo Mergulho\", \"x\": 7.471680164337158, \"y\": 7.528298377990723}, {\"original_title\": \"Passeio com Johnny Guitar\", \"x\": 0.485461950302124, \"y\": 8.184429168701172}, {\"original_title\": \"O Amor das Tr\\u00eas Rom\\u00e3s\", \"x\": 17.37074851989746, \"y\": -7.0414886474609375}, {\"original_title\": \"Hoje Eu Quero Voltar Sozinho\", \"x\": 10.361612319946289, \"y\": -10.707324028015137}, {\"original_title\": \"Trash\", \"x\": 4.166866779327393, \"y\": -4.0525383949279785}, {\"original_title\": \"O Menino no Espelho\", \"x\": 8.830864906311035, \"y\": 8.693046569824219}, {\"original_title\": \"State of Emergency\", \"x\": 2.442791223526001, \"y\": 15.960061073303223}, {\"original_title\": \"Bang Bang\", \"x\": 4.932304382324219, \"y\": 5.224630832672119}, {\"original_title\": \"Olho por Olho\", \"x\": 11.79751205444336, \"y\": -0.9112769365310669}, {\"original_title\": \"Flores Raras\", \"x\": -2.3617749214172363, \"y\": -3.3381996154785156}, {\"original_title\": \"Os Verdes Anos\", \"x\": 8.533771514892578, \"y\": 8.023591041564941}, {\"original_title\": \"Santiago\", \"x\": 4.069246768951416, \"y\": 5.095348358154297}, {\"original_title\": \"Romance\", \"x\": 17.35860252380371, \"y\": -7.028313159942627}, {\"original_title\": \"Latitudes\", \"x\": 8.468586921691895, \"y\": 8.005016326904297}, {\"original_title\": \"A Zona\", \"x\": 13.768414497375488, \"y\": 5.777505874633789}, {\"original_title\": \"A \\u00daltima Vez Que Vi Macau\", \"x\": -2.798341989517212, \"y\": -1.6136033535003662}, {\"original_title\": \"Est\\u00f4mago\", \"x\": 8.97199535369873, \"y\": 7.4292707443237305}, {\"original_title\": \"Casa de Lava\", \"x\": 12.407682418823242, \"y\": 2.0120301246643066}, {\"original_title\": \"Lua de Cristal\", \"x\": -1.6944891214370728, \"y\": -3.0159783363342285}, {\"original_title\": \"Jogo de Cena\", \"x\": 17.20543098449707, \"y\": -6.882087707519531}, {\"original_title\": \"The Coconut Revolution\", \"x\": -1.4259130954742432, \"y\": -2.1894021034240723}, {\"original_title\": \"Praia do Futuro\", \"x\": 11.441865921020508, \"y\": 14.387829780578613}, {\"original_title\": \"O Dia Que Durou 21 Anos\", \"x\": 1.1918853521347046, \"y\": -8.817400932312012}, {\"original_title\": \"O Lobo Atr\\u00e1s da Porta\", \"x\": 3.9974660873413086, \"y\": -4.071781635284424}, {\"original_title\": \"O Que H\\u00e1 De Novo No Amor?\", \"x\": 16.093467712402344, \"y\": -3.8036441802978516}, {\"original_title\": \"Ventos de Agosto\", \"x\": 5.561860084533691, \"y\": -6.265497207641602}, {\"original_title\": \"Casa Grande\", \"x\": 8.898686408996582, \"y\": 7.94806432723999}, {\"original_title\": \"Edif\\u00edcio Master\", \"x\": 4.017505168914795, \"y\": -4.108036994934082}, {\"original_title\": \"O Menino e o Mundo\", \"x\": 4.729005813598633, \"y\": 10.984804153442383}, {\"original_title\": \"Que Horas Ela Volta?\", \"x\": 8.314860343933105, \"y\": 7.2720208168029785}, {\"original_title\": \"Hoovey\", \"x\": 8.816751480102539, \"y\": 8.638609886169434}, {\"original_title\": \"Bruc, La llegenda\", \"x\": 3.0107595920562744, \"y\": 0.5314719080924988}, {\"original_title\": \"A Falecida\", \"x\": 13.93850326538086, \"y\": 5.555575847625732}, {\"original_title\": \"A Hora da Estrela\", \"x\": -1.7246472835540771, \"y\": -3.1587812900543213}, {\"original_title\": \"Do Lado de Fora\", \"x\": 4.040595054626465, \"y\": -4.073871612548828}, {\"original_title\": \"Noite Escura\", \"x\": 4.579745292663574, \"y\": -4.110589981079102}, {\"original_title\": \"A Can\\u00e7\\u00e3o de Lisboa\", \"x\": 6.18337869644165, \"y\": -1.5114108324050903}, {\"original_title\": \"Beira-Mar\", \"x\": -2.7814407348632812, \"y\": -1.6277071237564087}, {\"original_title\": \"O Pai Tirano\", \"x\": 17.34933853149414, \"y\": -7.018508434295654}, {\"original_title\": \"O P\\u00e1tio das Cantigas\", \"x\": 5.118199348449707, \"y\": -12.80568790435791}, {\"original_title\": \"Tim Maia\", \"x\": 4.287581920623779, \"y\": -4.254831790924072}, {\"original_title\": \"To Sir, with Love II\", \"x\": 2.2679803371429443, \"y\": -1.450283169746399}, {\"original_title\": \"Sangue do Meu Sangue\", \"x\": 5.849208831787109, \"y\": -1.890392541885376}, {\"original_title\": \"Para\\u00edsos Artificiais\", \"x\": -3.1644749641418457, \"y\": -1.1567885875701904}, {\"original_title\": \"O futebol\", \"x\": 5.490115165710449, \"y\": -5.5907816886901855}, {\"original_title\": \"Apenas o Fim\", \"x\": 16.8707218170166, \"y\": 3.5349326133728027}, {\"original_title\": \"Eu N\\u00e3o Fa\\u00e7o a Menor Ideia do que eu T\\u00f4 Fazendo Com a Minha Vida\", \"x\": 8.159048080444336, \"y\": 8.369857788085938}, {\"original_title\": \"Sem Pena\", \"x\": 3.8134772777557373, \"y\": -3.50134015083313}, {\"original_title\": \"Sudoeste\", \"x\": 3.929055690765381, \"y\": -4.205960750579834}, {\"original_title\": \"Douro, Faina Fluvial\", \"x\": 3.891779661178589, \"y\": -2.658511161804199}, {\"original_title\": \"Tarja Branca - A Revolu\\u00e7\\u00e3o que Faltava\", \"x\": 4.738927364349365, \"y\": 10.974550247192383}, {\"original_title\": \"Entre Abelhas\", \"x\": 11.482159614562988, \"y\": 14.341848373413086}, {\"original_title\": \"Rio, Eu Te Amo\", \"x\": 3.936478853225708, \"y\": -2.711728811264038}, {\"original_title\": \"Baile Perfumado\", \"x\": 0.9715175032615662, \"y\": -9.0382080078125}, {\"original_title\": \"Capit\\u00e3es da Areia\", \"x\": -5.987155914306641, \"y\": 14.048599243164062}, {\"original_title\": \"Caramuru: A Inven\\u00e7\\u00e3o do Brasil\", \"x\": -1.7486817836761475, \"y\": -2.452853202819824}, {\"original_title\": \"Meu P\\u00e9 de Laranja Lima\", \"x\": -4.2943010330200195, \"y\": 6.095164775848389}, {\"original_title\": \"Assalto ao Banco Central\", \"x\": 4.472859859466553, \"y\": -3.4890363216400146}, {\"original_title\": \"Heleno\", \"x\": 1.1964417695999146, \"y\": -8.813199996948242}, {\"original_title\": \"Amor Imposs\\u00edvel\", \"x\": 18.204971313476562, \"y\": 5.248510360717773}, {\"original_title\": \"As Mil e Uma Noites: Volume 1, O Inquieto\", \"x\": 5.770751476287842, \"y\": -1.9681187868118286}, {\"original_title\": \"Jean Charles\", \"x\": 0.9330288171768188, \"y\": -9.076919555664062}, {\"original_title\": \"Como Esquecer\", \"x\": 8.983004570007324, \"y\": 1.462638258934021}, {\"original_title\": \"\\u00d3 Pa\\u00ed, \\u00d3\", \"x\": 4.173864841461182, \"y\": -4.36909294128418}, {\"original_title\": \"Natimorto\", \"x\": -3.152017116546631, \"y\": -1.1505255699157715}, {\"original_title\": \"Branco Sai, Preto Fica\", \"x\": 4.208358287811279, \"y\": -4.000014305114746}, {\"original_title\": \"Linhas de Wellington\", \"x\": 3.0104424953460693, \"y\": 0.5312361121177673}, {\"original_title\": \"O Mist\\u00e9rio da Estrada de Sintra\", \"x\": 7.516731262207031, \"y\": 7.503542900085449}, {\"original_title\": \"Hermanoteu na Terra de Godah\", \"x\": 13.86418342590332, \"y\": -10.678228378295898}, {\"original_title\": \"Cavalo Dinheiro\", \"x\": -5.993713855743408, \"y\": 14.055097579956055}, {\"original_title\": \"A Estrada 47\", \"x\": 3.0107154846191406, \"y\": 0.5315360426902771}, {\"original_title\": \"O Sangue\", \"x\": 8.57758903503418, \"y\": 7.920697212219238}, {\"original_title\": \"Loki - Arnaldo Baptista\", \"x\": 0.5011382102966309, \"y\": 8.356701850891113}, {\"original_title\": \"Boa Sorte\", \"x\": 8.98304557800293, \"y\": 1.462424874305725}, {\"original_title\": \"Vai Que Cola - O Filme\", \"x\": 0.2560635507106781, \"y\": 8.890990257263184}, {\"original_title\": \"Filme de Amor\", \"x\": 16.180936813354492, \"y\": -3.6908464431762695}, {\"original_title\": \"Os Cafajestes\", \"x\": 4.947309494018555, \"y\": 5.248563289642334}, {\"original_title\": \"Dias de Nietzsche em Turim\", \"x\": 4.610730171203613, \"y\": -4.0529093742370605}, {\"original_title\": \"Uma Onda no Ar\", \"x\": 4.047456741333008, \"y\": -4.083024978637695}, {\"original_title\": \"Cine Holli\\u00fady\", \"x\": 4.104227542877197, \"y\": 5.090245723724365}, {\"original_title\": \"O Bandido da Luz Vermelha\", \"x\": 3.582965135574341, \"y\": 5.48534631729126}, {\"original_title\": \"Macuna\\u00edma\", \"x\": -1.7541652917861938, \"y\": -3.12117600440979}, {\"original_title\": \"Anjos do Sol\", \"x\": -1.8542296886444092, \"y\": -2.8866028785705566}, {\"original_title\": \"Iracema, Uma Transa Amaz\\u00f4nica\", \"x\": -1.697529911994934, \"y\": -2.989525556564331}, {\"original_title\": \"O Diabo a Quatro\", \"x\": 4.994594097137451, \"y\": 5.273573875427246}, {\"original_title\": \"Dom\\u00e9sticas\", \"x\": 4.260619640350342, \"y\": -4.049349784851074}, {\"original_title\": \"Mutum\", \"x\": 11.435205459594727, \"y\": 14.397947311401367}, {\"original_title\": \"A Hist\\u00f3ria da Eternidade\", \"x\": 5.316892147064209, \"y\": -12.605677604675293}, {\"original_title\": \"Hist\\u00f3rias que s\\u00f3 Existem Quando Lembradas\", \"x\": 8.625391960144043, \"y\": 7.975965976715088}, {\"original_title\": \"Superpai\", \"x\": 8.529980659484863, \"y\": 7.8248677253723145}, {\"original_title\": \"O Mercado de Not\\u00edcias\", \"x\": 17.18033218383789, \"y\": -6.8580641746521}, {\"original_title\": \"Boi Neon\", \"x\": 8.872300148010254, \"y\": 7.3222246170043945}, {\"original_title\": \"A Alma do Osso\", \"x\": 2.5789289474487305, \"y\": 16.09427833557129}, {\"original_title\": \"Os Fuzis\", \"x\": 4.3144354820251465, \"y\": -3.8936078548431396}, {\"original_title\": \"L\\u00facio Fl\\u00e1vio, o Passageiro da Agonia\", \"x\": 1.0681099891662598, \"y\": -8.941764831542969}, {\"original_title\": \"Rio, Zona Norte\", \"x\": 16.71407699584961, \"y\": 6.515661239624023}, {\"original_title\": \"Rio, 40 graus\", \"x\": 3.930406093597412, \"y\": -2.6884191036224365}, {\"original_title\": \"O Amuleto de Ogum\", \"x\": 8.74579906463623, \"y\": 8.700604438781738}, {\"original_title\": \"O Coronel e o Lobisomem\", \"x\": -1.3968290090560913, \"y\": -2.160590410232544}, {\"original_title\": \"Besouro\", \"x\": 9.76656436920166, \"y\": 5.106821060180664}, {\"original_title\": \"Uma Hist\\u00f3ria de Amor e F\\u00faria\", \"x\": -2.782193660736084, \"y\": -1.6322749853134155}, {\"original_title\": \"Elena\", \"x\": 8.364944458007812, \"y\": 7.2496657371521}, {\"original_title\": \"Elvis & Madona\", \"x\": 9.109646797180176, \"y\": 8.104719161987305}, {\"original_title\": \"A Vida Privada dos Hipop\\u00f3tamos\", \"x\": 4.589290142059326, \"y\": 5.102572917938232}, {\"original_title\": \"Nise: O Cora\\u00e7\\u00e3o da Loucura\", \"x\": 4.0111589431762695, \"y\": -4.027455806732178}, {\"original_title\": \"Ponto Zero\", \"x\": 8.790631294250488, \"y\": 8.639634132385254}, {\"original_title\": \"E Agora? Lembra-me\", \"x\": 4.558315277099609, \"y\": 5.081668376922607}, {\"original_title\": \"Besame Mucho\", \"x\": 9.04270076751709, \"y\": 8.105453491210938}, {\"original_title\": \"Mais Uma Vez Amor\", \"x\": -2.317450523376465, \"y\": -3.2937800884246826}, {\"original_title\": \"Porta dos Fundos: Contrato Vital\\u00edcio\", \"x\": 3.5136146545410156, \"y\": 5.166722297668457}, {\"original_title\": \"At\\u00e9 que a Sorte nos Separe\", \"x\": 0.20141823589801788, \"y\": 8.844610214233398}, {\"original_title\": \"Calif\\u00f3rnia\", \"x\": 19.25265884399414, \"y\": -0.050340596586465836}, {\"original_title\": \"Cabra Marcado Para Morrer\", \"x\": 1.2056783437728882, \"y\": -8.804022789001465}, {\"original_title\": \"Caf\\u00e9 Com Leite\", \"x\": 10.068581581115723, \"y\": -11.094719886779785}, {\"original_title\": \"Est\\u00f3ria do Gato e da Lua\", \"x\": 5.334016799926758, \"y\": -12.588227272033691}, {\"original_title\": \"O Quatrilho\", \"x\": 0.2724236249923706, \"y\": 8.893303871154785}, {\"original_title\": \"Marcello Marcello\", \"x\": 11.452564239501953, \"y\": 14.388873100280762}, {\"original_title\": \"Refrigerantes e Can\\u00e7\\u00f5es de Amor\", \"x\": 18.20484733581543, \"y\": 5.2485456466674805}, {\"original_title\": \"Killjoy\", \"x\": 13.821855545043945, \"y\": 5.746551036834717}, {\"original_title\": \"Aquarius\", \"x\": 5.5420660972595215, \"y\": -5.617778778076172}, {\"original_title\": \"Febre do Rato\", \"x\": 0.5374972224235535, \"y\": 8.370203018188477}, {\"original_title\": \"Get\\u00falio\", \"x\": 1.202983021736145, \"y\": -8.806622505187988}, {\"original_title\": \"S\\u00e3o Jorge\", \"x\": 6.233102798461914, \"y\": -1.4614421129226685}, {\"original_title\": \"O Roubo da Ta\\u00e7a\", \"x\": 4.3039445877075195, \"y\": -3.4710140228271484}, {\"original_title\": \"A Misteriosa Morte de P\\u00e9rola\", \"x\": 5.840779781341553, \"y\": -1.9011355638504028}, {\"original_title\": \"Desculpe o Transtorno\", \"x\": -3.7263681888580322, \"y\": -0.9585050344467163}, {\"original_title\": \"Os Penetras\", \"x\": 5.014755725860596, \"y\": 5.291048049926758}, {\"original_title\": \"De Pernas Pro Ar 2\", \"x\": 16.745817184448242, \"y\": -3.3068125247955322}, {\"original_title\": \"VIPs\", \"x\": 4.37730073928833, \"y\": -3.6347169876098633}, {\"original_title\": \"Reflex\\u00f5es de um Liquidificador\", \"x\": 9.858078002929688, \"y\": -11.382532119750977}, {\"original_title\": \"A Busca\", \"x\": 4.2004618644714355, \"y\": -3.857590913772583}, {\"original_title\": \"Cidade de Deus: 10 Anos Depois\", \"x\": 3.6311070919036865, \"y\": 4.9844255447387695}, {\"original_title\": \"Nome Pr\\u00f3prio\", \"x\": 8.346195220947266, \"y\": 7.231242656707764}, {\"original_title\": \"C\\u00e3o Sem Dono\", \"x\": 8.472225189208984, \"y\": 7.948159217834473}, {\"original_title\": \"Siren\", \"x\": 16.111003875732422, \"y\": -3.2387120723724365}, {\"original_title\": \"Se Eu Fosse Voc\\u00ea 2\", \"x\": 10.005285263061523, \"y\": -11.028434753417969}, {\"original_title\": \"Vai Que D\\u00e1 Certo\", \"x\": 11.797504425048828, \"y\": -0.9115577340126038}, {\"original_title\": \"Tamo Junto\", \"x\": 16.870759963989258, \"y\": 3.5349626541137695}, {\"original_title\": \"Trabalhar Cansa\", \"x\": 16.832120895385742, \"y\": -3.29636549949646}, {\"original_title\": \"A M\\u00e1quina\", \"x\": -1.6545746326446533, \"y\": -2.954861640930176}, {\"original_title\": \"Saneamento B\\u00e1sico, O Filme\", \"x\": 3.9619247913360596, \"y\": -2.674945592880249}, {\"original_title\": \"Minha M\\u00e3e \\u00e9 Uma Pe\\u00e7a 2\", \"x\": 10.229095458984375, \"y\": -4.400825023651123}, {\"original_title\": \"Liar, Liar, Vampire\", \"x\": 10.439870834350586, \"y\": -10.621443748474121}, {\"original_title\": \"Curumim\", \"x\": -1.6141518354415894, \"y\": -10.714363098144531}, {\"original_title\": \"Coisa Ruim\", \"x\": 5.320956707000732, \"y\": -12.601569175720215}, {\"original_title\": \"Como Desenhar um C\\u00edrculo Perfeito\", \"x\": 8.241328239440918, \"y\": 8.27798843383789}, {\"original_title\": \"Proibido Proibir\", \"x\": 4.161264419555664, \"y\": -4.154693126678467}, {\"original_title\": \"O Come\\u00e7o da Vida\", \"x\": -0.7897129058837891, \"y\": 0.12198835611343384}, {\"original_title\": \"Clarisse ou alguma coisa sobre n\\u00f3s dois\", \"x\": 2.551725149154663, \"y\": 16.06788444519043}, {\"original_title\": \"Era uma vez eu, Ver\\u00f4nica\", \"x\": 8.282318115234375, \"y\": 7.136575698852539}, {\"original_title\": \"Colo\", \"x\": 5.883533000946045, \"y\": -1.8635069131851196}, {\"original_title\": \"Eu Maior\", \"x\": 3.797814130783081, \"y\": -2.5162980556488037}, {\"original_title\": \"Internet - O Filme\", \"x\": 10.151748657226562, \"y\": -11.22043228149414}, {\"original_title\": \"Tain\\u00e1: Uma Aventura na Amaz\\u00f4nia\", \"x\": -1.7823050022125244, \"y\": -3.282809019088745}, {\"original_title\": \"Os Homens S\\u00e3o de Marte... E \\u00e9 pra L\\u00e1 que Eu Vou!\", \"x\": -0.8133083581924438, \"y\": 0.09963064640760422}, {\"original_title\": \"Loucas pra Casar\", \"x\": -5.858484268188477, \"y\": -5.415485858917236}, {\"original_title\": \"Pro Dia Nascer Feliz\", \"x\": 13.865826606750488, \"y\": -10.676941871643066}, {\"original_title\": \"Chico Xavier\", \"x\": -5.977052688598633, \"y\": 14.038558959960938}, {\"original_title\": \"Mem\\u00f3rias P\\u00f3stumas\", \"x\": 8.921847343444824, \"y\": 7.319721221923828}, {\"original_title\": \"Didi, o Cupido Trapalh\\u00e3o\", \"x\": 0.25890201330184937, \"y\": 8.93774700164795}, {\"original_title\": \"Big Jato\", \"x\": 8.472978591918945, \"y\": 7.955617904663086}, {\"original_title\": \"Mangue Negro\", \"x\": 2.4761126041412354, \"y\": 15.993353843688965}, {\"original_title\": \"O Ornit\\u00f3logo\", \"x\": 6.185487270355225, \"y\": -1.5125172138214111}, {\"original_title\": \"Ilha das Flores\", \"x\": 5.609221458435059, \"y\": -6.326259613037109}, {\"original_title\": \"Meu tio matou um cara\", \"x\": -4.0819292068481445, \"y\": -0.757209837436676}, {\"original_title\": \"Desmundo\", \"x\": -1.7887108325958252, \"y\": -2.9148175716400146}, {\"original_title\": \"O Delfim\", \"x\": 2.4638631343841553, \"y\": 15.981474876403809}, {\"original_title\": \"Uma Abelha na Chuva\", \"x\": 5.085821151733398, \"y\": -12.837976455688477}, {\"original_title\": \"A Bela e o Paparazzo\", \"x\": -0.12403711676597595, \"y\": 0.7917685508728027}, {\"original_title\": \"Reconvers\\u00e3o\", \"x\": 5.54479455947876, \"y\": -6.156263828277588}, {\"original_title\": \"Henry Miller Asleep & Awake\", \"x\": 4.081923007965088, \"y\": 5.085716724395752}, {\"original_title\": \"A Grande Fam\\u00edlia: O Filme\", \"x\": -3.212761402130127, \"y\": -1.2508760690689087}, {\"original_title\": \"Amor.com\", \"x\": -0.10629583150148392, \"y\": 0.8091710209846497}, {\"original_title\": \"M\\u00e3e S\\u00f3 H\\u00e1 Uma\", \"x\": 2.253962993621826, \"y\": -1.4549322128295898}, {\"original_title\": \"Opera\\u00e7\\u00f5es Especiais\", \"x\": 3.178112506866455, \"y\": 5.304242134094238}, {\"original_title\": \"Olga\", \"x\": 3.940243721008301, \"y\": -4.668710231781006}]}}, {\"mode\": \"vega-lite\"});\n",
       "</script>"
      ],
      "text/plain": [
       "alt.Chart(...)"
      ]
     },
     "execution_count": 531,
     "metadata": {},
     "output_type": "execute_result"
    }
   ],
   "source": [
    "chart = alt.Chart(df_embeds_overview).mark_circle(size=60).encode(\n",
    "    x=#'x',\n",
    "    alt.X('x',\n",
    "        scale=alt.Scale(zero=False)\n",
    "    ),\n",
    "    y=\n",
    "    alt.Y('y',\n",
    "        scale=alt.Scale(zero=False)\n",
    "    ),\n",
    "    tooltip=['original_title']\n",
    ").properties(\n",
    "    width=700,\n",
    "    height=400\n",
    ")\n",
    "\n",
    "text = chart.mark_text(\n",
    "    align='left',\n",
    "    baseline='middle',\n",
    ").encode(\n",
    "    text='original_title'\n",
    ")\n",
    "\n",
    "chart_with_labels = (chart + text)\n",
    "#chart_with_labels.interactive()\n",
    "chart.interactive()"
   ]
  },
  {
   "cell_type": "markdown",
   "id": "64ff4a92-9e32-4ba5-819f-3c8a26bfa4bd",
   "metadata": {},
   "source": [
    "Para aqueles que não conseguirem rodar o notebook insiro abaixo a imagem do mapeamento gerado acima"
   ]
  },
  {
   "cell_type": "markdown",
   "id": "0f5113a4-2898-4da8-af8d-61833e9c4d53",
   "metadata": {},
   "source": [
    "![Visão completa do mapeamento por overview](data/visualization-5.svg)"
   ]
  },
  {
   "cell_type": "markdown",
   "id": "2319b138-9dc3-4d1c-858c-67269227ac52",
   "metadata": {},
   "source": [
    "Visualmente podemos notar que as distribuições mudaram e novos aglomerados surgiram."
   ]
  },
  {
   "cell_type": "markdown",
   "id": "007ad44d-5c77-44b6-bc4f-858db33cab6f",
   "metadata": {},
   "source": [
    "![Curumim](data/visualization-6.svg)"
   ]
  },
  {
   "cell_type": "markdown",
   "id": "34d39554-d029-4b8a-8d87-1d671bcbf6e9",
   "metadata": {},
   "source": [
    "Aqui já notamos que o filme Curumim não está mais próximo a 'Amazônia' mas sim a filmes ligados a tráfico de drogas e violência."
   ]
  },
  {
   "cell_type": "code",
   "execution_count": 532,
   "id": "09f89b99-95d4-4da3-b59f-8f56044c22f8",
   "metadata": {},
   "outputs": [
    {
     "data": {
      "text/plain": [
       "'Marco ‘Curumim’ Archer’s life changed abruptly when police at Jakarta airport seize 13.5 kilogrammes of cocaine hidden in his hang-glider. At first he manages to escape, hiding out in Indonesia for sixteen days before being arrested and sentenced to death. Eleven years later, on 17 January 2015, he was executed for drug dealing.'"
      ]
     },
     "execution_count": 532,
     "metadata": {},
     "output_type": "execute_result"
    }
   ],
   "source": [
    "filmes_brasileiros[filmes_brasileiros.original_title == 'Curumim'].loc[42268]['overview']"
   ]
  },
  {
   "cell_type": "markdown",
   "id": "9f05d0a1-013a-4cbe-8f3f-2c091f4df28b",
   "metadata": {},
   "source": [
    "Pela descrição do overview percebemos ele está no agrupamento certo de filmes."
   ]
  },
  {
   "cell_type": "markdown",
   "id": "f0877b03-feaa-4779-a5f3-f353a26a05bd",
   "metadata": {},
   "source": [
    "![Curumim](data/visualization-7.svg)"
   ]
  },
  {
   "cell_type": "markdown",
   "id": "cc69bde3-675f-4d26-a0ed-5fa521f483a9",
   "metadata": {},
   "source": [
    "o filme 'Amazonia' ganhou novos parentes mas 'Macunaíma' permanece próximo pois ambos estão ligados pela questão indígena."
   ]
  },
  {
   "cell_type": "markdown",
   "id": "bbc4323e-e84c-4a44-97e1-5c80b045d23e",
   "metadata": {},
   "source": [
    "![Curumim](data/visualization-8.svg)"
   ]
  },
  {
   "cell_type": "markdown",
   "id": "43e38566-340e-473e-b069-6ee390d5d621",
   "metadata": {},
   "source": [
    "'Liar, Liar, Vampire' já não aparece agrupado em títulos em inglês.\n",
    "\n",
    "Vamos dar uma olhada no overview dos três filmes."
   ]
  },
  {
   "cell_type": "code",
   "execution_count": 533,
   "id": "5d6fe0c1-f7f4-4217-aad9-e9d075c211f1",
   "metadata": {},
   "outputs": [
    {
     "data": {
      "text/plain": [
       "\"When an ordinary boy Davis, suddenly becomes famous at school as people start to believe he's actually a vampire, vampire expert Cameron helps him act like a real vampire.\""
      ]
     },
     "execution_count": 533,
     "metadata": {},
     "output_type": "execute_result"
    }
   ],
   "source": [
    "filmes_brasileiros[filmes_brasileiros.original_title == 'Liar, Liar, Vampire'].loc[42237]['overview']"
   ]
  },
  {
   "cell_type": "code",
   "execution_count": 534,
   "id": "14b2157f-15fa-4167-8c6d-ff5fbda9a4f1",
   "metadata": {},
   "outputs": [
    {
     "data": {
      "text/plain": [
       "\"The arrival of a new student in school changes Leonardo's life. This 15 year-old blind teenager has to deal with the jealousy of his friend Giovana while figuring out the new feelings he's having towards his new friend, Gabriel.\""
      ]
     },
     "execution_count": 534,
     "metadata": {},
     "output_type": "execute_result"
    }
   ],
   "source": [
    "filmes_brasileiros[filmes_brasileiros.original_title == 'Eu Não Quero Voltar Sozinho'].loc[21062]['overview']"
   ]
  },
  {
   "cell_type": "code",
   "execution_count": 535,
   "id": "2274206a-2955-4f5d-92c0-6f8310fb4730",
   "metadata": {},
   "outputs": [
    {
     "data": {
      "text/plain": [
       "'Leonardo is a blind teenager dealing with an overprotective mother while trying to live a more independent life. To the disappointment of his best friend, Giovana, he plans to go on an exchange program abroad. When Gabriel, a new student in town, arrives at their classroom, new feelings blossom in Leonardo making him question his plans.'"
      ]
     },
     "execution_count": 535,
     "metadata": {},
     "output_type": "execute_result"
    }
   ],
   "source": [
    "filmes_brasileiros[filmes_brasileiros.original_title == 'Hoje Eu Quero Voltar Sozinho'].loc[24886]['overview']"
   ]
  },
  {
   "cell_type": "markdown",
   "id": "f18ab3df-169a-4125-b8f9-607788abc5c6",
   "metadata": {},
   "source": [
    "Pela descrição dos três filmes notamos que a temática está ligada a estudantes, escola e jovem, portanto faz sentido estarem agrupados."
   ]
  },
  {
   "cell_type": "markdown",
   "id": "2ab28736-591c-4450-8ddd-de848e077711",
   "metadata": {},
   "source": [
    "### Conclusão"
   ]
  },
  {
   "cell_type": "markdown",
   "id": "ece93e59-bee5-45d1-9fb2-1c831ca1c7a6",
   "metadata": {},
   "source": [
    "Os embeddings traduzem a linguagem humana para uma linguagem vetorial e com isso conseguimos fazer com que a máquina relacione palavras e textos entre sí. É como se a máquina entendesse o significado da lingua humana utilizando as relações entre palavras e frases."
   ]
  },
  {
   "cell_type": "markdown",
   "id": "7bc5ddce-ed89-47d0-837e-402326d87437",
   "metadata": {},
   "source": [
    "# <span style=\"color: #6850e5;\">Busca por similaridade de filmes em inglês</span>"
   ]
  },
  {
   "cell_type": "markdown",
   "id": "af351c2d-7395-434b-87f9-7d04cdb006fb",
   "metadata": {},
   "source": [
    "Buscas são a chave de inúmeros negócios que estão imersos em grande quantidade de informação.\n",
    "\n",
    "Vamos utilizar os ***embeddings*** estudados na sessão anterior para montar esta busca.\n",
    "\n",
    "A partir do nosso catálogo de filmes e ***embeddings*** seguimos na construção de uma busca por similaridade utilizando desta vez apenas os filmes em inglês."
   ]
  },
  {
   "cell_type": "markdown",
   "id": "6f6c122a-21be-4142-9370-088dc056555a",
   "metadata": {},
   "source": [
    "O desenvolvimento do buscador seguirá as seguintes etapas:\n",
    "\n",
    "1) Filtrar e tratar os dados originais do nosso dataset\n",
    "2) Preparar o dataset para o mapeamento de embeddings\n",
    "3) Extrair os embeddings dos filmes\n",
    "4) Montar a busca utilizando proximidade vetorial\n",
    "5) Montar uma saída para a resposta baseada em Generative AI"
   ]
  },
  {
   "cell_type": "markdown",
   "id": "3c691019-36be-4e61-bbd3-d71a62efbeec",
   "metadata": {},
   "source": [
    "### Instalando e importando bibliotecas"
   ]
  },
  {
   "cell_type": "code",
   "execution_count": 536,
   "id": "22f364dd-988b-4ae8-a881-afb17d291d6a",
   "metadata": {},
   "outputs": [
    {
     "name": "stdout",
     "output_type": "stream",
     "text": [
      "\u001b[33mWARNING: Running pip as the 'root' user can result in broken permissions and conflicting behaviour with the system package manager. It is recommended to use a virtual environment instead: https://pip.pypa.io/warnings/venv\u001b[0m\u001b[33m\n",
      "\u001b[0m\n",
      "\u001b[1m[\u001b[0m\u001b[34;49mnotice\u001b[0m\u001b[1;39;49m]\u001b[0m\u001b[39;49m A new release of pip available: \u001b[0m\u001b[31;49m22.3.1\u001b[0m\u001b[39;49m -> \u001b[0m\u001b[32;49m23.2.1\u001b[0m\n",
      "\u001b[1m[\u001b[0m\u001b[34;49mnotice\u001b[0m\u001b[1;39;49m]\u001b[0m\u001b[39;49m To update, run: \u001b[0m\u001b[32;49mpip install --upgrade pip\u001b[0m\n"
     ]
    }
   ],
   "source": [
    "!pip install -q annoy==1.17.3"
   ]
  },
  {
   "cell_type": "code",
   "execution_count": 537,
   "id": "9bafe6e5-d6e5-4dab-9387-66187d809c4f",
   "metadata": {},
   "outputs": [],
   "source": [
    "import numpy as np\n",
    "from annoy import AnnoyIndex"
   ]
  },
  {
   "cell_type": "markdown",
   "id": "2daa2cef-6659-4b5a-affb-ce20b4ca667f",
   "metadata": {},
   "source": [
    "### Selecionando apenas os filmes em inglês"
   ]
  },
  {
   "cell_type": "code",
   "execution_count": 538,
   "id": "12bbfc67-288a-49e3-a340-318b73cbfbac",
   "metadata": {},
   "outputs": [],
   "source": [
    "filmes_en = dataset[dataset['original_language'] == 'en']"
   ]
  },
  {
   "cell_type": "code",
   "execution_count": 539,
   "id": "7e086392-a96a-4930-9718-7ce16814d104",
   "metadata": {},
   "outputs": [
    {
     "name": "stdout",
     "output_type": "stream",
     "text": [
      "<class 'pandas.core.frame.DataFrame'>\n",
      "Index: 32269 entries, 0 to 45465\n",
      "Data columns (total 6 columns):\n",
      " #   Column             Non-Null Count  Dtype \n",
      "---  ------             --------------  ----- \n",
      " 0   adult              32269 non-null  object\n",
      " 1   id                 32269 non-null  object\n",
      " 2   original_language  32269 non-null  object\n",
      " 3   original_title     32269 non-null  object\n",
      " 4   overview           32200 non-null  object\n",
      " 5   release_date       32202 non-null  object\n",
      "dtypes: object(6)\n",
      "memory usage: 1.7+ MB\n"
     ]
    }
   ],
   "source": [
    "filmes_en.info()"
   ]
  },
  {
   "cell_type": "markdown",
   "id": "44104800-dbc7-4693-ba0c-f39b51dcbeb0",
   "metadata": {},
   "source": [
    "### Retirando os campos nulos"
   ]
  },
  {
   "cell_type": "markdown",
   "id": "8d4aadc4-8144-40e3-8067-95d51348977d",
   "metadata": {},
   "source": [
    "Utilizaremos os campos *origial_title* e *overview*, sendo assim precisamos retirar os registros nulos"
   ]
  },
  {
   "cell_type": "code",
   "execution_count": 540,
   "id": "68319dd4-170d-496a-84d0-ee65111bb5f4",
   "metadata": {},
   "outputs": [],
   "source": [
    "filmes_en = filmes_en.dropna(subset=['original_title','overview'])"
   ]
  },
  {
   "cell_type": "code",
   "execution_count": 541,
   "id": "9ef40ebf-72c4-4722-b0d9-912cd8c3e0f6",
   "metadata": {},
   "outputs": [
    {
     "data": {
      "text/html": [
       "<div>\n",
       "<style scoped>\n",
       "    .dataframe tbody tr th:only-of-type {\n",
       "        vertical-align: middle;\n",
       "    }\n",
       "\n",
       "    .dataframe tbody tr th {\n",
       "        vertical-align: top;\n",
       "    }\n",
       "\n",
       "    .dataframe thead th {\n",
       "        text-align: right;\n",
       "    }\n",
       "</style>\n",
       "<table border=\"1\" class=\"dataframe\">\n",
       "  <thead>\n",
       "    <tr style=\"text-align: right;\">\n",
       "      <th></th>\n",
       "      <th>adult</th>\n",
       "      <th>id</th>\n",
       "      <th>original_language</th>\n",
       "      <th>original_title</th>\n",
       "      <th>overview</th>\n",
       "      <th>release_date</th>\n",
       "    </tr>\n",
       "  </thead>\n",
       "  <tbody>\n",
       "    <tr>\n",
       "      <th>0</th>\n",
       "      <td>False</td>\n",
       "      <td>862</td>\n",
       "      <td>en</td>\n",
       "      <td>Toy Story</td>\n",
       "      <td>Led by Woody, Andy's toys live happily in his ...</td>\n",
       "      <td>1995-10-30</td>\n",
       "    </tr>\n",
       "    <tr>\n",
       "      <th>1</th>\n",
       "      <td>False</td>\n",
       "      <td>8844</td>\n",
       "      <td>en</td>\n",
       "      <td>Jumanji</td>\n",
       "      <td>When siblings Judy and Peter discover an encha...</td>\n",
       "      <td>1995-12-15</td>\n",
       "    </tr>\n",
       "  </tbody>\n",
       "</table>\n",
       "</div>"
      ],
      "text/plain": [
       "   adult    id original_language original_title   \n",
       "0  False   862                en      Toy Story  \\\n",
       "1  False  8844                en        Jumanji   \n",
       "\n",
       "                                            overview release_date  \n",
       "0  Led by Woody, Andy's toys live happily in his ...   1995-10-30  \n",
       "1  When siblings Judy and Peter discover an encha...   1995-12-15  "
      ]
     },
     "execution_count": 541,
     "metadata": {},
     "output_type": "execute_result"
    }
   ],
   "source": [
    "filmes_en.head(2)"
   ]
  },
  {
   "cell_type": "code",
   "execution_count": 542,
   "id": "3416bafa-fb2b-4d43-be48-ab3b91a019d3",
   "metadata": {},
   "outputs": [
    {
     "name": "stdout",
     "output_type": "stream",
     "text": [
      "Existem 32200 filmes no idioma inglês neste dataset aptos para nossa investigação\n"
     ]
    }
   ],
   "source": [
    "print(f\"Existem {filmes_en.shape[0]} filmes no idioma inglês neste dataset aptos para nossa investigação\")"
   ]
  },
  {
   "cell_type": "markdown",
   "id": "ca9e6bfd-0b0f-4fb1-9665-4d21efb8de0c",
   "metadata": {},
   "source": [
    "Por questões de velocidade e gasto da API vamos reduzir esta quantidade de filmes selecionando aleatoriamente 300 filmes"
   ]
  },
  {
   "cell_type": "code",
   "execution_count": 543,
   "id": "18728e58-c97f-4c21-bcbf-0f42ccaac779",
   "metadata": {},
   "outputs": [
    {
     "data": {
      "text/plain": [
       "(300, 6)"
      ]
     },
     "execution_count": 543,
     "metadata": {},
     "output_type": "execute_result"
    }
   ],
   "source": [
    "filmes_en = filmes_en.sample(n=300, random_state=2758)\n",
    "filmes_en.shape"
   ]
  },
  {
   "cell_type": "markdown",
   "id": "294759b8-9bee-45c4-ae46-0f6ba7eb891f",
   "metadata": {},
   "source": [
    "### Preparando o conteúdo para o mapeamento"
   ]
  },
  {
   "cell_type": "markdown",
   "id": "9e16e707-1c62-45ce-b482-05a7680912b1",
   "metadata": {},
   "source": [
    "Para que nossa busca fique mais robusta vamos juntar o *original_title* com *overview* e utilizar este novo campo como base para o mapeamento de embeddings."
   ]
  },
  {
   "cell_type": "code",
   "execution_count": 544,
   "id": "0c903aee-72be-4976-b712-eebdb75479db",
   "metadata": {},
   "outputs": [
    {
     "data": {
      "text/html": [
       "<div>\n",
       "<style scoped>\n",
       "    .dataframe tbody tr th:only-of-type {\n",
       "        vertical-align: middle;\n",
       "    }\n",
       "\n",
       "    .dataframe tbody tr th {\n",
       "        vertical-align: top;\n",
       "    }\n",
       "\n",
       "    .dataframe thead th {\n",
       "        text-align: right;\n",
       "    }\n",
       "</style>\n",
       "<table border=\"1\" class=\"dataframe\">\n",
       "  <thead>\n",
       "    <tr style=\"text-align: right;\">\n",
       "      <th></th>\n",
       "      <th>adult</th>\n",
       "      <th>id</th>\n",
       "      <th>original_language</th>\n",
       "      <th>original_title</th>\n",
       "      <th>overview</th>\n",
       "      <th>release_date</th>\n",
       "      <th>title_and_overview</th>\n",
       "    </tr>\n",
       "  </thead>\n",
       "  <tbody>\n",
       "    <tr>\n",
       "      <th>25339</th>\n",
       "      <td>False</td>\n",
       "      <td>55322</td>\n",
       "      <td>en</td>\n",
       "      <td>Grant Morrison:  Talking with Gods</td>\n",
       "      <td>Philosopher, pop-icon, shaman and story teller...</td>\n",
       "      <td>2010-10-26</td>\n",
       "      <td>Grant Morrison:  Talking with Gods Philosopher...</td>\n",
       "    </tr>\n",
       "    <tr>\n",
       "      <th>8225</th>\n",
       "      <td>False</td>\n",
       "      <td>48678</td>\n",
       "      <td>en</td>\n",
       "      <td>Falling Angels</td>\n",
       "      <td>The wickedly funny story of three sisters' com...</td>\n",
       "      <td>2003-09-08</td>\n",
       "      <td>Falling Angels The wickedly funny story of thr...</td>\n",
       "    </tr>\n",
       "  </tbody>\n",
       "</table>\n",
       "</div>"
      ],
      "text/plain": [
       "       adult     id original_language                      original_title   \n",
       "25339  False  55322                en  Grant Morrison:  Talking with Gods  \\\n",
       "8225   False  48678                en                      Falling Angels   \n",
       "\n",
       "                                                overview release_date   \n",
       "25339  Philosopher, pop-icon, shaman and story teller...   2010-10-26  \\\n",
       "8225   The wickedly funny story of three sisters' com...   2003-09-08   \n",
       "\n",
       "                                      title_and_overview  \n",
       "25339  Grant Morrison:  Talking with Gods Philosopher...  \n",
       "8225   Falling Angels The wickedly funny story of thr...  "
      ]
     },
     "execution_count": 544,
     "metadata": {},
     "output_type": "execute_result"
    }
   ],
   "source": [
    "filmes_en['title_and_overview'] = filmes_en['original_title'] + ' ' + filmes_en['overview']\n",
    "filmes_en.head(2)"
   ]
  },
  {
   "cell_type": "markdown",
   "id": "a18fa58e-bd74-4181-a050-1ca6e7bd91a4",
   "metadata": {},
   "source": [
    "Vamos resetar o índice do DataFrame para facilitar o mapeamento e a posterior busca"
   ]
  },
  {
   "cell_type": "code",
   "execution_count": 545,
   "id": "3b0cb57f-2204-422c-9895-560e6cf37dcb",
   "metadata": {},
   "outputs": [],
   "source": [
    "filmes_en.reset_index(inplace=True)\n",
    "filmes_en.drop(['index'], axis=1, inplace=True)"
   ]
  },
  {
   "cell_type": "code",
   "execution_count": 546,
   "id": "2b25195f-2002-4442-a34a-f8a00e0d9ff9",
   "metadata": {},
   "outputs": [
    {
     "data": {
      "text/html": [
       "<div>\n",
       "<style scoped>\n",
       "    .dataframe tbody tr th:only-of-type {\n",
       "        vertical-align: middle;\n",
       "    }\n",
       "\n",
       "    .dataframe tbody tr th {\n",
       "        vertical-align: top;\n",
       "    }\n",
       "\n",
       "    .dataframe thead th {\n",
       "        text-align: right;\n",
       "    }\n",
       "</style>\n",
       "<table border=\"1\" class=\"dataframe\">\n",
       "  <thead>\n",
       "    <tr style=\"text-align: right;\">\n",
       "      <th></th>\n",
       "      <th>adult</th>\n",
       "      <th>id</th>\n",
       "      <th>original_language</th>\n",
       "      <th>original_title</th>\n",
       "      <th>overview</th>\n",
       "      <th>release_date</th>\n",
       "      <th>title_and_overview</th>\n",
       "    </tr>\n",
       "  </thead>\n",
       "  <tbody>\n",
       "    <tr>\n",
       "      <th>0</th>\n",
       "      <td>False</td>\n",
       "      <td>55322</td>\n",
       "      <td>en</td>\n",
       "      <td>Grant Morrison:  Talking with Gods</td>\n",
       "      <td>Philosopher, pop-icon, shaman and story teller...</td>\n",
       "      <td>2010-10-26</td>\n",
       "      <td>Grant Morrison:  Talking with Gods Philosopher...</td>\n",
       "    </tr>\n",
       "    <tr>\n",
       "      <th>1</th>\n",
       "      <td>False</td>\n",
       "      <td>48678</td>\n",
       "      <td>en</td>\n",
       "      <td>Falling Angels</td>\n",
       "      <td>The wickedly funny story of three sisters' com...</td>\n",
       "      <td>2003-09-08</td>\n",
       "      <td>Falling Angels The wickedly funny story of thr...</td>\n",
       "    </tr>\n",
       "  </tbody>\n",
       "</table>\n",
       "</div>"
      ],
      "text/plain": [
       "   adult     id original_language                      original_title   \n",
       "0  False  55322                en  Grant Morrison:  Talking with Gods  \\\n",
       "1  False  48678                en                      Falling Angels   \n",
       "\n",
       "                                            overview release_date   \n",
       "0  Philosopher, pop-icon, shaman and story teller...   2010-10-26  \\\n",
       "1  The wickedly funny story of three sisters' com...   2003-09-08   \n",
       "\n",
       "                                  title_and_overview  \n",
       "0  Grant Morrison:  Talking with Gods Philosopher...  \n",
       "1  Falling Angels The wickedly funny story of thr...  "
      ]
     },
     "execution_count": 546,
     "metadata": {},
     "output_type": "execute_result"
    }
   ],
   "source": [
    "filmes_en.head(2)"
   ]
  },
  {
   "cell_type": "markdown",
   "id": "613ba10c-d087-4b17-83a6-a9bba92924c2",
   "metadata": {},
   "source": [
    "### Mapeando os embeddings dos filmes"
   ]
  },
  {
   "cell_type": "markdown",
   "id": "590b9bcf-697f-42b0-9852-dd0d64958eef",
   "metadata": {},
   "source": [
    "Agora vamos mapear estes 300 filmes utilizando os embeddings da ***Cohere***"
   ]
  },
  {
   "cell_type": "code",
   "execution_count": 547,
   "id": "5cc19051-5423-4924-9e71-ee729ee7b9f3",
   "metadata": {},
   "outputs": [
    {
     "data": {
      "text/plain": [
       "['Grant Morrison:  Talking with Gods Philosopher, pop-icon, shaman and story teller - as one of the most influential comic book writers in the market today, Grant Morrison is all of these things. His explosive and often controversial 30 year career has made him a household name for comic fans, and he shows no signs of slowing down. Morrison\\'s career is now taking a new turn, as he explores media beyond comic books. With film and television projects on the horizon, more and more people are asking \"Who is Grant Morrison?\" Grant Morrison: Talking with Gods is a feature length documentary that takes an in depth look at the life, career and mind of the man behind such pivotal titles as Batman RIP, The Invisibles, All Star Superman, The New X-Men, and many more. Featuring candid interviews with Morrison and his most important collaborators, Talking with Gods reveals an intelligent and thought provoking side of comic books that is often overlooked in Hollywood adaptations.',\n",
       " 'Falling Angels The wickedly funny story of three sisters\\' coming of age in a wildly dysfunctional family, set against the backdrop of the 60\\'s, free love, the Cold War, LSD and the dawn of feminism. Affectionately dubbed \"Little Women on acid\", this is a story about the destructive effects of secrecy and the bonds of duty between parents and their children.']"
      ]
     },
     "execution_count": 547,
     "metadata": {},
     "output_type": "execute_result"
    }
   ],
   "source": [
    "filmes_en.title_and_overview.tolist()[:2]"
   ]
  },
  {
   "cell_type": "code",
   "execution_count": 548,
   "id": "2331ea2c-1e24-4475-97fb-5723a799213e",
   "metadata": {},
   "outputs": [],
   "source": [
    "embedding_en = co.embed(\n",
    "    texts=filmes_en.title_and_overview.tolist(),\n",
    ").embeddings"
   ]
  },
  {
   "cell_type": "code",
   "execution_count": 549,
   "id": "c01d010b-a6f5-4149-bf80-ab29a7f6d664",
   "metadata": {},
   "outputs": [
    {
     "name": "stdout",
     "output_type": "stream",
     "text": [
      "Cada embedding de um overview possui 4096 dimensões\n"
     ]
    }
   ],
   "source": [
    "print(f\"Cada embedding de um overview possui {len(embedding_en[0])} dimensões\")"
   ]
  },
  {
   "cell_type": "code",
   "execution_count": 550,
   "id": "16cd243e-e0e6-4afc-900d-31467cd70a76",
   "metadata": {},
   "outputs": [
    {
     "data": {
      "text/plain": [
       "array([[ 3.9042969 , -1.4189453 ,  1.359375  , ...,  0.32983398,\n",
       "        -2.6445312 ,  0.59277344],\n",
       "       [ 2.09375   , -2.5820312 ,  0.5078125 , ..., -0.95751953,\n",
       "         0.12017822, -0.1541748 ]])"
      ]
     },
     "execution_count": 550,
     "metadata": {},
     "output_type": "execute_result"
    }
   ],
   "source": [
    "embeds = np.array(embedding_en)\n",
    "embeds[:2]"
   ]
  },
  {
   "cell_type": "markdown",
   "id": "55916f4a-4284-4379-83ab-e1465fe07d69",
   "metadata": {},
   "source": [
    "Agora que os embeddings estão no formato correto, vamos criar um buscador vetorial."
   ]
  },
  {
   "cell_type": "markdown",
   "id": "99ad2bf6-3c03-45f2-8394-ebd380eeb914",
   "metadata": {},
   "source": [
    "### Criando um buscador vetorial de dados"
   ]
  },
  {
   "cell_type": "markdown",
   "id": "7a146e9b-1ecc-41a2-a4c3-2ed5795a7fa3",
   "metadata": {},
   "source": [
    "Para isso utilizaremos a biblioteca ***Annoy*** desenvolvida pelo *Spotify*\n",
    "\n",
    "Referência: https://www.youtube.com/watch?v=DRbjpuqOsjk"
   ]
  },
  {
   "cell_type": "code",
   "execution_count": 551,
   "id": "7c47733a-7466-4c1f-b9ea-f78c92b6cd2b",
   "metadata": {},
   "outputs": [],
   "source": [
    "# Cria um índice de busca, informando a dimensão do embedding\n",
    "search_index = AnnoyIndex(embeds.shape[1], 'angular')"
   ]
  },
  {
   "cell_type": "code",
   "execution_count": 552,
   "id": "362c5ed4-f5ad-4747-b37a-b64bef2f2329",
   "metadata": {},
   "outputs": [
    {
     "name": "stdout",
     "output_type": "stream",
     "text": [
      "Aqui nós instanciamos o Annoy informando a ele que nossos embeddings possuem 4096 dimensões\n"
     ]
    }
   ],
   "source": [
    "print(f'Aqui nós instanciamos o Annoy informando a ele que nossos embeddings possuem {embeds.shape[1]} dimensões')"
   ]
  },
  {
   "cell_type": "markdown",
   "id": "f9732fd5-6afa-43d4-83c9-c3c4f81a6596",
   "metadata": {},
   "source": [
    "Agora vamos adicionar nesta instância criada acima cada um dos 300 overviews convertidos para embeddings"
   ]
  },
  {
   "cell_type": "code",
   "execution_count": 553,
   "id": "c43b72dc-5a15-4017-8750-4d0dcaf4ee64",
   "metadata": {},
   "outputs": [],
   "source": [
    "for i in range(len(embeds)):\n",
    "    #print(i, embeds[i])\n",
    "    search_index.add_item(i, embeds[i])"
   ]
  },
  {
   "cell_type": "markdown",
   "id": "d9cac9d1-1d81-4221-b185-46d908103311",
   "metadata": {},
   "source": [
    "Vamos finalizar o mapeamento instruindo o ***Annoy*** a mapear nossos 300 overviews utilizando uma árvore de tamanho 10. "
   ]
  },
  {
   "cell_type": "code",
   "execution_count": 554,
   "id": "cd13c735-bf0f-4dac-930b-1bcbcdb2dbd1",
   "metadata": {},
   "outputs": [
    {
     "data": {
      "text/plain": [
       "True"
      ]
     },
     "execution_count": 554,
     "metadata": {},
     "output_type": "execute_result"
    }
   ],
   "source": [
    "search_index.build(10)\n",
    "\n",
    "## Para este projeto é opcional salvar um arquivo com o mapeamento\n",
    "#search_index.save('filmes_en.ann')"
   ]
  },
  {
   "cell_type": "markdown",
   "id": "9a690680-9437-4276-bde8-97469f93b76f",
   "metadata": {},
   "source": [
    "Nosso *search_index* está pronto com todo o mapeamento."
   ]
  },
  {
   "cell_type": "markdown",
   "id": "96cb2e9a-0828-42e6-9873-c79b245a4066",
   "metadata": {},
   "source": [
    "### Implementando a busca"
   ]
  },
  {
   "cell_type": "markdown",
   "id": "f1f9dc80-1b94-40f8-99d7-424a5ed9cbc3",
   "metadata": {},
   "source": [
    "A busca precisa cumprir alguns passos:\n",
    "\n",
    "1) Converter a pergunta para embeddings\n",
    "2) Pegar este embedding da pergunta e buscar em nosso catálogo de 300 filmes o embedding que se aproxima mais\n",
    "3) Após encontar os índices dos mais próximos, utilizá-los para encontar os títulos e overviews originais"
   ]
  },
  {
   "cell_type": "code",
   "execution_count": 555,
   "id": "4422200d-474b-429d-974a-89ded8340d3c",
   "metadata": {},
   "outputs": [],
   "source": [
    "def busca(pergunta):\n",
    "    # Faz o embedding da pergunta\n",
    "    embed_pergunta = co.embed(texts=[pergunta]).embeddings\n",
    "    \n",
    "    # Compara a pergunta com o catálogo de 300 filmes e retorna os 10 vizinhos mais próximos da pergunta\n",
    "    similar_item_ids = search_index.get_nns_by_vector(embed_pergunta[0], 10, include_distances=True)\n",
    "    \n",
    "    # Após obter os 10 IDs selecionamos o mais relevante, ou seja, o primeiro\n",
    "    resultado_da_busca = filmes_en.loc[similar_item_ids[0]]\n",
    "    \n",
    "    return (embed_pergunta[0], resultado_da_busca[['original_title','overview','release_date']])"
   ]
  },
  {
   "cell_type": "code",
   "execution_count": 556,
   "id": "3a9a63df-95dd-4f76-8032-ccc11f314198",
   "metadata": {},
   "outputs": [],
   "source": [
    "pergunta = \"Recommend me a movie to watch with my wife\"\n",
    "emb_pergunta, results = busca(pergunta=pergunta)"
   ]
  },
  {
   "cell_type": "code",
   "execution_count": 557,
   "id": "75e319f0-415e-47b0-b957-53ae2900ba73",
   "metadata": {},
   "outputs": [
    {
     "data": {
      "text/html": [
       "<div>\n",
       "<style scoped>\n",
       "    .dataframe tbody tr th:only-of-type {\n",
       "        vertical-align: middle;\n",
       "    }\n",
       "\n",
       "    .dataframe tbody tr th {\n",
       "        vertical-align: top;\n",
       "    }\n",
       "\n",
       "    .dataframe thead th {\n",
       "        text-align: right;\n",
       "    }\n",
       "</style>\n",
       "<table border=\"1\" class=\"dataframe\">\n",
       "  <thead>\n",
       "    <tr style=\"text-align: right;\">\n",
       "      <th></th>\n",
       "      <th>original_title</th>\n",
       "      <th>overview</th>\n",
       "      <th>release_date</th>\n",
       "    </tr>\n",
       "  </thead>\n",
       "  <tbody>\n",
       "    <tr>\n",
       "      <th>211</th>\n",
       "      <td>The Perfect Husband</td>\n",
       "      <td>A woman discovers her new husband wants to kee...</td>\n",
       "      <td>2004-02-12</td>\n",
       "    </tr>\n",
       "    <tr>\n",
       "      <th>275</th>\n",
       "      <td>Lovely, Still</td>\n",
       "      <td>A holiday fable that tells the story of an eld...</td>\n",
       "      <td>2008-01-01</td>\n",
       "    </tr>\n",
       "    <tr>\n",
       "      <th>45</th>\n",
       "      <td>Blind Date</td>\n",
       "      <td>Affected by tragedy, a married couple decide t...</td>\n",
       "      <td>2007-05-16</td>\n",
       "    </tr>\n",
       "    <tr>\n",
       "      <th>31</th>\n",
       "      <td>Let It Be Me</td>\n",
       "      <td>Right after getting engaged, a man starts taki...</td>\n",
       "      <td>1995-11-17</td>\n",
       "    </tr>\n",
       "    <tr>\n",
       "      <th>299</th>\n",
       "      <td>Dinner for One</td>\n",
       "      <td>A very old woman wants to have dinner with her...</td>\n",
       "      <td>1963-06-08</td>\n",
       "    </tr>\n",
       "    <tr>\n",
       "      <th>197</th>\n",
       "      <td>The Face of Love</td>\n",
       "      <td>A widow falls for a guy who bears a striking r...</td>\n",
       "      <td>2013-10-25</td>\n",
       "    </tr>\n",
       "    <tr>\n",
       "      <th>199</th>\n",
       "      <td>Ramona</td>\n",
       "      <td>Half-Indian girl brought up in a wealthy house...</td>\n",
       "      <td>1936-09-25</td>\n",
       "    </tr>\n",
       "    <tr>\n",
       "      <th>36</th>\n",
       "      <td>To Sleep with Anger</td>\n",
       "      <td>An enigmatic drifter from the South comes to v...</td>\n",
       "      <td>1990-09-11</td>\n",
       "    </tr>\n",
       "    <tr>\n",
       "      <th>21</th>\n",
       "      <td>A Decade Under the Influence</td>\n",
       "      <td>Documentary on the effects of 1970s filmmaking.</td>\n",
       "      <td>2003-04-25</td>\n",
       "    </tr>\n",
       "    <tr>\n",
       "      <th>60</th>\n",
       "      <td>Dagmars Heta Trosor</td>\n",
       "      <td>Known to her clients as Dagmar, she's a classy...</td>\n",
       "      <td>1971-10-01</td>\n",
       "    </tr>\n",
       "  </tbody>\n",
       "</table>\n",
       "</div>"
      ],
      "text/plain": [
       "                   original_title   \n",
       "211           The Perfect Husband  \\\n",
       "275                 Lovely, Still   \n",
       "45                     Blind Date   \n",
       "31                   Let It Be Me   \n",
       "299                Dinner for One   \n",
       "197              The Face of Love   \n",
       "199                        Ramona   \n",
       "36            To Sleep with Anger   \n",
       "21   A Decade Under the Influence   \n",
       "60            Dagmars Heta Trosor   \n",
       "\n",
       "                                              overview release_date  \n",
       "211  A woman discovers her new husband wants to kee...   2004-02-12  \n",
       "275  A holiday fable that tells the story of an eld...   2008-01-01  \n",
       "45   Affected by tragedy, a married couple decide t...   2007-05-16  \n",
       "31   Right after getting engaged, a man starts taki...   1995-11-17  \n",
       "299  A very old woman wants to have dinner with her...   1963-06-08  \n",
       "197  A widow falls for a guy who bears a striking r...   2013-10-25  \n",
       "199  Half-Indian girl brought up in a wealthy house...   1936-09-25  \n",
       "36   An enigmatic drifter from the South comes to v...   1990-09-11  \n",
       "21     Documentary on the effects of 1970s filmmaking.   2003-04-25  \n",
       "60   Known to her clients as Dagmar, she's a classy...   1971-10-01  "
      ]
     },
     "execution_count": 557,
     "metadata": {},
     "output_type": "execute_result"
    }
   ],
   "source": [
    "results"
   ]
  },
  {
   "cell_type": "markdown",
   "id": "174b75c1-aed6-4a0e-b94c-f7159cdc34ff",
   "metadata": {},
   "source": [
    "Finalmente temos o DataFrame com os 10 filmes que mais se aproximam da pergunta feita."
   ]
  },
  {
   "cell_type": "markdown",
   "id": "884f1d4e-0762-4343-9cb4-bb6eb1577bc5",
   "metadata": {},
   "source": [
    "### Formatando a saída da busca"
   ]
  },
  {
   "cell_type": "markdown",
   "id": "3c3abed7-585e-45e7-aad2-c1c973d81537",
   "metadata": {},
   "source": [
    "Vamos deixar o resultado da busca um pouco mais claro."
   ]
  },
  {
   "cell_type": "code",
   "execution_count": 558,
   "id": "84859ced-08f7-4aab-9cc7-1009d385c71f",
   "metadata": {},
   "outputs": [
    {
     "name": "stdout",
     "output_type": "stream",
     "text": [
      "A busca mais relevante para a pergunta (em inglês):\n",
      "\n",
      "\"Recommend me a movie to watch with my wife\"\n",
      "\n",
      "é o filme:\n",
      "\"The Perfect Husband\"\n",
      "\n",
      "Resumo (em inglês):\n",
      "\"A woman discovers her new husband wants to keep her all to himself.\"\n"
     ]
    }
   ],
   "source": [
    "title = results.iloc[0]['original_title']\n",
    "overview = results.iloc[0]['overview']\n",
    "print(f'A busca mais relevante para a pergunta (em inglês):\\n\\n\"{pergunta}\"\\n\\né o filme:\\n\"{title}\"\\n\\nResumo (em inglês):\\n\"{overview}\"')"
   ]
  },
  {
   "cell_type": "markdown",
   "id": "ece2f3ed-d8c1-4f85-acc7-aa992de766ed",
   "metadata": {},
   "source": [
    "### Plotando a busca e as respostas"
   ]
  },
  {
   "cell_type": "markdown",
   "id": "fb4df464-af3d-459f-893f-d846fb63f9e6",
   "metadata": {},
   "source": [
    "Vamos olhar graficamente como a pergunta e a resposta anterior estão relacionadas, ou seja, sua proximidade."
   ]
  },
  {
   "cell_type": "markdown",
   "id": "96ffaf6e-b713-4f3e-8192-a46977383e8c",
   "metadata": {},
   "source": [
    "#### Reduzindo a dimensão da pergunta e dos filmes"
   ]
  },
  {
   "cell_type": "code",
   "execution_count": 559,
   "id": "87ae1e04-1cca-4339-b98b-e0eee4ca5763",
   "metadata": {},
   "outputs": [
    {
     "name": "stderr",
     "output_type": "stream",
     "text": [
      "/usr/local/lib/python3.11/site-packages/sklearn/manifold/_spectral_embedding.py:274: UserWarning: Graph is not fully connected, spectral embedding may not work as expected.\n",
      "  warnings.warn(\n"
     ]
    },
    {
     "data": {
      "text/plain": [
       "array([[15.054978  , 12.257607  ],\n",
       "       [10.04974   , -0.41221595]], dtype=float32)"
      ]
     },
     "execution_count": 559,
     "metadata": {},
     "output_type": "execute_result"
    }
   ],
   "source": [
    "na = np.append(embeds, np.array([emb_pergunta]), axis=0)\n",
    "reducer = umap.UMAP(n_neighbors=2)\n",
    "en_embeds_2D = reducer.fit_transform(na)\n",
    "en_embeds_2D[:2]"
   ]
  },
  {
   "cell_type": "code",
   "execution_count": 560,
   "id": "c1546f24-fb3d-493b-88ca-b325b936138f",
   "metadata": {},
   "outputs": [
    {
     "data": {
      "text/html": [
       "<div>\n",
       "<style scoped>\n",
       "    .dataframe tbody tr th:only-of-type {\n",
       "        vertical-align: middle;\n",
       "    }\n",
       "\n",
       "    .dataframe tbody tr th {\n",
       "        vertical-align: top;\n",
       "    }\n",
       "\n",
       "    .dataframe thead th {\n",
       "        text-align: right;\n",
       "    }\n",
       "</style>\n",
       "<table border=\"1\" class=\"dataframe\">\n",
       "  <thead>\n",
       "    <tr style=\"text-align: right;\">\n",
       "      <th></th>\n",
       "      <th>original_title</th>\n",
       "      <th>x</th>\n",
       "      <th>y</th>\n",
       "    </tr>\n",
       "  </thead>\n",
       "  <tbody>\n",
       "    <tr>\n",
       "      <th>296</th>\n",
       "      <td>The Halliday Brand</td>\n",
       "      <td>11.775882</td>\n",
       "      <td>6.330390</td>\n",
       "    </tr>\n",
       "    <tr>\n",
       "      <th>297</th>\n",
       "      <td>Holiday Inn</td>\n",
       "      <td>18.077997</td>\n",
       "      <td>2.309694</td>\n",
       "    </tr>\n",
       "    <tr>\n",
       "      <th>298</th>\n",
       "      <td>Drillbit Taylor</td>\n",
       "      <td>17.554157</td>\n",
       "      <td>7.328094</td>\n",
       "    </tr>\n",
       "    <tr>\n",
       "      <th>299</th>\n",
       "      <td>Dinner for One</td>\n",
       "      <td>11.395221</td>\n",
       "      <td>10.832385</td>\n",
       "    </tr>\n",
       "    <tr>\n",
       "      <th>300</th>\n",
       "      <td>Recommend me a movie to watch with my wife</td>\n",
       "      <td>12.148176</td>\n",
       "      <td>6.554398</td>\n",
       "    </tr>\n",
       "  </tbody>\n",
       "</table>\n",
       "</div>"
      ],
      "text/plain": [
       "                                 original_title          x          y\n",
       "296                          The Halliday Brand  11.775882   6.330390\n",
       "297                                 Holiday Inn  18.077997   2.309694\n",
       "298                             Drillbit Taylor  17.554157   7.328094\n",
       "299                              Dinner for One  11.395221  10.832385\n",
       "300  Recommend me a movie to watch with my wife  12.148176   6.554398"
      ]
     },
     "execution_count": 560,
     "metadata": {},
     "output_type": "execute_result"
    }
   ],
   "source": [
    "df_en_embeds_d2 = filmes_en.original_title.to_frame().copy()\n",
    "df2 = pd.DataFrame([[pergunta]], columns=['original_title'])\n",
    "df_en_embeds_d2 = pd.concat([df_en_embeds_d2,df2], ignore_index=True)\n",
    "\n",
    "df_en_embeds_d2['x'] = en_embeds_2D[:,0]\n",
    "df_en_embeds_d2['y'] = en_embeds_2D[:,1]\n",
    "\n",
    "df_en_embeds_d2.tail()"
   ]
  },
  {
   "cell_type": "markdown",
   "id": "659247b4-228c-48ba-9170-42381efafa4a",
   "metadata": {},
   "source": [
    "#### Plotando filmes + pergunta"
   ]
  },
  {
   "cell_type": "code",
   "execution_count": 561,
   "id": "50fa540e-f775-4638-abeb-bfef79cfa502",
   "metadata": {},
   "outputs": [
    {
     "data": {
      "text/html": [
       "\n",
       "<style>\n",
       "  #altair-viz-d0cf7c612c0d4ad6b2d8aa18a92d2727.vega-embed {\n",
       "    width: 100%;\n",
       "    display: flex;\n",
       "  }\n",
       "\n",
       "  #altair-viz-d0cf7c612c0d4ad6b2d8aa18a92d2727.vega-embed details,\n",
       "  #altair-viz-d0cf7c612c0d4ad6b2d8aa18a92d2727.vega-embed details summary {\n",
       "    position: relative;\n",
       "  }\n",
       "</style>\n",
       "<div id=\"altair-viz-d0cf7c612c0d4ad6b2d8aa18a92d2727\"></div>\n",
       "<script type=\"text/javascript\">\n",
       "  var VEGA_DEBUG = (typeof VEGA_DEBUG == \"undefined\") ? {} : VEGA_DEBUG;\n",
       "  (function(spec, embedOpt){\n",
       "    let outputDiv = document.currentScript.previousElementSibling;\n",
       "    if (outputDiv.id !== \"altair-viz-d0cf7c612c0d4ad6b2d8aa18a92d2727\") {\n",
       "      outputDiv = document.getElementById(\"altair-viz-d0cf7c612c0d4ad6b2d8aa18a92d2727\");\n",
       "    }\n",
       "    const paths = {\n",
       "      \"vega\": \"https://cdn.jsdelivr.net/npm/vega@5?noext\",\n",
       "      \"vega-lib\": \"https://cdn.jsdelivr.net/npm/vega-lib?noext\",\n",
       "      \"vega-lite\": \"https://cdn.jsdelivr.net/npm/vega-lite@5.8.0?noext\",\n",
       "      \"vega-embed\": \"https://cdn.jsdelivr.net/npm/vega-embed@6?noext\",\n",
       "    };\n",
       "\n",
       "    function maybeLoadScript(lib, version) {\n",
       "      var key = `${lib.replace(\"-\", \"\")}_version`;\n",
       "      return (VEGA_DEBUG[key] == version) ?\n",
       "        Promise.resolve(paths[lib]) :\n",
       "        new Promise(function(resolve, reject) {\n",
       "          var s = document.createElement('script');\n",
       "          document.getElementsByTagName(\"head\")[0].appendChild(s);\n",
       "          s.async = true;\n",
       "          s.onload = () => {\n",
       "            VEGA_DEBUG[key] = version;\n",
       "            return resolve(paths[lib]);\n",
       "          };\n",
       "          s.onerror = () => reject(`Error loading script: ${paths[lib]}`);\n",
       "          s.src = paths[lib];\n",
       "        });\n",
       "    }\n",
       "\n",
       "    function showError(err) {\n",
       "      outputDiv.innerHTML = `<div class=\"error\" style=\"color:red;\">${err}</div>`;\n",
       "      throw err;\n",
       "    }\n",
       "\n",
       "    function displayChart(vegaEmbed) {\n",
       "      vegaEmbed(outputDiv, spec, embedOpt)\n",
       "        .catch(err => showError(`Javascript Error: ${err.message}<br>This usually means there's a typo in your chart specification. See the javascript console for the full traceback.`));\n",
       "    }\n",
       "\n",
       "    if(typeof define === \"function\" && define.amd) {\n",
       "      requirejs.config({paths});\n",
       "      require([\"vega-embed\"], displayChart, err => showError(`Error loading script: ${err.message}`));\n",
       "    } else {\n",
       "      maybeLoadScript(\"vega\", \"5\")\n",
       "        .then(() => maybeLoadScript(\"vega-lite\", \"5.8.0\"))\n",
       "        .then(() => maybeLoadScript(\"vega-embed\", \"6\"))\n",
       "        .catch(showError)\n",
       "        .then(() => displayChart(vegaEmbed));\n",
       "    }\n",
       "  })({\"config\": {\"view\": {\"continuousWidth\": 300, \"continuousHeight\": 300}}, \"layer\": [{\"mark\": {\"type\": \"circle\", \"size\": 60}, \"encoding\": {\"tooltip\": [{\"field\": \"original_title\", \"type\": \"nominal\"}], \"x\": {\"field\": \"x\", \"scale\": {\"zero\": false}, \"type\": \"quantitative\"}, \"y\": {\"field\": \"y\", \"scale\": {\"zero\": false}, \"type\": \"quantitative\"}}, \"name\": \"view_11\"}, {\"mark\": {\"type\": \"text\", \"align\": \"left\", \"baseline\": \"middle\"}, \"encoding\": {\"text\": {\"field\": \"original_title\", \"type\": \"nominal\"}, \"tooltip\": [{\"field\": \"original_title\", \"type\": \"nominal\"}], \"x\": {\"field\": \"x\", \"scale\": {\"zero\": false}, \"type\": \"quantitative\"}, \"y\": {\"field\": \"y\", \"scale\": {\"zero\": false}, \"type\": \"quantitative\"}}}], \"data\": {\"name\": \"data-3ccc7c6db1d4365095fca6cabb9233be\"}, \"height\": 400, \"params\": [{\"name\": \"param_30\", \"select\": {\"type\": \"interval\", \"encodings\": [\"x\", \"y\"]}, \"bind\": \"scales\", \"views\": [\"view_11\"]}], \"width\": 700, \"$schema\": \"https://vega.github.io/schema/vega-lite/v5.8.0.json\", \"datasets\": {\"data-3ccc7c6db1d4365095fca6cabb9233be\": [{\"original_title\": \"Grant Morrison:  Talking with Gods\", \"x\": 15.054978370666504, \"y\": 12.257607460021973}, {\"original_title\": \"Falling Angels\", \"x\": 10.049739837646484, \"y\": -0.4122159481048584}, {\"original_title\": \"Collision\", \"x\": 15.181733131408691, \"y\": 12.384612083435059}, {\"original_title\": \"The Pretender 2001\", \"x\": 10.67613410949707, \"y\": -6.423513412475586}, {\"original_title\": \"Kermit's Swamp Years\", \"x\": -1.914263367652893, \"y\": 2.2790942192077637}, {\"original_title\": \"Catching Out\", \"x\": 16.176692962646484, \"y\": -2.502467393875122}, {\"original_title\": \"A Town Called Hell\", \"x\": -3.8656327724456787, \"y\": 15.950360298156738}, {\"original_title\": \"Lisa Lampanelli: Take It Like a Man\", \"x\": 17.513490676879883, \"y\": 13.077624320983887}, {\"original_title\": \"Thumb Tripping\", \"x\": 17.480911254882812, \"y\": 7.390874862670898}, {\"original_title\": \"Love & Basketball\", \"x\": 12.006952285766602, \"y\": 10.876863479614258}, {\"original_title\": \"La femme de chambre du Titanic\", \"x\": 9.814621925354004, \"y\": 15.571914672851562}, {\"original_title\": \"Assault on Precinct 13\", \"x\": -3.266089677810669, \"y\": 7.592541217803955}, {\"original_title\": \"First Men in the Moon\", \"x\": 5.696013927459717, \"y\": 16.07560920715332}, {\"original_title\": \"Takedown: The DNA of GSP\", \"x\": 6.87404727935791, \"y\": 3.1412389278411865}, {\"original_title\": \"Nothing\", \"x\": 11.014148712158203, \"y\": 2.439012289047241}, {\"original_title\": \"Sssssss\", \"x\": -1.7484664916992188, \"y\": 8.368654251098633}, {\"original_title\": \"Project Grizzly\", \"x\": 5.584146499633789, \"y\": -6.627513408660889}, {\"original_title\": \"The Lone Wolf Strikes\", \"x\": -5.4087934494018555, \"y\": -2.474452495574951}, {\"original_title\": \"Beast from Haunted Cave\", \"x\": 17.007312774658203, \"y\": 1.5356029272079468}, {\"original_title\": \"Looking for Richard\", \"x\": 12.682658195495605, \"y\": -10.16825008392334}, {\"original_title\": \"Village of the Damned\", \"x\": -3.670045852661133, \"y\": 15.755239486694336}, {\"original_title\": \"A Decade Under the Influence\", \"x\": -9.902962684631348, \"y\": 6.674200057983398}, {\"original_title\": \"Hollow Point\", \"x\": -1.995134711265564, \"y\": 8.787062644958496}, {\"original_title\": \"Eddie Izzard: Unrepeatable\", \"x\": 13.109213829040527, \"y\": 20.436573028564453}, {\"original_title\": \"Alvin and the Chipmunks: The Squeakquel\", \"x\": -0.6096949577331543, \"y\": -5.395693778991699}, {\"original_title\": \"The Cocoanuts\", \"x\": 17.90021514892578, \"y\": 7.821019649505615}, {\"original_title\": \"The Dog Lover\", \"x\": -4.991188049316406, \"y\": 1.6818084716796875}, {\"original_title\": \"Saw\", \"x\": 17.742238998413086, \"y\": 1.945276141166687}, {\"original_title\": \"Kevorkian\", \"x\": -9.86463451385498, \"y\": 6.712314605712891}, {\"original_title\": \"Housebound\", \"x\": 1.0375186204910278, \"y\": 11.876441955566406}, {\"original_title\": \"Topaze\", \"x\": 4.860738754272461, \"y\": 8.008451461791992}, {\"original_title\": \"Let It Be Me\", \"x\": 12.061628341674805, \"y\": 6.510431289672852}, {\"original_title\": \"The Incredible 2-Headed Transplant\", \"x\": 2.87911319732666, \"y\": 16.6144962310791}, {\"original_title\": \"Tomato Red\", \"x\": 17.554243087768555, \"y\": 7.316391944885254}, {\"original_title\": \"From Prada to Nada\", \"x\": 5.9656267166137695, \"y\": 2.4139773845672607}, {\"original_title\": \"The Bye Bye Man\", \"x\": 12.310673713684082, \"y\": 0.28607460856437683}, {\"original_title\": \"To Sleep with Anger\", \"x\": 6.6511921882629395, \"y\": -4.053987503051758}, {\"original_title\": \"The Chemical Brothers: Don't Think\", \"x\": 13.183966636657715, \"y\": 20.51553726196289}, {\"original_title\": \"The Long Day's Dying\", \"x\": -0.8483209013938904, \"y\": 9.259577751159668}, {\"original_title\": \"Beautiful Stranger\", \"x\": 4.791084289550781, \"y\": 4.143486022949219}, {\"original_title\": \"Who Took Johnny\", \"x\": 11.383090019226074, \"y\": 2.0531554222106934}, {\"original_title\": \"PT 109\", \"x\": -1.0070356130599976, \"y\": 10.221348762512207}, {\"original_title\": \"Tar Creek\", \"x\": 8.253087043762207, \"y\": 17.398900985717773}, {\"original_title\": \"Futurama: The Beast with a Billion Backs\", \"x\": 5.5195207595825195, \"y\": 16.260181427001953}, {\"original_title\": \"Callan\", \"x\": -1.4264576435089111, \"y\": 9.468768119812012}, {\"original_title\": \"Blind Date\", \"x\": 11.818984985351562, \"y\": 10.725468635559082}, {\"original_title\": \"Burying the Ex\", \"x\": 1.8476636409759521, \"y\": 7.279386043548584}, {\"original_title\": \"The Seamstress\", \"x\": 11.678181648254395, \"y\": 0.881389319896698}, {\"original_title\": \"Enchanted\", \"x\": -1.9142985343933105, \"y\": 2.279329776763916}, {\"original_title\": \"Broadway Melody of 1938\", \"x\": 18.154123306274414, \"y\": 2.3820462226867676}, {\"original_title\": \"Spaceballs\", \"x\": 5.547732830047607, \"y\": 16.2337589263916}, {\"original_title\": \"Sebastian\", \"x\": -1.6567548513412476, \"y\": 8.344766616821289}, {\"original_title\": \"Running the Sahara\", \"x\": 15.290257453918457, \"y\": 12.494216918945312}, {\"original_title\": \"The Unearthly\", \"x\": 2.9266011714935303, \"y\": 16.56353187561035}, {\"original_title\": \"Year of the Comet\", \"x\": 6.054208755493164, \"y\": 2.328784465789795}, {\"original_title\": \"Miele\", \"x\": 5.206251621246338, \"y\": 18.10478973388672}, {\"original_title\": \"Evaporating Borders\", \"x\": 8.288925170898438, \"y\": 17.424196243286133}, {\"original_title\": \"Steal Big Steal Little\", \"x\": 17.907386779785156, \"y\": 7.841341972351074}, {\"original_title\": \"Jem and the Holograms\", \"x\": -3.957754611968994, \"y\": 7.21373987197876}, {\"original_title\": \"\\u0421\\u0435\\u043d\\u043a\\u0438\", \"x\": 2.7316231727600098, \"y\": -8.385602951049805}, {\"original_title\": \"Dagmars Heta Trosor\", \"x\": 1.7312382459640503, \"y\": 7.1591033935546875}, {\"original_title\": \"Psychic Killer\", \"x\": 1.1564255952835083, \"y\": 11.977373123168945}, {\"original_title\": \"Hannah Takes the Stairs\", \"x\": 11.005443572998047, \"y\": 2.4195640087127686}, {\"original_title\": \"Waydowntown\", \"x\": -3.0891823768615723, \"y\": 7.070272922515869}, {\"original_title\": \"Too Young to Marry\", \"x\": 5.92264461517334, \"y\": 11.351841926574707}, {\"original_title\": \"Eagle's Wing\", \"x\": -4.003522872924805, \"y\": 16.08816146850586}, {\"original_title\": \"Wanda Sykes: I'ma Be Me\", \"x\": 17.513092041015625, \"y\": 13.077518463134766}, {\"original_title\": \"Driving Lessons\", \"x\": 17.351247787475586, \"y\": 7.678925514221191}, {\"original_title\": \"Kiss Me, Stupid\", \"x\": -12.662543296813965, \"y\": 1.8571791648864746}, {\"original_title\": \"Corruption\", \"x\": 3.076507091522217, \"y\": 16.41607093811035}, {\"original_title\": \"Wake\", \"x\": 1.7679537534713745, \"y\": 7.198536396026611}, {\"original_title\": \"The Trial of Lee Harvey Oswald\", \"x\": -0.9746831655502319, \"y\": 10.25928783416748}, {\"original_title\": \"The Mirror\", \"x\": 17.65431785583496, \"y\": 1.8600389957427979}, {\"original_title\": \"Carefree\", \"x\": 12.161477088928223, \"y\": 0.41860321164131165}, {\"original_title\": \"Speed\", \"x\": -3.310284376144409, \"y\": 7.415614604949951}, {\"original_title\": \"America's Most Haunted Inns\", \"x\": 17.072107315063477, \"y\": 1.5873769521713257}, {\"original_title\": \"Slow Burn\", \"x\": 6.63632345199585, \"y\": -4.038494110107422}, {\"original_title\": \"Snowball Effect: The Story of Clerks\", \"x\": -10.08230972290039, \"y\": 6.494838714599609}, {\"original_title\": \"Jackrabbit\", \"x\": -3.8613367080688477, \"y\": 7.265401840209961}, {\"original_title\": \"The Perfect Match\", \"x\": 12.033343315124512, \"y\": 10.832513809204102}, {\"original_title\": \"The Wolf of Wall Street\", \"x\": -5.409997940063477, \"y\": -2.401981830596924}, {\"original_title\": \"Dark House\", \"x\": 17.23443603515625, \"y\": 1.71405827999115}, {\"original_title\": \"Love in Paradise\", \"x\": 4.788095474243164, \"y\": 4.149461269378662}, {\"original_title\": \"Whatever Lola wants\", \"x\": 12.111186981201172, \"y\": 6.5573225021362305}, {\"original_title\": \"Butch and Sundance: The Early Days\", \"x\": 8.32478141784668, \"y\": 8.620234489440918}, {\"original_title\": \"It Happened Tomorrow\", \"x\": 6.382473945617676, \"y\": -3.783954381942749}, {\"original_title\": \"The Eiger Sanction\", \"x\": -1.4781025648117065, \"y\": 9.523468017578125}, {\"original_title\": \"Shriek If You Know What I Did Last Friday the Thirteenth\", \"x\": 17.736570358276367, \"y\": 1.962182641029358}, {\"original_title\": \"Tarzan's Magic Fountain\", \"x\": -1.9106714725494385, \"y\": 2.2774157524108887}, {\"original_title\": \"American Sniper\", \"x\": -1.4194307327270508, \"y\": 9.515710830688477}, {\"original_title\": \"Shakespeare High\", \"x\": 12.684831619262695, \"y\": -10.170588493347168}, {\"original_title\": \"Mobsters\", \"x\": -1.365190863609314, \"y\": 0.7676075100898743}, {\"original_title\": \"Fear of a Black Hat\", \"x\": 1.671870470046997, \"y\": -1.289955735206604}, {\"original_title\": \"Dinner Rush\", \"x\": 12.347002983093262, \"y\": 4.349133491516113}, {\"original_title\": \"Palace of Electricity\", \"x\": 9.780407905578613, \"y\": 15.538040161132812}, {\"original_title\": \"American Psycho 2: All American Girl\", \"x\": 1.1092984676361084, \"y\": 11.934510231018066}, {\"original_title\": \"Off Limits\", \"x\": -1.8247981071472168, \"y\": 8.979500770568848}, {\"original_title\": \"The Long Kiss Goodnight\", \"x\": -12.64988899230957, \"y\": 1.8443737030029297}, {\"original_title\": \"Don't Change Your Husband\", \"x\": 11.821155548095703, \"y\": 6.35224723815918}, {\"original_title\": \"The N Word\", \"x\": 1.5323888063430786, \"y\": -1.4301092624664307}, {\"original_title\": \"Anita O'Day: The Life of a Jazz Singer\", \"x\": 8.570465087890625, \"y\": 8.871773719787598}, {\"original_title\": \"Liquidation\", \"x\": -2.3041224479675293, \"y\": 8.793103218078613}, {\"original_title\": \"How to Draw a Bunny\", \"x\": -3.9217305183410645, \"y\": 7.227575302124023}, {\"original_title\": \"The Vanishing\", \"x\": 11.289061546325684, \"y\": 2.1653802394866943}, {\"original_title\": \"La casa 3\", \"x\": 5.871363162994385, \"y\": 20.64738655090332}, {\"original_title\": \"The Man\", \"x\": -3.4149060249328613, \"y\": 7.380201816558838}, {\"original_title\": \"Steel Toes\", \"x\": 1.7017779350280762, \"y\": -1.260299801826477}, {\"original_title\": \"Airplane!\", \"x\": 14.569482803344727, \"y\": 5.039621829986572}, {\"original_title\": \"The Mind Snatchers\", \"x\": 2.9079151153564453, \"y\": 16.583332061767578}, {\"original_title\": \"Frank\", \"x\": 0.5943676233291626, \"y\": 4.5683913230896}, {\"original_title\": \"Innerspace\", \"x\": 5.523331642150879, \"y\": 16.251110076904297}, {\"original_title\": \"Thirteen at Dinner\", \"x\": 11.339744567871094, \"y\": 10.82895565032959}, {\"original_title\": \"Decay\", \"x\": 11.112433433532715, \"y\": 10.953078269958496}, {\"original_title\": \"The Champ\", \"x\": 6.018583297729492, \"y\": 2.360529899597168}, {\"original_title\": \"Center Stage : Turn It Up\", \"x\": 12.631299018859863, \"y\": -10.116887092590332}, {\"original_title\": \"House on Haunted Hill\", \"x\": 17.222816467285156, \"y\": 1.7064310312271118}, {\"original_title\": \"The Adventures of Pluto Nash\", \"x\": 5.656015396118164, \"y\": 16.115171432495117}, {\"original_title\": \"Doug Stanhope: No Refunds\", \"x\": 13.055079460144043, \"y\": 20.383338928222656}, {\"original_title\": \"Pro Wrestlers vs Zombies\", \"x\": 12.34229564666748, \"y\": 0.5603333115577698}, {\"original_title\": \"The Empire Strikes Back\", \"x\": 5.547779560089111, \"y\": 16.226926803588867}, {\"original_title\": \"The Fourth War\", \"x\": -1.362406611442566, \"y\": 9.472940444946289}, {\"original_title\": \"American Kickboxer\", \"x\": 6.871037006378174, \"y\": 3.137799024581909}, {\"original_title\": \"Exile Nation: The Plastic People\", \"x\": 8.264116287231445, \"y\": 17.40477752685547}, {\"original_title\": \"Tussenland\", \"x\": 1.741339087486267, \"y\": 7.1695427894592285}, {\"original_title\": \"The Missing Person\", \"x\": 11.283696174621582, \"y\": 2.1574501991271973}, {\"original_title\": \"Two Hundred Thousand Dirty\", \"x\": -2.977485179901123, \"y\": 6.940581321716309}, {\"original_title\": \"Before The Rains\", \"x\": 6.3583807945251465, \"y\": 11.284317970275879}, {\"original_title\": \"An American Crime\", \"x\": 1.0697637796401978, \"y\": 11.903105735778809}, {\"original_title\": \"Having Wonderful Time\", \"x\": 18.209049224853516, \"y\": 2.433743715286255}, {\"original_title\": \"God Is My Co-Pilot\", \"x\": 14.571080207824707, \"y\": 5.038485527038574}, {\"original_title\": \"Stacy\", \"x\": 11.70329475402832, \"y\": 0.8749507069587708}, {\"original_title\": \"House of Frankenstein\", \"x\": 12.057872772216797, \"y\": 0.48653408885002136}, {\"original_title\": \"House of Numbers\", \"x\": 5.5084943771362305, \"y\": -1.6281195878982544}, {\"original_title\": \"Salaam Cinema\", \"x\": 12.880377769470215, \"y\": -10.365996360778809}, {\"original_title\": \"Drive, He Said\", \"x\": 17.221101760864258, \"y\": 7.785271644592285}, {\"original_title\": \"Biggie and Tupac\", \"x\": 6.838881969451904, \"y\": 3.1062581539154053}, {\"original_title\": \"Dave Attell: Road Work\", \"x\": 13.143814086914062, \"y\": 20.47528839111328}, {\"original_title\": \"Knock Knock\", \"x\": -3.899170160293579, \"y\": 15.983638763427734}, {\"original_title\": \"Never Weaken\", \"x\": 11.054854393005371, \"y\": 2.369173765182495}, {\"original_title\": \"Runaway\", \"x\": 16.23663330078125, \"y\": -2.5625991821289062}, {\"original_title\": \"The Dead\", \"x\": 11.18835163116455, \"y\": 10.904678344726562}, {\"original_title\": \"Time Tracers\", \"x\": -1.1333297491073608, \"y\": 10.071670532226562}, {\"original_title\": \"42 One Dream Rush\", \"x\": -10.121190071105957, \"y\": 6.455616474151611}, {\"original_title\": \"Sweet Surrender\", \"x\": -12.790916442871094, \"y\": 1.986065149307251}, {\"original_title\": \"Two Family House\", \"x\": 5.508664131164551, \"y\": -1.6280391216278076}, {\"original_title\": \"Forest of Bliss\", \"x\": 5.775853633880615, \"y\": 11.260287284851074}, {\"original_title\": \"Get on the Bus\", \"x\": -3.4341347217559814, \"y\": 7.3542609214782715}, {\"original_title\": \"Chairman of the Board\", \"x\": -5.360443115234375, \"y\": -2.309704303741455}, {\"original_title\": \"What Lies Beneath\", \"x\": 17.70602035522461, \"y\": 1.8193987607955933}, {\"original_title\": \"Sudden Fear\", \"x\": 4.798880100250244, \"y\": 4.13621711730957}, {\"original_title\": \"The Shanghai Cobra\", \"x\": -1.8160518407821655, \"y\": 8.381592750549316}, {\"original_title\": \"Barbie and the Three Musketeers\", \"x\": -0.5464723110198975, \"y\": -5.332518100738525}, {\"original_title\": \"Christmas in July\", \"x\": 18.165203094482422, \"y\": 2.390214443206787}, {\"original_title\": \"On the Ice\", \"x\": -5.509128093719482, \"y\": -2.706789016723633}, {\"original_title\": \"Hell on Earth: The Fall of Syria and the Rise of ISIS\", \"x\": -3.8790550231933594, \"y\": 15.963751792907715}, {\"original_title\": \"Best Boy\", \"x\": 17.553974151611328, \"y\": 7.311087608337402}, {\"original_title\": \"The Angry Hills\", \"x\": -0.9396197199821472, \"y\": 9.308675765991211}, {\"original_title\": \"Bhoot\", \"x\": 12.713522911071777, \"y\": 13.479351997375488}, {\"original_title\": \"The Mutations\", \"x\": 12.100300788879395, \"y\": 0.4521426260471344}, {\"original_title\": \"Rain Man\", \"x\": 17.95836639404297, \"y\": 7.865278720855713}, {\"original_title\": \"10.5: Apocalypse\", \"x\": 10.536535263061523, \"y\": -6.282922744750977}, {\"original_title\": \"The Floorwalker\", \"x\": -1.7980103492736816, \"y\": 8.369292259216309}, {\"original_title\": \"Dr. Phibes Rises Again\", \"x\": 2.7846758365631104, \"y\": 16.70384407043457}, {\"original_title\": \"Aimy in a Cage\", \"x\": 11.76229476928711, \"y\": 0.836384654045105}, {\"original_title\": \"Stalked by My Doctor: The Return\", \"x\": 11.963197708129883, \"y\": 6.412333965301514}, {\"original_title\": \"The 5th Wave\", \"x\": 10.567159652709961, \"y\": -6.314579486846924}, {\"original_title\": \"Thou Shalt Laugh 2 - The Deuce\", \"x\": 13.142583847045898, \"y\": 20.473451614379883}, {\"original_title\": \"The Raid\", \"x\": -3.2517971992492676, \"y\": 7.656618595123291}, {\"original_title\": \"New Chefs on the Block\", \"x\": 12.354072570800781, \"y\": 4.323547840118408}, {\"original_title\": \"Gone to Earth\", \"x\": 11.349153518676758, \"y\": 2.0894112586975098}, {\"original_title\": \"12:01 PM\", \"x\": -1.0967931747436523, \"y\": 10.107991218566895}, {\"original_title\": \"There Will Be Blood\", \"x\": 8.348889350891113, \"y\": 8.643462181091309}, {\"original_title\": \"Los Bastardos\", \"x\": 6.222710132598877, \"y\": 7.722008228302002}, {\"original_title\": \"The Boys from County Clare\", \"x\": 0.5326747894287109, \"y\": 4.632385730743408}, {\"original_title\": \"The Memory Keeper's Daughter\", \"x\": -12.682452201843262, \"y\": 1.8770811557769775}, {\"original_title\": \"The Rage in Placid Lake\", \"x\": -5.516998767852783, \"y\": -2.7338531017303467}, {\"original_title\": \"The Last House on the Left\", \"x\": 5.871274948120117, \"y\": 20.647661209106445}, {\"original_title\": \"The Moment After 2: The Awakening\", \"x\": 10.635400772094727, \"y\": -6.383094310760498}, {\"original_title\": \"Heart of a Dog\", \"x\": -4.989325523376465, \"y\": 1.6824495792388916}, {\"original_title\": \"The Cotton Club\", \"x\": -1.3366259336471558, \"y\": 0.7398923635482788}, {\"original_title\": \"Diplomatic Courier\", \"x\": -1.0715763568878174, \"y\": 9.391175270080566}, {\"original_title\": \"Terminator Salvation\", \"x\": 4.616002559661865, \"y\": 9.112528800964355}, {\"original_title\": \"Stealing Cars\", \"x\": 17.601680755615234, \"y\": 7.622308731079102}, {\"original_title\": \"When Harry Tries to Marry\", \"x\": 5.971441268920898, \"y\": 11.364025115966797}, {\"original_title\": \"Attila\", \"x\": 12.245437622070312, \"y\": -9.731210708618164}, {\"original_title\": \"The Incredibly Strange Creatures Who Stopped Living and Became Mixed-Up Zombies!!?\", \"x\": 12.159926414489746, \"y\": 0.4533291757106781}, {\"original_title\": \"Matt Besser: Besser Breaks The Record\", \"x\": 13.032317161560059, \"y\": 20.359642028808594}, {\"original_title\": \"The Smurfs\", \"x\": -1.9138199090957642, \"y\": 2.2795495986938477}, {\"original_title\": \"Defendor\", \"x\": 6.374696731567383, \"y\": 7.564809322357178}, {\"original_title\": \"Gormenghast\", \"x\": 11.511273384094238, \"y\": 1.043265461921692}, {\"original_title\": \"The Nostalgist\", \"x\": 2.731590509414673, \"y\": -8.385626792907715}, {\"original_title\": \"Butterfly Girl\", \"x\": 6.002527236938477, \"y\": 2.3712069988250732}, {\"original_title\": \"Spork\", \"x\": 17.557998657226562, \"y\": 7.222658634185791}, {\"original_title\": \"The Cry of the Owl\", \"x\": -5.466516017913818, \"y\": -2.6074862480163574}, {\"original_title\": \"Night Falls on Manhattan\", \"x\": -1.9554517269134521, \"y\": 8.802059173583984}, {\"original_title\": \"George Lopez: It's Not Me, It's You\", \"x\": 17.512392044067383, \"y\": 13.077266693115234}, {\"original_title\": \"Scrapbook\", \"x\": 1.1844375133514404, \"y\": 12.003973960876465}, {\"original_title\": \"The Face of Love\", \"x\": 11.943937301635742, \"y\": 10.520082473754883}, {\"original_title\": \"Welcome to Leith\", \"x\": -3.0768086910247803, \"y\": 7.051217079162598}, {\"original_title\": \"Ramona\", \"x\": 6.12541389465332, \"y\": 11.358081817626953}, {\"original_title\": \"Helen\", \"x\": 5.1928277015686035, \"y\": 18.09658432006836}, {\"original_title\": \"The Dead the Damned and the Darkness\", \"x\": -3.6486499309539795, \"y\": 15.733978271484375}, {\"original_title\": \"Good Luck, Miss Wyckoff\", \"x\": 4.8607707023620605, \"y\": 8.008315086364746}, {\"original_title\": \"Purely Belter\", \"x\": 5.864972114562988, \"y\": 2.5158121585845947}, {\"original_title\": \"Samurai Cop 2: Deadly Vengeance\", \"x\": -1.7948851585388184, \"y\": 8.145289421081543}, {\"original_title\": \"Warriors of Virtue\", \"x\": -1.7859278917312622, \"y\": 8.022029876708984}, {\"original_title\": \"The Dead Girl\", \"x\": 1.757930040359497, \"y\": 7.1898393630981445}, {\"original_title\": \"The Call of the Wild\", \"x\": 5.584051132202148, \"y\": -6.6277642250061035}, {\"original_title\": \"Sagebrush Trail\", \"x\": 8.379193305969238, \"y\": 8.674151420593262}, {\"original_title\": \"A Matter of Life and Death\", \"x\": 10.034119606018066, \"y\": -0.4275152087211609}, {\"original_title\": \"Bertie and Elizabeth\", \"x\": 11.854081153869629, \"y\": 6.394449234008789}, {\"original_title\": \"The Perfect Husband\", \"x\": 11.938984870910645, \"y\": 6.397161960601807}, {\"original_title\": \"Champagne\", \"x\": 5.967764854431152, \"y\": 2.409712314605713}, {\"original_title\": \"Silent Nights\", \"x\": 6.695682525634766, \"y\": -4.0984296798706055}, {\"original_title\": \"Guyana Tragedy: The Story of Jim Jones\", \"x\": 8.23884391784668, \"y\": 17.384756088256836}, {\"original_title\": \"Mon homme\", \"x\": 9.831991195678711, \"y\": 15.590042114257812}, {\"original_title\": \"Heaven's Burning\", \"x\": 6.642714500427246, \"y\": -4.0446343421936035}, {\"original_title\": \"Amber Alert\", \"x\": 11.302852630615234, \"y\": 2.1392977237701416}, {\"original_title\": \"Eternal Sunshine of the Spotless Mind\", \"x\": 11.053208351135254, \"y\": 2.3754513263702393}, {\"original_title\": \"The Lumi\\u00e8re Brothers' First Films\", \"x\": 12.881072044372559, \"y\": -10.366538047790527}, {\"original_title\": \"Oka!\", \"x\": 8.528395652770996, \"y\": 8.827513694763184}, {\"original_title\": \"The Magic Box\", \"x\": 11.748546600341797, \"y\": 6.321768283843994}, {\"original_title\": \"Murder by Phone\", \"x\": -1.4005223512649536, \"y\": 9.526815414428711}, {\"original_title\": \"Jails, Hospitals & Hip-Hop\", \"x\": 1.5182511806488037, \"y\": -1.4445258378982544}, {\"original_title\": \"Sparrows Can't Sing\", \"x\": -12.84122371673584, \"y\": 2.03682541847229}, {\"original_title\": \"Triumph of the Nerds: The Rise of Accidental Empires\", \"x\": -10.09829330444336, \"y\": 6.478487491607666}, {\"original_title\": \"The Island\", \"x\": 3.4671223163604736, \"y\": 2.808072805404663}, {\"original_title\": \"Around the World in 80 Days\", \"x\": 15.306446075439453, \"y\": 12.511332511901855}, {\"original_title\": \"Damsels in Distress\", \"x\": 9.997018814086914, \"y\": -0.46454256772994995}, {\"original_title\": \"Midnight Ride\", \"x\": 6.7213215827941895, \"y\": -4.123781204223633}, {\"original_title\": \"WWE: The Rise & Fall of ECW\", \"x\": 12.440948486328125, \"y\": 0.6362216472625732}, {\"original_title\": \"SOMM: Into the Bottle\", \"x\": 6.162604808807373, \"y\": 2.2316856384277344}, {\"original_title\": \"Below Zero\", \"x\": 0.6043615937232971, \"y\": 4.556803226470947}, {\"original_title\": \"The Patent Leather Kid\", \"x\": 6.87994384765625, \"y\": 3.1464462280273438}, {\"original_title\": \"Divorcing Jack\", \"x\": 11.165575981140137, \"y\": 10.910876274108887}, {\"original_title\": \"Man Push Cart\", \"x\": 17.984577178955078, \"y\": 7.887106418609619}, {\"original_title\": \"The Polar Express\", \"x\": 12.057860374450684, \"y\": 10.294425010681152}, {\"original_title\": \"War of the Buttons\", \"x\": 0.552277684211731, \"y\": 4.615001678466797}, {\"original_title\": \"Shaft\", \"x\": -3.471935987472534, \"y\": 7.377764701843262}, {\"original_title\": \"The Gingerdead Man\", \"x\": 12.28443431854248, \"y\": 0.29991668462753296}, {\"original_title\": \"Oklahoma City\", \"x\": 8.247095108032227, \"y\": 17.395877838134766}, {\"original_title\": \"The Gay Bed and Breakfast of Terror\", \"x\": 17.994766235351562, \"y\": 2.2439565658569336}, {\"original_title\": \"In the Land of Women\", \"x\": -2.4603817462921143, \"y\": 8.644959449768066}, {\"original_title\": \"Tonight It's Me\", \"x\": 6.3914794921875, \"y\": -3.7955923080444336}, {\"original_title\": \"Inside The Dark Web\", \"x\": -3.890876054763794, \"y\": 7.259753704071045}, {\"original_title\": \"Love\", \"x\": 6.388769626617432, \"y\": 11.264888763427734}, {\"original_title\": \"Avenging Angel\", \"x\": 10.06736946105957, \"y\": -0.4001987874507904}, {\"original_title\": \"Bigger Stronger Faster*\", \"x\": -3.37377667427063, \"y\": 7.342015743255615}, {\"original_title\": \"Worth Winning\", \"x\": 12.015950202941895, \"y\": 10.870318412780762}, {\"original_title\": \"Fright Night 2: New Blood\", \"x\": 11.949766159057617, \"y\": 0.5893262624740601}, {\"original_title\": \"Transformers: Age of Extinction\", \"x\": 4.617247104644775, \"y\": 9.110459327697754}, {\"original_title\": \"Fifty Shades Darker\", \"x\": 11.789981842041016, \"y\": 10.760666847229004}, {\"original_title\": \"Smothered\", \"x\": 17.658109664916992, \"y\": 1.91758131980896}, {\"original_title\": \"Before the Flood\", \"x\": 6.326251983642578, \"y\": 11.312969207763672}, {\"original_title\": \"The Wood\", \"x\": 5.783308982849121, \"y\": 11.259614944458008}, {\"original_title\": \"Jogwa - The Awakening\", \"x\": 12.713343620300293, \"y\": 13.479381561279297}, {\"original_title\": \"Last Resort\", \"x\": -2.122764825820923, \"y\": 8.7543363571167}, {\"original_title\": \"Dorothy Mills\", \"x\": 5.204472541809082, \"y\": 18.105501174926758}, {\"original_title\": \"Caesar and Cleopatra\", \"x\": 12.341375350952148, \"y\": -9.827278137207031}, {\"original_title\": \"Don't Let Me Drown\", \"x\": 6.43446159362793, \"y\": 11.301738739013672}, {\"original_title\": \"Nacho Libre\", \"x\": 6.211247444152832, \"y\": 7.731644153594971}, {\"original_title\": \"Baxter\", \"x\": -4.989613056182861, \"y\": 1.682314157485962}, {\"original_title\": \"Champion\", \"x\": 6.301645755767822, \"y\": 7.640384674072266}, {\"original_title\": \"This Property Is Condemned\", \"x\": -2.418961763381958, \"y\": 8.686792373657227}, {\"original_title\": \"GoodFellas\", \"x\": -1.42166268825531, \"y\": 0.8241361379623413}, {\"original_title\": \"Dionysus in '69\", \"x\": 12.484945297241211, \"y\": -9.970746994018555}, {\"original_title\": \"The Stand\", \"x\": -3.622488498687744, \"y\": 15.707695960998535}, {\"original_title\": \"Aliens in the Attic\", \"x\": -0.5774824619293213, \"y\": -5.363622188568115}, {\"original_title\": \"Big Top Pee-wee\", \"x\": 12.280782699584961, \"y\": 0.29055336117744446}, {\"original_title\": \"Carry On Matron\", \"x\": 3.112758159637451, \"y\": 16.382312774658203}, {\"original_title\": \"Brink!\", \"x\": -0.5780991911888123, \"y\": -5.363893032073975}, {\"original_title\": \"Getting In\", \"x\": 17.159910202026367, \"y\": 7.8456010818481445}, {\"original_title\": \"Walking with the Enemy\", \"x\": -0.8065934181213379, \"y\": 9.233588218688965}, {\"original_title\": \"The Ghost Train\", \"x\": 16.168004989624023, \"y\": -2.493886947631836}, {\"original_title\": \"Alvarez Kelly\", \"x\": -3.9639573097229004, \"y\": 16.04868507385254}, {\"original_title\": \"Lovely, Still\", \"x\": 12.02892017364502, \"y\": 10.357583999633789}, {\"original_title\": \"Pr\\u00edbehy obycejn\\u00e9ho s\\u00edlenstv\\u00ed\", \"x\": 14.568673133850098, \"y\": 5.0398850440979}, {\"original_title\": \"The Glass Menagerie\", \"x\": 2.731590509414673, \"y\": -8.385595321655273}, {\"original_title\": \"Terror Train\", \"x\": 16.17607307434082, \"y\": -2.50199556350708}, {\"original_title\": \"Hero's Island\", \"x\": -2.1243996620178223, \"y\": 8.7181978225708}, {\"original_title\": \"The Island President\", \"x\": 3.467550277709961, \"y\": 2.8084707260131836}, {\"original_title\": \"Stuey\", \"x\": -5.39406681060791, \"y\": -2.3551185131073}, {\"original_title\": \"The Hunger Games: Mockingjay - Part 1\", \"x\": 11.799206733703613, \"y\": 0.7997947335243225}, {\"original_title\": \"Deewane Huye Paagal\", \"x\": 12.713685035705566, \"y\": 13.479414939880371}, {\"original_title\": \"Bruce Almighty\", \"x\": 15.031891822814941, \"y\": 12.233711242675781}, {\"original_title\": \"Body Parts\", \"x\": 2.8749992847442627, \"y\": 16.62004280090332}, {\"original_title\": \"Castle in the Desert\", \"x\": 11.486869812011719, \"y\": 1.0618594884872437}, {\"original_title\": \"Sweet Liberty\", \"x\": -12.818055152893066, \"y\": 2.0134944915771484}, {\"original_title\": \"Beats Rhymes & Life: The Travels of A Tribe Called Quest\", \"x\": 1.5270320177078247, \"y\": -1.433475136756897}, {\"original_title\": \"The Exorcist\", \"x\": 10.516022682189941, \"y\": -6.263509750366211}, {\"original_title\": \"Rites of Passage\", \"x\": 8.441494941711426, \"y\": 8.738079071044922}, {\"original_title\": \"Tale of the Mummy\", \"x\": 2.7503833770751953, \"y\": 16.74309730529785}, {\"original_title\": \"The Mod Squad\", \"x\": -3.1850011348724365, \"y\": 7.725461006164551}, {\"original_title\": \"Creation\", \"x\": 15.16230583190918, \"y\": 12.366104125976562}, {\"original_title\": \"11.22.63\", \"x\": -1.111937165260315, \"y\": 10.097304344177246}, {\"original_title\": \"21 Grams\", \"x\": -1.1008014678955078, \"y\": 10.108705520629883}, {\"original_title\": \"The Halliday Brand\", \"x\": 11.77588176727295, \"y\": 6.330389976501465}, {\"original_title\": \"Holiday Inn\", \"x\": 18.0779972076416, \"y\": 2.3096935749053955}, {\"original_title\": \"Drillbit Taylor\", \"x\": 17.554157257080078, \"y\": 7.328094482421875}, {\"original_title\": \"Dinner for One\", \"x\": 11.395220756530762, \"y\": 10.832385063171387}, {\"original_title\": \"Recommend me a movie to watch with my wife\", \"x\": 12.148176193237305, \"y\": 6.5543975830078125}]}}, {\"mode\": \"vega-lite\"});\n",
       "</script>"
      ],
      "text/plain": [
       "alt.LayerChart(...)"
      ]
     },
     "execution_count": 561,
     "metadata": {},
     "output_type": "execute_result"
    }
   ],
   "source": [
    "chart = alt.Chart(df_en_embeds_d2).mark_circle(size=60).encode(\n",
    "    x=#'x',\n",
    "    alt.X('x',\n",
    "        scale=alt.Scale(zero=False)\n",
    "    ),\n",
    "    y=alt.Y('y',\n",
    "        scale=alt.Scale(zero=False)\n",
    "    ),\n",
    "    tooltip=['original_title']\n",
    ").properties(\n",
    "    width=700,\n",
    "    height=400\n",
    ")\n",
    "\n",
    "text = chart.mark_text(\n",
    "    align='left',\n",
    "    baseline='middle',\n",
    ").encode(\n",
    "    text='original_title'\n",
    ")\n",
    "\n",
    "chart_with_labels = (chart + text)\n",
    "chart_with_labels.interactive()"
   ]
  },
  {
   "cell_type": "markdown",
   "id": "698c8483-60d2-484e-8747-01be0fcacbc1",
   "metadata": {},
   "source": [
    "![](data/visualization-9.svg)"
   ]
  },
  {
   "cell_type": "markdown",
   "id": "b9881a30-3b60-4b02-a28d-5696e38debb6",
   "metadata": {},
   "source": [
    "Acima está a imagem de um zoom exibindo a posição da pergunta \"Recommend me a movie to watch with my wife\" e os filmes mais próximos, no caso o mais próximo é o \"The Perfect Husband\" que é nossa resposta final."
   ]
  },
  {
   "cell_type": "markdown",
   "id": "1a533108-ac01-4574-9a21-963984c32705",
   "metadata": {},
   "source": [
    "### Resposta gerada por Generative AI"
   ]
  },
  {
   "cell_type": "markdown",
   "id": "10be9888-bc8f-43fe-b0b3-7e64f77f3f64",
   "metadata": {},
   "source": [
    "Podemos melhorar a resposta de modo a parecer uma pessoa incluindo AI Generativa.\n",
    "\n",
    "Referência: https://docs.cohere.com/reference/generate"
   ]
  },
  {
   "cell_type": "markdown",
   "id": "515b2e69-c18c-4fbe-a709-95fd3dd32025",
   "metadata": {},
   "source": [
    "A resposta precisa cumprir alguns passos:\n",
    "\n",
    "1) Receber a pergunta e o resultado da busca\n",
    "2) Criar um prompt inserindo estes dados e explicando como responder a partir dos dados fornecidos\n",
    "3) Enviar o prompt para a API da ***Cohere*** com as configurações necessárias para uma boa resposta\n",
    "4) Retornar o resultado\n",
    "\n",
    "***OBS***: A resposta da Generative API pode variar a cada vez que for rodada pois é uma característica das AIs generativas."
   ]
  },
  {
   "cell_type": "code",
   "execution_count": 562,
   "id": "70971cb7-e989-4ccf-8aec-c57a7afd5955",
   "metadata": {},
   "outputs": [],
   "source": [
    "def pergunte_sobre_filmes(pergunta, resultado, num_generations=1):\n",
    "    # Resultado mais relevante.\n",
    "    titulo = resultado.iloc[0]['original_title']\n",
    "    resumo = resultado.iloc[0]['overview']\n",
    "\n",
    "    # Prepara o prompt\n",
    "    prompt = f\"\"\"\n",
    "    User's input: {pergunta}.\n",
    "    Title and overview of movie than matches the user's input: {titulo} - {resumo}.\n",
    "    \n",
    "    Return an answer up to 60 words to user based on text above.\n",
    "    \"\"\"\n",
    "\n",
    "    # Chama a API Generative AI passando o prompt as configurações necessárias para a resposta\n",
    "    predicao = co.generate(\n",
    "        prompt=prompt,\n",
    "        max_tokens=70,\n",
    "        model=\"command-nightly\",\n",
    "        temperature=0.5,\n",
    "        num_generations=num_generations\n",
    "    )\n",
    "\n",
    "    return predicao.generations"
   ]
  },
  {
   "cell_type": "code",
   "execution_count": 563,
   "id": "a5a26d98-b072-4de5-adc4-a800640be95a",
   "metadata": {},
   "outputs": [
    {
     "name": "stderr",
     "output_type": "stream",
     "text": [
      "Your text contains a trailing whitespace, which has been trimmed to ensure high quality generations.\n"
     ]
    },
    {
     "data": {
      "text/html": [
       "<table border=\"1\" class=\"dataframe\">\n",
       "  <thead>\n",
       "    <tr style=\"text-align: right;\">\n",
       "      <th></th>\n",
       "      <th>prompt</th>\n",
       "      <th>text</th>\n",
       "    </tr>\n",
       "  </thead>\n",
       "  <tbody>\n",
       "    <tr>\n",
       "      <th>0</th>\n",
       "      <td>User's input: Recommend me a movie to watch with my wife.\n",
       "    Title and overview of movie than matches the user's input: The Perfect Husband - A woman discovers her new husband wants to keep her all to himself..\n",
       "    \n",
       "    Return an answer up to 60 words to user based on text above.</td>\n",
       "      <td>A thriller about a woman who has to outsmart her new husband to stay alive!  It's a great movie for a date night, with twists and turns that will keep you on the edge of your seat. \n",
       "This film, directed by Michael Sucsy, is a great date night movie that will keep you entertained and thrilled!</td>\n",
       "    </tr>\n",
       "  </tbody>\n",
       "</table>"
      ],
      "text/plain": [
       "cohere.Generation {\n",
       "\tid: 22a2bca1-1972-4e4e-802f-3ff82ef76fb6\n",
       "\tprompt: \n",
       "    User's input: Recommend me a movie to watch with my wife.\n",
       "    Title and overview of movie than matches the user's input: The Perfect Husband - A woman discovers her new husband wants to keep her all to himself..\n",
       "    \n",
       "    Return an answer up to 60 words to user based on text above.\n",
       "\n",
       "\ttext: A thriller about a woman who has to outsmart her new husband to stay alive!  It's a great movie for a date night, with twists and turns that will keep you on the edge of your seat. \n",
       "This film, directed by Michael Sucsy, is a great date night movie that will keep you entertained and thrilled!  \n",
       "\n",
       "\tlikelihood: None\n",
       "\tfinish_reason: MAX_TOKENS\n",
       "\ttoken_likelihoods: None\n",
       "}"
      ]
     },
     "execution_count": 563,
     "metadata": {},
     "output_type": "execute_result"
    }
   ],
   "source": [
    "resposta = pergunte_sobre_filmes(pergunta=\"Recommend me a movie to watch with my wife\", resultado=results)\n",
    "resposta[0]"
   ]
  },
  {
   "cell_type": "code",
   "execution_count": 564,
   "id": "fe424481-1cfa-447e-a4c8-8db5a667778a",
   "metadata": {},
   "outputs": [
    {
     "data": {
      "text/plain": [
       "\"A thriller about a woman who has to outsmart her new husband to stay alive!  It's a great movie for a date night, with twists and turns that will keep you on the edge of your seat. \\nThis film, directed by Michael Sucsy, is a great date night movie that will keep you entertained and thrilled!  \\n\""
      ]
     },
     "execution_count": 564,
     "metadata": {},
     "output_type": "execute_result"
    }
   ],
   "source": [
    "str(resposta[0])"
   ]
  },
  {
   "cell_type": "markdown",
   "id": "aaf58319-555a-4c3a-985c-ab3f7ffb45d3",
   "metadata": {},
   "source": [
    "## <span style=\"color: #6850e5;\">Conclusão</span>"
   ]
  },
  {
   "cell_type": "markdown",
   "id": "49342d5c-dea8-4d77-bc7f-f9ad8202cdc6",
   "metadata": {},
   "source": [
    "Com a utilização de ***embeddings*** de uma LLM e ***Generative AI*** foi possivel desenvolver um sistema de recomendação de filmes baseado em um dataset.\n",
    "\n",
    "Porém antes disso vimos como os ***embeddings*** nos ajudam a mapear os relacionamentos entre textos baseados em seus contextos. É a partir da proximidade destes relacionamentos que conseguimos relacionar também uma pergunta com a melhor resposta, que seria aquela mais próxima vetorialmente.\n",
    "\n",
    "Com o avanço das tecnologias de AI e a disponibilização de APIs para interagir com estas AIs temos uma enorme gama de coisas que podemos fazer. As ferramentas disponibilizadas mais as técnicas de manipulação de dados e programação podem nos proporcionar aplicações impensáveis há alguns anos atrás."
   ]
  },
  {
   "cell_type": "code",
   "execution_count": null,
   "id": "ecab1fbd-1edb-4f6b-8cd6-737a3f9c60dd",
   "metadata": {},
   "outputs": [],
   "source": []
  }
 ],
 "metadata": {
  "kernelspec": {
   "display_name": "Python 3 (ipykernel)",
   "language": "python",
   "name": "python3"
  },
  "language_info": {
   "codemirror_mode": {
    "name": "ipython",
    "version": 3
   },
   "file_extension": ".py",
   "mimetype": "text/x-python",
   "name": "python",
   "nbconvert_exporter": "python",
   "pygments_lexer": "ipython3",
   "version": "3.11.3"
  }
 },
 "nbformat": 4,
 "nbformat_minor": 5
}
